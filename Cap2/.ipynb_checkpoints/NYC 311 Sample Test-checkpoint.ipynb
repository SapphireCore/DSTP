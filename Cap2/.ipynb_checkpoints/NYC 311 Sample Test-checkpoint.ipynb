{
 "cells": [
  {
   "cell_type": "code",
   "execution_count": null,
   "metadata": {
    "collapsed": true
   },
   "outputs": [],
   "source": []
  },
  {
   "cell_type": "markdown",
   "metadata": {
    "collapsed": true
   },
   "source": [
    "### Subsample datasets for model development\n",
    "First installed subsample package through pip, then changed directory to NYC311 data folder and run command as follows to randomly draw 50,000 rows:\n",
    "\n",
    "`subsample -n 500000 311_Service_Requests_from_2010_to_Present.csv -r > nyc311_sample.csv`"
   ]
  },
  {
   "cell_type": "code",
   "execution_count": 17,
   "metadata": {},
   "outputs": [],
   "source": [
    "# Load packages\n",
    "import pandas as pd\n",
    "\n",
    "import dask\n",
    "import h2o\n",
    "import findspark\n",
    "findspark.init()\n",
    "import pyspark"
   ]
  },
  {
   "cell_type": "code",
   "execution_count": 6,
   "metadata": {},
   "outputs": [
    {
     "name": "stderr",
     "output_type": "stream",
     "text": [
      "C:\\ProgramData\\Anaconda3\\lib\\site-packages\\IPython\\core\\interactiveshell.py:2698: DtypeWarning: Columns (17,39,47) have mixed types. Specify dtype option on import or set low_memory=False.\n",
      "  interactivity=interactivity, compiler=compiler, result=result)\n"
     ]
    },
    {
     "name": "stdout",
     "output_type": "stream",
     "text": [
      "<class 'pandas.core.frame.DataFrame'>\n",
      "RangeIndex: 50000 entries, 0 to 49999\n",
      "Data columns (total 53 columns):\n",
      "Unique Key                        50000 non-null int64\n",
      "Created Date                      50000 non-null object\n",
      "Closed Date                       48302 non-null object\n",
      "Agency                            50000 non-null object\n",
      "Agency Name                       50000 non-null object\n",
      "Complaint Type                    50000 non-null object\n",
      "Descriptor                        49437 non-null object\n",
      "Location Type                     37020 non-null object\n",
      "Incident Zip                      46543 non-null float64\n",
      "Incident Address                  39004 non-null object\n",
      "Street Name                       38999 non-null object\n",
      "Cross Street 1                    34556 non-null object\n",
      "Cross Street 2                    34357 non-null object\n",
      "Intersection Street 1             7787 non-null object\n",
      "Intersection Street 2             7767 non-null object\n",
      "Address Type                      47657 non-null object\n",
      "City                              46558 non-null object\n",
      "Landmark                          18 non-null object\n",
      "Facility Type                     12564 non-null object\n",
      "Status                            50000 non-null object\n",
      "Due Date                          20763 non-null object\n",
      "Resolution Description            48126 non-null object\n",
      "Resolution Action Updated Date    48920 non-null object\n",
      "Community Board                   50000 non-null object\n",
      "Borough                           50000 non-null object\n",
      "X Coordinate (State Plane)        44742 non-null float64\n",
      "Y Coordinate (State Plane)        44742 non-null float64\n",
      "Park Facility Name                50000 non-null object\n",
      "Park Borough                      50000 non-null object\n",
      "School Name                       50000 non-null object\n",
      "School Number                     49985 non-null object\n",
      "School Region                     49699 non-null object\n",
      "School Code                       49699 non-null object\n",
      "School Phone Number               50000 non-null object\n",
      "School Address                    50000 non-null object\n",
      "School City                       50000 non-null object\n",
      "School State                      50000 non-null object\n",
      "School Zip                        50000 non-null object\n",
      "School Not Found                  20452 non-null object\n",
      "School or Citywide Complaint      6 non-null object\n",
      "Vehicle Type                      22 non-null object\n",
      "Taxi Company Borough              55 non-null object\n",
      "Taxi Pick Up Location             387 non-null object\n",
      "Bridge Highway Name               116 non-null object\n",
      "Bridge Highway Direction          116 non-null object\n",
      "Road Ramp                         113 non-null object\n",
      "Bridge Highway Segment            156 non-null object\n",
      "Garage Lot Name                   14 non-null object\n",
      "Ferry Direction                   15 non-null object\n",
      "Ferry Terminal Name               52 non-null object\n",
      "Latitude                          44742 non-null float64\n",
      "Longitude                         44742 non-null float64\n",
      "Location                          44742 non-null object\n",
      "dtypes: float64(5), int64(1), object(47)\n",
      "memory usage: 20.2+ MB\n"
     ]
    }
   ],
   "source": [
    "# Load sample dataset\n",
    "nyc = pd.read_csv(\"../NYC311/nyc311_sample.csv\")\n",
    "nyc.info()"
   ]
  },
  {
   "cell_type": "markdown",
   "metadata": {},
   "source": [
    "### Using Apache Spark\n"
   ]
  },
  {
   "cell_type": "code",
   "execution_count": null,
   "metadata": {
    "collapsed": true
   },
   "outputs": [],
   "source": []
  },
  {
   "cell_type": "code",
   "execution_count": 24,
   "metadata": {},
   "outputs": [],
   "source": [
    "sqlContext = pyspark.SQLContext(sc)\n",
    "train = sqlContext.read.format(\"com.databricks.spark.csv\").options(header='true').load('../NYC311/311_Service_Requests_from_2010_to_Present.csv')"
   ]
  },
  {
   "cell_type": "markdown",
   "metadata": {},
   "source": [
    "### Using Dask"
   ]
  },
  {
   "cell_type": "code",
   "execution_count": 27,
   "metadata": {},
   "outputs": [
    {
     "data": {
      "text/plain": [
       "16745063"
      ]
     },
     "execution_count": 27,
     "metadata": {},
     "output_type": "execute_result"
    }
   ],
   "source": [
    "train.count()\n"
   ]
  },
  {
   "cell_type": "markdown",
   "metadata": {},
   "source": [
    "### Using h2o.ai"
   ]
  },
  {
   "cell_type": "code",
   "execution_count": null,
   "metadata": {
    "collapsed": true
   },
   "outputs": [],
   "source": []
  }
 ],
 "metadata": {
  "kernelspec": {
   "display_name": "Python 3",
   "language": "python",
   "name": "python3"
  },
  "language_info": {
   "codemirror_mode": {
    "name": "ipython",
    "version": 3
   },
   "file_extension": ".py",
   "mimetype": "text/x-python",
   "name": "python",
   "nbconvert_exporter": "python",
   "pygments_lexer": "ipython3",
   "version": "3.6.3"
  }
 },
 "nbformat": 4,
 "nbformat_minor": 2
}
