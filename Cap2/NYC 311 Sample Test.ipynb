{
 "cells": [
  {
   "cell_type": "code",
   "execution_count": null,
   "metadata": {
    "collapsed": true
   },
   "outputs": [],
   "source": []
  },
  {
   "cell_type": "markdown",
   "metadata": {
    "collapsed": true
   },
   "source": [
    "### Subsample datasets for model development\n",
    "First installed subsample package through pip, then changed directory to NYC311 data folder and run command as follows to randomly draw 50,000 rows:\n",
    "\n",
    "`subsample -n 500000 311_Service_Requests_from_2010_to_Present.csv -r > nyc311_sample.csv`"
   ]
  },
  {
   "cell_type": "code",
   "execution_count": 17,
   "metadata": {},
   "outputs": [],
   "source": [
    "# Load packages\n",
    "import pandas as pd\n",
    "\n",
    "import dask\n",
    "import h2o\n",
    "import findspark\n",
    "findspark.init()\n",
    "import pyspark"
   ]
  },
  {
   "cell_type": "code",
   "execution_count": 29,
   "metadata": {},
   "outputs": [
    {
     "name": "stdout",
     "output_type": "stream",
     "text": [
      "<class 'pandas.core.frame.DataFrame'>\n",
      "RangeIndex: 50000 entries, 0 to 49999\n",
      "Data columns (total 53 columns):\n",
      "Unique Key                        50000 non-null int64\n",
      "Created Date                      50000 non-null object\n",
      "Closed Date                       48302 non-null object\n",
      "Agency                            50000 non-null object\n",
      "Agency Name                       50000 non-null object\n",
      "Complaint Type                    50000 non-null object\n",
      "Descriptor                        49437 non-null object\n",
      "Location Type                     37020 non-null object\n",
      "Incident Zip                      46543 non-null float64\n",
      "Incident Address                  39004 non-null object\n",
      "Street Name                       38999 non-null object\n",
      "Cross Street 1                    34556 non-null object\n",
      "Cross Street 2                    34357 non-null object\n",
      "Intersection Street 1             7787 non-null object\n",
      "Intersection Street 2             7767 non-null object\n",
      "Address Type                      47657 non-null object\n",
      "City                              46558 non-null object\n",
      "Landmark                          18 non-null object\n",
      "Facility Type                     12564 non-null object\n",
      "Status                            50000 non-null object\n",
      "Due Date                          20763 non-null object\n",
      "Resolution Description            48126 non-null object\n",
      "Resolution Action Updated Date    48920 non-null object\n",
      "Community Board                   50000 non-null object\n",
      "Borough                           50000 non-null object\n",
      "X Coordinate (State Plane)        44742 non-null float64\n",
      "Y Coordinate (State Plane)        44742 non-null float64\n",
      "Park Facility Name                50000 non-null object\n",
      "Park Borough                      50000 non-null object\n",
      "School Name                       50000 non-null object\n",
      "School Number                     49985 non-null object\n",
      "School Region                     49699 non-null object\n",
      "School Code                       49699 non-null object\n",
      "School Phone Number               50000 non-null object\n",
      "School Address                    50000 non-null object\n",
      "School City                       50000 non-null object\n",
      "School State                      50000 non-null object\n",
      "School Zip                        50000 non-null object\n",
      "School Not Found                  20452 non-null object\n",
      "School or Citywide Complaint      6 non-null object\n",
      "Vehicle Type                      22 non-null object\n",
      "Taxi Company Borough              55 non-null object\n",
      "Taxi Pick Up Location             387 non-null object\n",
      "Bridge Highway Name               116 non-null object\n",
      "Bridge Highway Direction          116 non-null object\n",
      "Road Ramp                         113 non-null object\n",
      "Bridge Highway Segment            156 non-null object\n",
      "Garage Lot Name                   14 non-null object\n",
      "Ferry Direction                   15 non-null object\n",
      "Ferry Terminal Name               52 non-null object\n",
      "Latitude                          44742 non-null float64\n",
      "Longitude                         44742 non-null float64\n",
      "Location                          44742 non-null object\n",
      "dtypes: float64(5), int64(1), object(47)\n",
      "memory usage: 20.2+ MB\n"
     ]
    }
   ],
   "source": [
    "# Load sample dataset\n",
    "nyc = pd.read_csv(\"../NYC311/nyc311_sample.csv\", low_memory=False)\n",
    "nyc.info()"
   ]
  },
  {
   "cell_type": "markdown",
   "metadata": {},
   "source": [
    "### Using Apache Spark\n"
   ]
  },
  {
   "cell_type": "code",
   "execution_count": null,
   "metadata": {
    "collapsed": true
   },
   "outputs": [],
   "source": []
  },
  {
   "cell_type": "code",
   "execution_count": 24,
   "metadata": {},
   "outputs": [],
   "source": [
    "sqlContext = pyspark.SQLContext(sc)\n",
    "train = sqlContext.read.format(\"com.databricks.spark.csv\").options(header='true').load('../NYC311/311_Service_Requests_from_2010_to_Present.csv')"
   ]
  },
  {
   "cell_type": "markdown",
   "metadata": {},
   "source": [
    "### Using Dask"
   ]
  },
  {
   "cell_type": "code",
   "execution_count": 27,
   "metadata": {},
   "outputs": [
    {
     "data": {
      "text/plain": [
       "16745063"
      ]
     },
     "execution_count": 27,
     "metadata": {},
     "output_type": "execute_result"
    }
   ],
   "source": [
    "train.count()\n"
   ]
  },
  {
   "cell_type": "markdown",
   "metadata": {},
   "source": [
    "### Using h2o.ai"
   ]
  },
  {
   "cell_type": "code",
   "execution_count": null,
   "metadata": {},
   "outputs": [
    {
     "name": "stdout",
     "output_type": "stream",
     "text": [
      "Checking whether there is an H2O instance running at http://localhost:54321..... not found.\n",
      "Attempting to start a local H2O server...\n",
      "; Java HotSpot(TM) 64-Bit Server VM (build 25.161-b12, mixed mode)\n",
      "  Starting server from C:\\ProgramData\\Anaconda3\\lib\\site-packages\\h2o\\backend\\bin\\h2o.jar\n",
      "  Ice root: C:\\Users\\Anna\\AppData\\Local\\Temp\\tmplsat9k0e\n",
      "  JVM stdout: C:\\Users\\Anna\\AppData\\Local\\Temp\\tmplsat9k0e\\h2o_Anna_started_from_python.out\n",
      "  JVM stderr: C:\\Users\\Anna\\AppData\\Local\\Temp\\tmplsat9k0e\\h2o_Anna_started_from_python.err\n",
      "  Server is running at http://127.0.0.1:54321\n",
      "Connecting to H2O server at http://127.0.0.1:54321... successful.\n"
     ]
    },
    {
     "data": {
      "text/html": [
       "<div style=\"overflow:auto\"><table style=\"width:50%\"><tr><td>H2O cluster uptime:</td>\n",
       "<td>04 secs</td></tr>\n",
       "<tr><td>H2O cluster timezone:</td>\n",
       "<td>America/Chicago</td></tr>\n",
       "<tr><td>H2O data parsing timezone:</td>\n",
       "<td>UTC</td></tr>\n",
       "<tr><td>H2O cluster version:</td>\n",
       "<td>3.18.0.3</td></tr>\n",
       "<tr><td>H2O cluster version age:</td>\n",
       "<td>1 day </td></tr>\n",
       "<tr><td>H2O cluster name:</td>\n",
       "<td>H2O_from_python_Anna_qngs53</td></tr>\n",
       "<tr><td>H2O cluster total nodes:</td>\n",
       "<td>1</td></tr>\n",
       "<tr><td>H2O cluster free memory:</td>\n",
       "<td>3.545 Gb</td></tr>\n",
       "<tr><td>H2O cluster total cores:</td>\n",
       "<td>8</td></tr>\n",
       "<tr><td>H2O cluster allowed cores:</td>\n",
       "<td>8</td></tr>\n",
       "<tr><td>H2O cluster status:</td>\n",
       "<td>accepting new members, healthy</td></tr>\n",
       "<tr><td>H2O connection url:</td>\n",
       "<td>http://127.0.0.1:54321</td></tr>\n",
       "<tr><td>H2O connection proxy:</td>\n",
       "<td>None</td></tr>\n",
       "<tr><td>H2O internal security:</td>\n",
       "<td>False</td></tr>\n",
       "<tr><td>H2O API Extensions:</td>\n",
       "<td>Algos, AutoML, Core V3, Core V4</td></tr>\n",
       "<tr><td>Python version:</td>\n",
       "<td>3.6.3 final</td></tr></table></div>"
      ],
      "text/plain": [
       "--------------------------  -------------------------------\n",
       "H2O cluster uptime:         04 secs\n",
       "H2O cluster timezone:       America/Chicago\n",
       "H2O data parsing timezone:  UTC\n",
       "H2O cluster version:        3.18.0.3\n",
       "H2O cluster version age:    1 day\n",
       "H2O cluster name:           H2O_from_python_Anna_qngs53\n",
       "H2O cluster total nodes:    1\n",
       "H2O cluster free memory:    3.545 Gb\n",
       "H2O cluster total cores:    8\n",
       "H2O cluster allowed cores:  8\n",
       "H2O cluster status:         accepting new members, healthy\n",
       "H2O connection url:         http://127.0.0.1:54321\n",
       "H2O connection proxy:\n",
       "H2O internal security:      False\n",
       "H2O API Extensions:         Algos, AutoML, Core V3, Core V4\n",
       "Python version:             3.6.3 final\n",
       "--------------------------  -------------------------------"
      ]
     },
     "metadata": {},
     "output_type": "display_data"
    }
   ],
   "source": [
    "import h2o\n",
    "h2o.init()\n",
    "nyc = h2o.upload_file(\"../NYC311/311_Service_Requests_from_2010_to_Present.csv\")"
   ]
  }
 ],
 "metadata": {
  "kernelspec": {
   "display_name": "Python 3",
   "language": "python",
   "name": "python3"
  },
  "language_info": {
   "codemirror_mode": {
    "name": "ipython",
    "version": 3
   },
   "file_extension": ".py",
   "mimetype": "text/x-python",
   "name": "python",
   "nbconvert_exporter": "python",
   "pygments_lexer": "ipython3",
   "version": "3.6.3"
  }
 },
 "nbformat": 4,
 "nbformat_minor": 2
}
