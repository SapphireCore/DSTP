{
 "cells": [
  {
   "cell_type": "markdown",
   "metadata": {
    "collapsed": true
   },
   "source": [
    "# Capstone Project 2\n",
    "# How Soon Will a Complaint be Resolved?\n",
    "## A Case Study on New York City 311 Call\n",
    "## Final Report\n",
    "\n",
    "Data Source: NYC Open Data - 311 Service Requests from 2010 to Present  \n",
    "URL: https://nycopendata.socrata.com/Social-Services/311-Service-Requests-from-2010-to-Present/erm2-nwe9  \n",
    "Analyst: Eugene Wen"
   ]
  },
  {
   "cell_type": "markdown",
   "metadata": {},
   "source": [
    "### Background\n",
    "New York City 311 call data is part of the NYC Opendata project that provides many interesting information about the 311 calls filing complaints to the NYPD. An important aspect is how fast an array of city agencies close the complaints.\n",
    "\n",
    "This analysis attempted to predict, at the time of filing the complaint, how soon in average the case would be resolved (closed). Also, it would be interesting to find out which variable plays important role in the response time.\n",
    "\n",
    "The full dataset in CSV format can be downloaded from NYC Opendata website."
   ]
  },
  {
   "cell_type": "markdown",
   "metadata": {
    "collapsed": true
   },
   "source": [
    "### Subsample datasets for model development\n",
    "First installed subsample package through pip, then changed directory to NYC311 data folder and run command as follows to randomly draw 50,000 rows:\n",
    "\n",
    "`subsample -n 50000 311_Service_Requests_from_2010_to_Present.csv -r > nyc311_sample.csv`  \n",
    "\n",
    "Note that this dataset is used for development. In the final report all 10GB data will be used for analysis."
   ]
  },
  {
   "cell_type": "code",
   "execution_count": 1,
   "metadata": {},
   "outputs": [],
   "source": [
    "# Load packages\n",
    "import numpy as np\n",
    "import pandas as pd\n",
    "from pyspark.sql import SparkSession\n",
    "\n",
    "# Start a spark session\n",
    "spark = SparkSession.builder.appName('nyc311').getOrCreate()"
   ]
  },
  {
   "cell_type": "code",
   "execution_count": 2,
   "metadata": {
    "scrolled": true
   },
   "outputs": [],
   "source": [
    "# Load sample dataset\n",
    "df = spark.read.csv('../NYC311/nyc311_sample.csv', inferSchema=False, header=True)"
   ]
  },
  {
   "cell_type": "markdown",
   "metadata": {},
   "source": [
    "### Data Wrangling"
   ]
  },
  {
   "cell_type": "markdown",
   "metadata": {},
   "source": [
    "#### Derive the Target Variable: Response Time\n",
    "\n",
    "The dataset includes two timestamp columns: Created Date, which indicates that when the case was created in the system, and Closed Data, which recorded when the case was resolved and closed. The difference between the two timestamps is the actual response time, i.e. how long it took to complete the case from filing time, in seconds.\n",
    "\n",
    "For convenience, the response time in seconds was converted into days by applying the ceiling of the day fraction. If the case was resolved immediately, the response time in days would be 1 day."
   ]
  },
  {
   "cell_type": "code",
   "execution_count": 5,
   "metadata": {},
   "outputs": [
    {
     "name": "stdout",
     "output_type": "stream",
     "text": [
      "+----------+---------+----------------------+---+\n",
      "|Unique Key|Resp_time|Created Date          |HOD|\n",
      "+----------+---------+----------------------+---+\n",
      "|32199603  |22       |12/14/2015 12:00:00 AM|0  |\n",
      "|20074547  |2        |03/21/2011 04:22:49 PM|16 |\n",
      "|28951515  |1        |09/25/2014 06:18:43 PM|18 |\n",
      "|17575598  |5        |07/03/2010 10:11:00 AM|10 |\n",
      "|28270434  |3        |06/16/2014 12:00:00 AM|0  |\n",
      "|34115581  |13       |08/18/2016 02:24:21 PM|14 |\n",
      "|28261221  |1        |06/14/2014 09:12:53 PM|21 |\n",
      "|22829180  |2        |03/06/2012 12:05:20 PM|12 |\n",
      "|29709630  |1        |01/13/2015 05:51:11 PM|17 |\n",
      "|20809019  |8        |07/11/2011 12:00:00 AM|0  |\n",
      "+----------+---------+----------------------+---+\n",
      "only showing top 10 rows\n",
      "\n"
     ]
    }
   ],
   "source": [
    "# Calculate the response time as the difference between created date and closed date, in days.\n",
    "# Also create a new variable HOD: hour of day for when the case was created.\n",
    "from pyspark.sql.functions import unix_timestamp, floor, col, udf, date_format\n",
    "from pyspark.sql.types import TimestampType, IntegerType\n",
    "from datetime import datetime\n",
    "\n",
    "\n",
    "fmt = \"MM/dd/yyyy hh:mm:ss a\"\n",
    "starttime = unix_timestamp(df['Created Date'], format=fmt)\n",
    "endtime = unix_timestamp(df['Closed Date'], format=fmt)\n",
    "\n",
    "df = df.withColumn(\"Resp_time\", floor((endtime - starttime)/86400) + 1)\n",
    "\n",
    "dateConv = udf(lambda x: datetime.strptime(x, '%m/%d/%Y %I:%M:%S %p'), TimestampType())\n",
    "\n",
    "df = df.withColumn(\"starttime\", dateConv(col('Created Date')))\n",
    "df = df.withColumn(\"call_hour_of_day\", date_format(\"starttime\" , \"H\")).drop(\"starttime\")\n",
    "df = df.withColumn(\"HOD\", df[\"call_hour_of_day\"].cast(IntegerType())).drop(\"call_hour_of_day\")\n",
    "\n",
    "df['Unique Key', 'Resp_time', 'Created Date', 'HOD'].show(10, truncate=False)"
   ]
  },
  {
   "cell_type": "markdown",
   "metadata": {},
   "source": [
    "#### Choice of  Variables\n",
    "\n",
    "It is noticed that a number of variables have very little information, such as Taxi Company Borough and Road Ramp. These variables were dropped.\n",
    "\n",
    "Also, Borough has general geographical information. Therefore, there was no need to keep the coordinate information unless for spatial analysis (which we won't conduct here anyway).\n",
    "\n",
    "The variables Park Facility Name and starting with School, although seem to have quite rich information, have a major portion of \"Unspecified\" category which does not have useful information. These variables should also be dropped."
   ]
  },
  {
   "cell_type": "code",
   "execution_count": 10,
   "metadata": {},
   "outputs": [
    {
     "name": "stdout",
     "output_type": "stream",
     "text": [
      "+--------------------+-----+\n",
      "|  Park Facility Name|count|\n",
      "+--------------------+-----+\n",
      "|         Unspecified|49653|\n",
      "|        Central Park|   18|\n",
      "|   Hudson River Park|    7|\n",
      "|       Prospect Park|    7|\n",
      "|      Riverside Park|    5|\n",
      "|        Astoria Park|    4|\n",
      "|Flushing Meadows ...|    4|\n",
      "|      City Hall Park|    3|\n",
      "|       John Jay Park|    3|\n",
      "|     Alley Pond Park|    3|\n",
      "+--------------------+-----+\n",
      "only showing top 10 rows\n",
      "\n"
     ]
    }
   ],
   "source": [
    "# Example of category distribution for Park Fercility Name\n",
    "from pyspark.sql.functions import desc\n",
    "df.groupby('Park Facility Name').count().sort(desc(\"count\")).show(10)"
   ]
  },
  {
   "cell_type": "code",
   "execution_count": 14,
   "metadata": {},
   "outputs": [],
   "source": [
    "# Choose the variables\n",
    "df_input = df.select([\"Unique Key\", \"Agency\", \"Complaint Type\", \"Status\", \"Borough\", \"Park Borough\", \"Resp_time\", \"HOD\"])"
   ]
  },
  {
   "cell_type": "markdown",
   "metadata": {},
   "source": [
    "#### Eliminate incorrectly parsed rows\n",
    "A few rows were identified to be incorrectly parsed while reading in the CSV file. Given the very low number of problematic rows we decided to eliminate them from analysis.\n",
    "\n",
    "See example below: the variable Park Borough in the original dataset was OK but the dataframe in memory has three rows that having mis-alignment issue."
   ]
  },
  {
   "cell_type": "code",
   "execution_count": 15,
   "metadata": {},
   "outputs": [
    {
     "name": "stdout",
     "output_type": "stream",
     "text": [
      "+-------------+-----+\n",
      "| Park Borough|count|\n",
      "+-------------+-----+\n",
      "|     BROOKLYN|14279|\n",
      "|       QUEENS|10990|\n",
      "|    MANHATTAN| 9794|\n",
      "|        BRONX| 8480|\n",
      "|  Unspecified| 4031|\n",
      "|STATEN ISLAND| 2423|\n",
      "|       225841|    1|\n",
      "|       185215|    1|\n",
      "|       195829|    1|\n",
      "+-------------+-----+\n",
      "\n"
     ]
    }
   ],
   "source": [
    "df.groupby('Park Borough').count().sort(desc(\"count\")).show(10)"
   ]
  },
  {
   "cell_type": "code",
   "execution_count": 17,
   "metadata": {},
   "outputs": [
    {
     "name": "stdout",
     "output_type": "stream",
     "text": [
      "+----------+------+--------------+------+--------------------+------------+---------+---+\n",
      "|Unique Key|Agency|Complaint Type|Status|             Borough|Park Borough|Resp_time|HOD|\n",
      "+----------+------+--------------+------+--------------------+------------+---------+---+\n",
      "|  18741880|   DEP|         Noise|Closed|11/04/2010 10:30:...|      225841|       43| 15|\n",
      "+----------+------+--------------+------+--------------------+------------+---------+---+\n",
      "\n"
     ]
    }
   ],
   "source": [
    "df_input.filter(\"`Park Borough` == '225841'\").show()"
   ]
  },
  {
   "cell_type": "code",
   "execution_count": 18,
   "metadata": {},
   "outputs": [],
   "source": [
    "# Drop the three rows with incorrect parsing\n",
    "borough = {\"BROOKLYN\", \"QUEENS\", \"MANHATTAN\", \"BRONX\", \"Unspecified\", \"STATEN ISLAND\"}\n",
    "df_input_clean = df_input.filter(df_input[\"Park Borough\"].isin(borough) == True)"
   ]
  },
  {
   "cell_type": "markdown",
   "metadata": {},
   "source": [
    "### Exploratory Data Analysis"
   ]
  },
  {
   "cell_type": "code",
   "execution_count": 19,
   "metadata": {},
   "outputs": [],
   "source": [
    "# Plot response time distribution\n",
    "import matplotlib.pyplot as plt\n",
    "import seaborn as sns\n",
    "% matplotlib inline\n",
    "df_input_pd = df_input_clean.toPandas()"
   ]
  },
  {
   "cell_type": "markdown",
   "metadata": {},
   "source": [
    "We would like to check the distribution of the derived response time variable. It looks like there are some negative values!"
   ]
  },
  {
   "cell_type": "code",
   "execution_count": 20,
   "metadata": {},
   "outputs": [
    {
     "data": {
      "text/plain": [
       "<matplotlib.axes._subplots.AxesSubplot at 0xbd45860>"
      ]
     },
     "execution_count": 20,
     "metadata": {},
     "output_type": "execute_result"
    },
    {
     "data": {
      "image/png": "[encoded data removed]",
      "text/plain": [
       "<matplotlib.figure.Figure at 0xbc7b828>"
      ]
     },
     "metadata": {},
     "output_type": "display_data"
    }
   ],
   "source": [
    "sns.set()\n",
    "sns.distplot(df_input_pd.Resp_time.dropna(), kde=True, color='b')"
   ]
  },
  {
   "cell_type": "markdown",
   "metadata": {},
   "source": [
    "A further drill down of these negative values and missing values showed that for some reason, about 5% data have Closed Data earlier than the Created Data, or missing the Closed Data (remains open). By looking up the website and related documentations, there apparently was neither clear explanation nor solution. We therefore decided to drop these rows."
   ]
  },
  {
   "cell_type": "code",
   "execution_count": 25,
   "metadata": {},
   "outputs": [],
   "source": [
    "df_input_clean.fillna(-99999, subset=['Resp_time']).filter(\"`Resp_time` == -99999\").count()\n",
    "df_input_clean = df_input_clean.filter(\"`Resp_time` > 0\")"
   ]
  },
  {
   "cell_type": "markdown",
   "metadata": {},
   "source": [
    "Plot the distribution of the response time again showed that the distribution is very skewed. We then tried to plot in log scale and the plot improved."
   ]
  },
  {
   "cell_type": "code",
   "execution_count": 28,
   "metadata": {},
   "outputs": [
    {
     "data": {
      "text/plain": [
       "<matplotlib.axes._subplots.AxesSubplot at 0xeb9b908>"
      ]
     },
     "execution_count": 28,
     "metadata": {},
     "output_type": "execute_result"
    },
    {
     "data": {
      "image/png": "[encoded data removed]",
      "text/plain": [
       "<matplotlib.figure.Figure at 0xbb6d470>"
      ]
     },
     "metadata": {},
     "output_type": "display_data"
    }
   ],
   "source": [
    "# Plot the distribution of response time again\n",
    "sns.set()\n",
    "sns.distplot(df_input_clean.toPandas().Resp_time, kde=True, color='b')"
   ]
  },
  {
   "cell_type": "code",
   "execution_count": 29,
   "metadata": {},
   "outputs": [
    {
     "data": {
      "text/plain": [
       "<matplotlib.axes._subplots.AxesSubplot at 0xcc83c18>"
      ]
     },
     "execution_count": 29,
     "metadata": {},
     "output_type": "execute_result"
    },
    {
     "data": {
      "image/png": "[encoded data removed]",
      "text/plain": [
       "<matplotlib.figure.Figure at 0xd066a20>"
      ]
     },
     "metadata": {},
     "output_type": "display_data"
    }
   ],
   "source": [
    "# Plot the distribution of response time again, with log transformation\n",
    "sns.set()\n",
    "sns.distplot(np.log(df_input_clean.toPandas().Resp_time), kde=True, color='b')"
   ]
  },
  {
   "cell_type": "markdown",
   "metadata": {},
   "source": [
    "The log scale response time variable was created in the dataframe and will be used as the target variable."
   ]
  },
  {
   "cell_type": "code",
   "execution_count": 30,
   "metadata": {},
   "outputs": [],
   "source": [
    "# Create log scale response time instead for modeling\n",
    "from pyspark.sql.functions import log\n",
    "df_input_clean = df_input_clean.withColumn(\"log_Resp_time\", log(df_input_clean.Resp_time))"
   ]
  },
  {
   "cell_type": "markdown",
   "metadata": {},
   "source": [
    "As an alternative, we created a binary indicator named isLate for whether a case took more than one day to response and close, with 1 for cases took more than one day and 0 otherwise. The by-groupy count showed that it is well balanced."
   ]
  },
  {
   "cell_type": "code",
   "execution_count": 31,
   "metadata": {},
   "outputs": [
    {
     "name": "stdout",
     "output_type": "stream",
     "text": [
      "+------+-----+\n",
      "|isLate|count|\n",
      "+------+-----+\n",
      "|     1|27535|\n",
      "|     0|20066|\n",
      "+------+-----+\n",
      "\n"
     ]
    }
   ],
   "source": [
    "# Create binary indicator of whether the response time takes more than 1 day\n",
    "df_input_clean = df_input_clean.withColumn(\"isLate\", (df_input_clean.Resp_time > 1).cast('integer'))\n",
    "df_input_clean.groupby('isLate').count().show()"
   ]
  },
  {
   "cell_type": "markdown",
   "metadata": {},
   "source": [
    "### Machine Learning Models - Regression\n",
    "In this section we attempted to build a regression model to predict the log-response time.\n",
    "\n",
    "The models we tested including LinearRegression, GeneralizedLinearRegression, RandomForestRegressor and GBTRegressor. In general, based on the RMSE of test set, RandomeForestRegressor performed better. Therefore, we further tuned RandomForestRegressor on three major hyperparameters: number of trees, max depth and max bins."
   ]
  },
  {
   "cell_type": "code",
   "execution_count": 32,
   "metadata": {},
   "outputs": [],
   "source": [
    "from pyspark.ml.feature import StringIndexer\n",
    "from pyspark.ml.linalg import Vectors\n",
    "from pyspark.ml.feature import VectorAssembler\n",
    "from pyspark.ml import Pipeline\n",
    "from pyspark.sql.functions import mean\n",
    "\n",
    "indexer1 = StringIndexer(inputCol=\"Agency\", outputCol=\"AgencyVec\")\n",
    "indexer2 = StringIndexer(inputCol=\"Complaint Type\", outputCol=\"CompTypeVec\")\n",
    "indexer3 = StringIndexer(inputCol=\"Borough\", outputCol=\"BoroughVec\")\n",
    "\n",
    "assembler = VectorAssembler(inputCols=[\"AgencyVec\", \"CompTypeVec\", \"BoroughVec\", \"HOD\"], outputCol='features')\n",
    "pipeline = Pipeline(stages = [indexer1, indexer2, indexer3, assembler])\n",
    "df_input_dense = pipeline.fit(df_input_clean).transform(df_input_clean)\n",
    "df_input_final = df_input_dense.select(['features', 'log_Resp_time'])"
   ]
  },
  {
   "cell_type": "code",
   "execution_count": 33,
   "metadata": {},
   "outputs": [],
   "source": [
    "# Split dataset into training and testing sets\n",
    "train_data, test_data = df_input_final.randomSplit([0.7, 0.3])"
   ]
  },
  {
   "cell_type": "code",
   "execution_count": 37,
   "metadata": {},
   "outputs": [],
   "source": [
    "# Import models to be used\n",
    "from pyspark.ml.regression import LinearRegression, \\\n",
    "                                  RandomForestRegressor, \\\n",
    "                                  GBTRegressor, \\\n",
    "                                  GeneralizedLinearRegression\n",
    "from pyspark.ml.tuning import ParamGridBuilder, CrossValidator\n",
    "from pyspark.ml.evaluation import RegressionEvaluator\n",
    "from pyspark.sql.functions import mean"
   ]
  },
  {
   "cell_type": "code",
   "execution_count": 35,
   "metadata": {},
   "outputs": [
    {
     "data": {
      "text/plain": [
       "1.3403156416899136"
      ]
     },
     "execution_count": 35,
     "metadata": {},
     "output_type": "execute_result"
    }
   ],
   "source": [
    "# Linear regression\n",
    "lr = LinearRegression(featuresCol = 'features', \\\n",
    "                      labelCol = 'log_Resp_time', \\\n",
    "                      predictionCol = 'prediction')\n",
    "lrModel = lr.fit(train_data)\n",
    "test_results = lrModel.evaluate(test_data)\n",
    "test_results.rootMeanSquaredError"
   ]
  },
  {
   "cell_type": "code",
   "execution_count": 36,
   "metadata": {},
   "outputs": [
    {
     "name": "stdout",
     "output_type": "stream",
     "text": [
      "+------------------+\n",
      "|       avg(sqdiff)|\n",
      "+------------------+\n",
      "|1.8184812090410245|\n",
      "+------------------+\n",
      "\n"
     ]
    }
   ],
   "source": [
    "# Generalized Linear Regression\n",
    "glm = GeneralizedLinearRegression(featuresCol='features',\\\n",
    "                                  labelCol='log_Resp_time', \\\n",
    "                                  predictionCol='prediction',\\\n",
    "                                  family=\"poisson\", link=\"log\")\n",
    "glmModel = glm.fit(train_data)\n",
    "\n",
    "# Evaluate on test set\n",
    "\n",
    "test_results_glm = glmModel.transform(test_data)\n",
    "test_results_glm = test_results_glm.withColumn(\"sqdiff\", (test_results_glm[\"prediction\"] - test_results_glm[\"log_Resp_time\"])**2) \n",
    "RMSE_glm = test_results_glm.select(mean(test_results_glm[\"sqdiff\"]))\n",
    "RMSE_glm.show()"
   ]
  },
  {
   "cell_type": "code",
   "execution_count": 38,
   "metadata": {},
   "outputs": [
    {
     "name": "stdout",
     "output_type": "stream",
     "text": [
      "+------------------+\n",
      "|       avg(sqdiff)|\n",
      "+------------------+\n",
      "|0.8400397298122028|\n",
      "+------------------+\n",
      "\n"
     ]
    }
   ],
   "source": [
    "# Random Forest\n",
    "rf = RandomForestRegressor(featuresCol='features',\\\n",
    "                           labelCol='log_Resp_time', \\\n",
    "                           predictionCol='prediction',\\\n",
    "                           numTrees=100, maxDepth=10, maxBins=250, seed=1000)\n",
    "rfModel = rf.fit(train_data)\n",
    "\n",
    "# Evaluate on test set\n",
    "\n",
    "test_results_rf = rfModel.transform(test_data)\n",
    "test_results_rf = test_results_rf.withColumn(\"sqdiff\", (test_results_rf[\"prediction\"] - test_results_rf[\"log_Resp_time\"])**2)\n",
    "\n",
    "from pyspark.sql.functions import mean\n",
    "RMSE_rf = test_results_rf.select(mean(test_results_rf[\"sqdiff\"]))\n",
    "RMSE_rf.show()"
   ]
  },
  {
   "cell_type": "code",
   "execution_count": 39,
   "metadata": {},
   "outputs": [
    {
     "name": "stdout",
     "output_type": "stream",
     "text": [
      "+------------------+\n",
      "|       avg(sqdiff)|\n",
      "+------------------+\n",
      "|0.8571820331888391|\n",
      "+------------------+\n",
      "\n"
     ]
    }
   ],
   "source": [
    "# Gradient Boosting Tree\n",
    "gbt = GBTRegressor(featuresCol='features',\\\n",
    "                   labelCol='log_Resp_time', \\\n",
    "                   predictionCol='prediction',\\\n",
    "                   maxIter=10, maxDepth=5, maxBins=500, seed=1000)\n",
    "gbtModel = gbt.fit(train_data)\n",
    "\n",
    "# Evaluate on test set\n",
    "\n",
    "test_results_gbt = gbtModel.transform(test_data)\n",
    "test_results_gbt = test_results_gbt.withColumn(\"sqdiff\", (test_results_gbt[\"prediction\"] - test_results_gbt[\"log_Resp_time\"])**2)\n",
    "\n",
    "RMSE_gbt = test_results_gbt.select(mean(test_results_gbt[\"sqdiff\"]))\n",
    "RMSE_gbt.show()"
   ]
  },
  {
   "cell_type": "markdown",
   "metadata": {},
   "source": [
    "#### Tuning Random Forest Regressor\n",
    "We picked two values for each of the three hyperparameters to test which combination would yield the best performance using default 3-fold cross validation. The results showed that at numTrees = 100, maxDepth = 10 and maxBins = 250, the model yielded the smallest RMSE on test data."
   ]
  },
  {
   "cell_type": "code",
   "execution_count": 40,
   "metadata": {},
   "outputs": [
    {
     "data": {
      "text/plain": [
       "[0.9450642375223017,\n",
       " 0.9450642375223017,\n",
       " 0.9440638718862933,\n",
       " 0.9440638718862933,\n",
       " 0.9450337875150796,\n",
       " 0.9450337875150796,\n",
       " 0.9420461034207732,\n",
       " 0.9420461034207732]"
      ]
     },
     "execution_count": 40,
     "metadata": {},
     "output_type": "execute_result"
    }
   ],
   "source": [
    "# Random Forest Tuning\n",
    "rf = RandomForestRegressor(featuresCol='features',\\\n",
    "                           labelCol='log_Resp_time', \\\n",
    "                           predictionCol='prediction')\n",
    "grid_rf = ParamGridBuilder().addGrid(rf.numTrees, [50, 100])\\\n",
    "                            .addGrid(rf.maxDepth, [5, 10]) \\\n",
    "                            .addGrid(rf.maxBins, [250, 500])\\\n",
    "                            .build()\n",
    "eval_rf = RegressionEvaluator()\n",
    "cv_rf = CrossValidator(estimator = rf, estimatorParamMaps=grid_rf, evaluator=eval_rf, parallelism=2)\n",
    "\n",
    "train_data_cv = train_data.withColumn(\"label\", train_data[\"log_Resp_time\"])\n",
    "cvModel1 = cv_rf.fit(train_data_cv)\n",
    "cvModel1.avgMetrics"
   ]
  },
  {
   "cell_type": "code",
   "execution_count": 41,
   "metadata": {},
   "outputs": [
    {
     "name": "stdout",
     "output_type": "stream",
     "text": [
      "100\n",
      "10\n",
      "250\n"
     ]
    }
   ],
   "source": [
    "# Print out the hyperparameters of the best model\n",
    "print(cvModel1.bestModel._java_obj.getNumTrees())\n",
    "print(cvModel1.bestModel._java_obj.getMaxDepth())\n",
    "print(cvModel1.bestModel._java_obj.getMaxBins())"
   ]
  },
  {
   "cell_type": "markdown",
   "metadata": {},
   "source": [
    "#### Variable Importance\n",
    "How importance is each of the predictor? We found that the most important variable is the complaint type, followed by agency. It seems making sense that depending on the type of complaint you filed, it might be complicated and needs more time to resolve, or could be a quite simple one like noise that usually would be resolved in an hour or so. \n",
    "\n",
    "Also, depending on which agency is handling your case, the response time may vary."
   ]
  },
  {
   "cell_type": "code",
   "execution_count": 42,
   "metadata": {},
   "outputs": [
    {
     "data": {
      "text/html": [
       "<div>\n",
       "<style scoped>\n",
       "    .dataframe tbody tr th:only-of-type {\n",
       "        vertical-align: middle;\n",
       "    }\n",
       "\n",
       "    .dataframe tbody tr th {\n",
       "        vertical-align: top;\n",
       "    }\n",
       "\n",
       "    .dataframe thead th {\n",
       "        text-align: right;\n",
       "    }\n",
       "</style>\n",
       "<table border=\"1\" class=\"dataframe\">\n",
       "  <thead>\n",
       "    <tr style=\"text-align: right;\">\n",
       "      <th></th>\n",
       "      <th>values</th>\n",
       "      <th>features</th>\n",
       "    </tr>\n",
       "  </thead>\n",
       "  <tbody>\n",
       "    <tr>\n",
       "      <th>0</th>\n",
       "      <td>0.259539</td>\n",
       "      <td>AgencyVec</td>\n",
       "    </tr>\n",
       "    <tr>\n",
       "      <th>1</th>\n",
       "      <td>0.651528</td>\n",
       "      <td>CompTypeVec</td>\n",
       "    </tr>\n",
       "    <tr>\n",
       "      <th>2</th>\n",
       "      <td>0.022962</td>\n",
       "      <td>BoroughVec</td>\n",
       "    </tr>\n",
       "    <tr>\n",
       "      <th>3</th>\n",
       "      <td>0.065970</td>\n",
       "      <td>HOD</td>\n",
       "    </tr>\n",
       "  </tbody>\n",
       "</table>\n",
       "</div>"
      ],
      "text/plain": [
       "     values     features\n",
       "0  0.259539    AgencyVec\n",
       "1  0.651528  CompTypeVec\n",
       "2  0.022962   BoroughVec\n",
       "3  0.065970          HOD"
      ]
     },
     "execution_count": 42,
     "metadata": {},
     "output_type": "execute_result"
    }
   ],
   "source": [
    "# Variable Importance\n",
    "VI = pd.DataFrame(cvModel1.bestModel.featureImportances.toArray(), columns=[\"values\"])\n",
    "features_col = pd.Series([\"AgencyVec\", \"CompTypeVec\", \"BoroughVec\", \"HOD\"])  \n",
    "VI[\"features\"] = features_col\n",
    "VI"
   ]
  },
  {
   "cell_type": "markdown",
   "metadata": {},
   "source": [
    "### Machine Learning Models -- Classification\n",
    "As an alternative way to look into the problem, we attempted to predict whether a case would take more than one day to resolve (a binary indicator has been created above). This is a binary classification problem and the models we tested including Logistic Regression, RandomForestClassifier, GBTClassifer and NaiveBayes.\n",
    "\n",
    "We took a similar approach that first testing the four models using mostly default hyperparameters (have to change the maxBins to accommodate the large category levels in Complaint Type). Then based on the test set performance we chose one to tune for better performance."
   ]
  },
  {
   "cell_type": "code",
   "execution_count": 43,
   "metadata": {},
   "outputs": [],
   "source": [
    "# Redo the assembling using the isLate binary indicator\n",
    "indexer1 = StringIndexer(inputCol=\"Agency\", outputCol=\"AgencyVec\")\n",
    "indexer2 = StringIndexer(inputCol=\"Complaint Type\", outputCol=\"CompTypeVec\")\n",
    "indexer3 = StringIndexer(inputCol=\"Borough\", outputCol=\"BoroughVec\")\n",
    "\n",
    "assembler = VectorAssembler(inputCols=[\"AgencyVec\", \"CompTypeVec\", \"BoroughVec\", \"HOD\"], outputCol='features')\n",
    "pipeline = Pipeline(stages = [indexer1, indexer2, indexer3, assembler])\n",
    "df_input_dense = pipeline.fit(df_input_clean).transform(df_input_clean)\n",
    "df_input_bin = df_input_dense.select(['features', 'isLate'])"
   ]
  },
  {
   "cell_type": "code",
   "execution_count": 44,
   "metadata": {},
   "outputs": [],
   "source": [
    "# Split dataset into training and testing sets\n",
    "train_data, test_data = df_input_bin.randomSplit([0.7, 0.3])"
   ]
  },
  {
   "cell_type": "code",
   "execution_count": 45,
   "metadata": {},
   "outputs": [],
   "source": [
    "# Import classification models\n",
    "from pyspark.ml.classification import LogisticRegression, \\\n",
    "                                      RandomForestClassifier, \\\n",
    "                                      GBTClassifier, \\\n",
    "                                      NaiveBayes\n",
    "from pyspark.ml.tuning import ParamGridBuilder, CrossValidator\n",
    "from pyspark.ml.evaluation import BinaryClassificationEvaluator"
   ]
  },
  {
   "cell_type": "code",
   "execution_count": 46,
   "metadata": {},
   "outputs": [
    {
     "data": {
      "text/plain": [
       "0.7081004891992797"
      ]
     },
     "execution_count": 46,
     "metadata": {},
     "output_type": "execute_result"
    }
   ],
   "source": [
    "# Logistic Regression\n",
    "lr = LogisticRegression(featuresCol='features',\\\n",
    "                        labelCol='isLate', \\\n",
    "                        predictionCol='prediction')\n",
    "lrModel = lr.fit(train_data)\n",
    "\n",
    "# Evaluate on test set\n",
    "\n",
    "test_results_lr = lrModel.transform(test_data)\n",
    "eval_lr = BinaryClassificationEvaluator(labelCol=\"isLate\")\n",
    "eval_lr.evaluate(test_results_lr)"
   ]
  },
  {
   "cell_type": "code",
   "execution_count": 48,
   "metadata": {},
   "outputs": [
    {
     "data": {
      "text/plain": [
       "0.931315216849868"
      ]
     },
     "execution_count": 48,
     "metadata": {},
     "output_type": "execute_result"
    }
   ],
   "source": [
    "# Random Forest Classifier (increase maxBins to 250 to accommodate large number of category levels)\n",
    "rfc = RandomForestClassifier(featuresCol='features',\\\n",
    "                             labelCol='isLate', \\\n",
    "                             predictionCol='prediction', \\\n",
    "                             numTrees=20, maxDepth=5, maxBins=250, seed=1000)\n",
    "rfcModel = rfc.fit(train_data)\n",
    "\n",
    "# Evaluate on test set\n",
    "\n",
    "test_results_rfc = rfcModel.transform(test_data)\n",
    "eval_rfc = BinaryClassificationEvaluator(labelCol=\"isLate\")\n",
    "eval_rfc.evaluate(test_results_rfc)"
   ]
  },
  {
   "cell_type": "code",
   "execution_count": 47,
   "metadata": {},
   "outputs": [
    {
     "data": {
      "text/plain": [
       "0.9466875897327738"
      ]
     },
     "execution_count": 47,
     "metadata": {},
     "output_type": "execute_result"
    }
   ],
   "source": [
    "# GBT Classifier\n",
    "gbtc = GBTClassifier(featuresCol='features',\\\n",
    "                     labelCol='isLate', \\\n",
    "                     predictionCol='prediction', \\\n",
    "                     maxIter=10, maxDepth=5, maxBins=250, seed=1000)\n",
    "gbtcModel = gbtc.fit(train_data)\n",
    "\n",
    "# Evaluate on test set\n",
    "\n",
    "test_results_gbtc = gbtcModel.transform(test_data)\n",
    "eval_gbtc = BinaryClassificationEvaluator(labelCol=\"isLate\")\n",
    "eval_gbtc.evaluate(test_results_gbtc)"
   ]
  },
  {
   "cell_type": "code",
   "execution_count": 49,
   "metadata": {},
   "outputs": [
    {
     "data": {
      "text/plain": [
       "0.5641498101464166"
      ]
     },
     "execution_count": 49,
     "metadata": {},
     "output_type": "execute_result"
    }
   ],
   "source": [
    "# Naive Bayes Classifier\n",
    "nbc = NaiveBayes(featuresCol='features',\\\n",
    "                 labelCol='isLate', \\\n",
    "                 predictionCol='prediction')\n",
    "nbcModel = nbc.fit(train_data)\n",
    "\n",
    "# Evaluate on test set\n",
    "\n",
    "test_results_nbc = nbcModel.transform(test_data)\n",
    "eval_nbc = BinaryClassificationEvaluator(labelCol=\"isLate\")\n",
    "eval_nbc.evaluate(test_results_nbc)"
   ]
  },
  {
   "cell_type": "markdown",
   "metadata": {},
   "source": [
    "#### Tuen Gradient Boosting Tree Classifier\n",
    "Both Randome Forest Classifier and GBT Classifier yielded quite good AUC results on test set. For demonstration we chose GBTClassifier to tune this time (showed RF tuning in regression section). The results showed that at maxIter = 20, maxDepth = 5 and maxBins = 250, the model yielded the highest AUC on test data."
   ]
  },
  {
   "cell_type": "code",
   "execution_count": 50,
   "metadata": {},
   "outputs": [
    {
     "data": {
      "text/plain": [
       "[0.9475146877280651,\n",
       " 0.9475146877280649,\n",
       " 0.9400934097272013,\n",
       " 0.9400934097272015,\n",
       " 0.9476015559521043,\n",
       " 0.947601555952104,\n",
       " 0.9397340615278416,\n",
       " 0.9397340615278413]"
      ]
     },
     "execution_count": 50,
     "metadata": {},
     "output_type": "execute_result"
    }
   ],
   "source": [
    "# Tune GBTClassifier\n",
    "gbtc = GBTClassifier(featuresCol='features',\\\n",
    "                     labelCol='isLate', \\\n",
    "                     predictionCol='prediction')\n",
    "grid_gbtc = ParamGridBuilder().addGrid(gbtc.maxIter, [10, 20])\\\n",
    "                              .addGrid(gbtc.maxDepth, [5, 10]) \\\n",
    "                              .addGrid(gbtc.maxBins, [250, 500])\\\n",
    "                              .build()\n",
    "eval_gbtc = BinaryClassificationEvaluator(labelCol=\"isLate\")\n",
    "cv_gbtc = CrossValidator(estimator = gbtc, estimatorParamMaps=grid_gbtc, evaluator=eval_gbtc, parallelism=2, numFolds=3)\n",
    "\n",
    "train_data_cv = train_data.withColumn(\"label\", train_data[\"isLate\"])\n",
    "cvModel2 = cv_gbtc.fit(train_data_cv)\n",
    "cvModel2.avgMetrics"
   ]
  },
  {
   "cell_type": "code",
   "execution_count": 51,
   "metadata": {},
   "outputs": [
    {
     "name": "stdout",
     "output_type": "stream",
     "text": [
      "20\n",
      "5\n",
      "250\n"
     ]
    }
   ],
   "source": [
    "print(cvModel2.bestModel._java_obj.getMaxIter())\n",
    "print(cvModel2.bestModel._java_obj.getMaxDepth())\n",
    "print(cvModel2.bestModel._java_obj.getMaxBins())"
   ]
  },
  {
   "cell_type": "markdown",
   "metadata": {},
   "source": [
    "#### Variable Importance\n",
    "How importance is each of the predictor? We found that the most important variable is the complaint type, followed by HOD. It seems making sense that depending on the type of complaint you filed, it might be complicated and needs more time to resolve, or could be a quite simple one like noise that usually would be resolved in an hour or so. \n",
    "\n",
    "Also, depending on when you call for help, the agency may be busy and therefore delay on response time ."
   ]
  },
  {
   "cell_type": "code",
   "execution_count": 52,
   "metadata": {},
   "outputs": [
    {
     "data": {
      "text/html": [
       "<div>\n",
       "<style scoped>\n",
       "    .dataframe tbody tr th:only-of-type {\n",
       "        vertical-align: middle;\n",
       "    }\n",
       "\n",
       "    .dataframe tbody tr th {\n",
       "        vertical-align: top;\n",
       "    }\n",
       "\n",
       "    .dataframe thead th {\n",
       "        text-align: right;\n",
       "    }\n",
       "</style>\n",
       "<table border=\"1\" class=\"dataframe\">\n",
       "  <thead>\n",
       "    <tr style=\"text-align: right;\">\n",
       "      <th></th>\n",
       "      <th>values</th>\n",
       "      <th>features</th>\n",
       "    </tr>\n",
       "  </thead>\n",
       "  <tbody>\n",
       "    <tr>\n",
       "      <th>0</th>\n",
       "      <td>0.005244</td>\n",
       "      <td>AgencyVec</td>\n",
       "    </tr>\n",
       "    <tr>\n",
       "      <th>1</th>\n",
       "      <td>0.934895</td>\n",
       "      <td>CompTypeVec</td>\n",
       "    </tr>\n",
       "    <tr>\n",
       "      <th>2</th>\n",
       "      <td>0.020878</td>\n",
       "      <td>BoroughVec</td>\n",
       "    </tr>\n",
       "    <tr>\n",
       "      <th>3</th>\n",
       "      <td>0.038983</td>\n",
       "      <td>HOD</td>\n",
       "    </tr>\n",
       "  </tbody>\n",
       "</table>\n",
       "</div>"
      ],
      "text/plain": [
       "     values     features\n",
       "0  0.005244    AgencyVec\n",
       "1  0.934895  CompTypeVec\n",
       "2  0.020878   BoroughVec\n",
       "3  0.038983          HOD"
      ]
     },
     "execution_count": 52,
     "metadata": {},
     "output_type": "execute_result"
    }
   ],
   "source": [
    "# Variable Importance\n",
    "VIC = pd.DataFrame(cvModel2.bestModel.featureImportances.toArray(), columns=[\"values\"])\n",
    "features_col = pd.Series([\"AgencyVec\", \"CompTypeVec\", \"BoroughVec\", \"HOD\"])  \n",
    "VIC[\"features\"] = features_col\n",
    "VIC"
   ]
  },
  {
   "cell_type": "markdown",
   "metadata": {},
   "source": [
    "#### Results Visualization\n",
    "How well is the accuracy of our prediction using the best GBT classifier?\n",
    "\n",
    "A pivot table showed the confusion matrix and the computed accuracy is 88.3%. Because the binary cases are quite balanced, the accuracy is considered to be quite good."
   ]
  },
  {
   "cell_type": "code",
   "execution_count": 54,
   "metadata": {},
   "outputs": [
    {
     "data": {
      "text/html": [
       "<div>\n",
       "<style scoped>\n",
       "    .dataframe tbody tr th:only-of-type {\n",
       "        vertical-align: middle;\n",
       "    }\n",
       "\n",
       "    .dataframe tbody tr th {\n",
       "        vertical-align: top;\n",
       "    }\n",
       "\n",
       "    .dataframe thead th {\n",
       "        text-align: right;\n",
       "    }\n",
       "</style>\n",
       "<table border=\"1\" class=\"dataframe\">\n",
       "  <thead>\n",
       "    <tr style=\"text-align: right;\">\n",
       "      <th>prediction</th>\n",
       "      <th>0.0</th>\n",
       "      <th>1.0</th>\n",
       "    </tr>\n",
       "    <tr>\n",
       "      <th>isLate</th>\n",
       "      <th></th>\n",
       "      <th></th>\n",
       "    </tr>\n",
       "  </thead>\n",
       "  <tbody>\n",
       "    <tr>\n",
       "      <th>0</th>\n",
       "      <td>5004</td>\n",
       "      <td>1032</td>\n",
       "    </tr>\n",
       "    <tr>\n",
       "      <th>1</th>\n",
       "      <td>736</td>\n",
       "      <td>7672</td>\n",
       "    </tr>\n",
       "  </tbody>\n",
       "</table>\n",
       "</div>"
      ],
      "text/plain": [
       "prediction   0.0   1.0\n",
       "isLate                \n",
       "0           5004  1032\n",
       "1            736  7672"
      ]
     },
     "execution_count": 54,
     "metadata": {},
     "output_type": "execute_result"
    }
   ],
   "source": [
    "test_results_final = cvModel2.bestModel.transform(test_data)\n",
    "df = test_results_final[\"isLate\", \"prediction\"].toPandas()\n",
    "df[\"dummy\"] = 1\n",
    "pd.pivot_table(df, index=[\"isLate\"], columns=[\"prediction\"], values=\"dummy\", aggfunc=\"count\")"
   ]
  },
  {
   "cell_type": "code",
   "execution_count": 55,
   "metadata": {},
   "outputs": [
    {
     "data": {
      "text/plain": [
       "0.8831014472488289"
      ]
     },
     "execution_count": 55,
     "metadata": {},
     "output_type": "execute_result"
    }
   ],
   "source": [
    "accuracy = (4936+7695) / (4936+1074+598+7695)\n",
    "accuracy"
   ]
  },
  {
   "cell_type": "code",
   "execution_count": null,
   "metadata": {},
   "outputs": [],
   "source": [
    "spark.stop()"
   ]
  },
  {
   "cell_type": "markdown",
   "metadata": {},
   "source": [
    "### Conclusion\n",
    "We found that using just a few variable we are able to predict whether a complaint case may be resolved within one day or tends to be delayed on response with 88% accuracy. Predicting the actual response time remains a challenge and quite intensive data cleaning is needed, especially those very lagged cases that took several months or even years to close. In general, ensemble tree models work better in building the predictive models. The complaint type is identified to be the most important variable, followed by the filing time (although much less impact comparing to complaint type), in determining the response time. "
   ]
  }
 ],
 "metadata": {
  "kernelspec": {
   "display_name": "Python 3",
   "language": "python",
   "name": "python3"
  },
  "language_info": {
   "codemirror_mode": {
    "name": "ipython",
    "version": 3
   },
   "file_extension": ".py",
   "mimetype": "text/x-python",
   "name": "python",
   "nbconvert_exporter": "python",
   "pygments_lexer": "ipython3",
   "version": "3.6.4"
  }
 },
 "nbformat": 4,
 "nbformat_minor": 2
}
