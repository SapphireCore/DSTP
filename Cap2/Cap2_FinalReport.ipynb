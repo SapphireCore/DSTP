{
 "cells": [
  {
   "cell_type": "markdown",
   "metadata": {
    "collapsed": true
   },
   "source": [
    "# Capstone Project 2\n",
    "# How Soon Will a Complaint be Resolved?\n",
    "## A Case Study on New York City 311 Call\n",
    "## Final Report\n",
    "\n",
    "Data Source: NYC Open Data - 311 Service Requests from 2010 to Present  \n",
    "URL: https://nycopendata.socrata.com/Social-Services/311-Service-Requests-from-2010-to-Present/erm2-nwe9  \n",
    "Analyst: Eugene Wen"
   ]
  },
  {
   "cell_type": "markdown",
   "metadata": {},
   "source": [
    "### Background\n",
    "New York City 311 call data is part of the NYC Opendata project that provides many interesting information about the 311 calls filing complaints to the NYPD. An important aspect is how fast an array of city agencies close the complaints.\n",
    "\n",
    "This analysis attempted to predict, at the time of filing the complaint, how soon in average the case would be resolved (closed). Also, it would be interesting to find out which variable plays important role in the response time.\n",
    "\n",
    "The full dataset in CSV format can be downloaded from NYC Opendata website."
   ]
  },
  {
   "cell_type": "markdown",
   "metadata": {
    "collapsed": true
   },
   "source": [
    "### Subsample datasets for model development\n",
    "First installed subsample package through pip, then changed directory to NYC311 data folder and run command as follows to randomly draw 500,000 rows:\n",
    "\n",
    "`subsample -n 500000 311_Service_Requests_from_2010_to_Present.csv -r > nyc311_sample.csv`  \n",
    "\n",
    "Note that this dataset is used for development. In the final report all 10GB data will be used for analysis."
   ]
  },
  {
   "cell_type": "code",
   "execution_count": 1,
   "metadata": {},
   "outputs": [],
   "source": [
    "# Load packages\n",
    "import numpy as np\n",
    "import pandas as pd\n",
    "from pyspark.sql import SparkSession\n",
    "\n",
    "# Start a spark session\n",
    "spark = SparkSession.builder.appName('nyc311').getOrCreate()"
   ]
  },
  {
   "cell_type": "code",
   "execution_count": 2,
   "metadata": {
    "scrolled": true
   },
   "outputs": [],
   "source": [
    "# Load sample dataset\n",
    "df = spark.read.csv('../NYC311/nyc311_sample.csv', inferSchema=False, header=True)"
   ]
  },
  {
   "cell_type": "markdown",
   "metadata": {},
   "source": [
    "### Data Wrangling"
   ]
  },
  {
   "cell_type": "markdown",
   "metadata": {},
   "source": [
    "#### Derive the Target Variable: Response Time\n",
    "\n",
    "The dataset includes two timestamp columns: Created Date, which indicates that when the case was created in the system, and Closed Data, which recorded when the case was resolved and closed. The difference between the two timestamps is the actual response time, i.e. how long it took to complete the case from filing time, in seconds.\n",
    "\n",
    "For convenience, the response time in seconds was converted into days by applying the ceiling of the day fraction. If the case was resolved immediately, the response time in days would be 1 day."
   ]
  },
  {
   "cell_type": "code",
   "execution_count": 3,
   "metadata": {},
   "outputs": [
    {
     "name": "stdout",
     "output_type": "stream",
     "text": [
      "+----------+---------+\n",
      "|Unique Key|Resp_time|\n",
      "+----------+---------+\n",
      "|  32199603|       22|\n",
      "|  20074547|        2|\n",
      "|  28951515|        1|\n",
      "|  17575598|        5|\n",
      "|  28270434|        3|\n",
      "|  34115581|       13|\n",
      "|  28261221|        1|\n",
      "|  22829180|        2|\n",
      "|  29709630|        1|\n",
      "|  20809019|        8|\n",
      "+----------+---------+\n",
      "only showing top 10 rows\n",
      "\n"
     ]
    }
   ],
   "source": [
    "# Calculate the response time as the difference between created date and closed date, in minutes.\n",
    "from pyspark.sql.functions import unix_timestamp, floor\n",
    "\n",
    "fmt = \"MM/dd/yyyy hh:mm:ss a\"\n",
    "# fmt2 = \"MM/dd/yyyy HH:mm:ss\" ## 12-Hr based time. Can't handle AM/PM.\n",
    "starttime = unix_timestamp(df['Created Date'], format=fmt)\n",
    "endtime = unix_timestamp(df['Closed Date'], format=fmt)\n",
    "\n",
    "df = df.withColumn(\"Resp_time\", floor((endtime - starttime)/86400) + 1)\n",
    "df['Unique Key', 'Resp_time'].show(10)"
   ]
  },
  {
   "cell_type": "markdown",
   "metadata": {},
   "source": [
    "#### Choice of  Variables\n",
    "\n",
    "It is noticed that a number of variables have very little information, such as Taxi Company Borough and Road Ramp. These variables were dropped.\n",
    "\n",
    "Also, Borough has general geographical information. Therefore, there was no need to keep the coordinate information unless for spatial analysis (which we won't conduct here anyway).\n",
    "\n",
    "The variables Park Facility Name and starting with School, although seem to have quite rich information, have a major portion of \"Unspecified\" category which does not have useful information. These variables should also be dropped."
   ]
  },
  {
   "cell_type": "code",
   "execution_count": 4,
   "metadata": {},
   "outputs": [
    {
     "name": "stdout",
     "output_type": "stream",
     "text": [
      "+--------------------+-----+\n",
      "|  Park Facility Name|count|\n",
      "+--------------------+-----+\n",
      "|         Unspecified|49653|\n",
      "|        Central Park|   18|\n",
      "|       Prospect Park|    7|\n",
      "|   Hudson River Park|    7|\n",
      "|      Riverside Park|    5|\n",
      "|        Astoria Park|    4|\n",
      "|Flushing Meadows ...|    4|\n",
      "|      City Hall Park|    3|\n",
      "|       John Jay Park|    3|\n",
      "|     Alley Pond Park|    3|\n",
      "+--------------------+-----+\n",
      "only showing top 10 rows\n",
      "\n"
     ]
    }
   ],
   "source": [
    "# Example of category distribution for Park Fercility Name\n",
    "from pyspark.sql.functions import desc\n",
    "df.groupby('Park Facility Name').count().sort(desc(\"count\")).show(10)"
   ]
  },
  {
   "cell_type": "code",
   "execution_count": 5,
   "metadata": {},
   "outputs": [],
   "source": [
    "# Choose the variables\n",
    "df_input = df.select([\"Unique Key\", \"Created Date\", \"Closed Date\", \"Agency\", \"Complaint Type\", \"Status\", \"Borough\", \\\n",
    "                      \"Park Borough\", \"Resp_time\"])"
   ]
  },
  {
   "cell_type": "markdown",
   "metadata": {},
   "source": [
    "#### Eliminate incorrectly parsed rows\n",
    "A few rows were identified to be incorrectly parsed while reading in the CSV file. Given the very low number of problematic rows we decided to eliminate them from analysis.\n",
    "\n",
    "See example below: the variable Park Borough in the original dataset was OK but the dataframe in memory has three rows that having mis-alignment issue."
   ]
  },
  {
   "cell_type": "code",
   "execution_count": 6,
   "metadata": {},
   "outputs": [
    {
     "name": "stdout",
     "output_type": "stream",
     "text": [
      "+-------------+-----+\n",
      "| Park Borough|count|\n",
      "+-------------+-----+\n",
      "|     BROOKLYN|14279|\n",
      "|       QUEENS|10990|\n",
      "|    MANHATTAN| 9794|\n",
      "|        BRONX| 8480|\n",
      "|  Unspecified| 4031|\n",
      "|STATEN ISLAND| 2423|\n",
      "|       225841|    1|\n",
      "|       195829|    1|\n",
      "|       185215|    1|\n",
      "+-------------+-----+\n",
      "\n"
     ]
    }
   ],
   "source": [
    "df.groupby('Park Borough').count().sort(desc(\"count\")).show(10)"
   ]
  },
  {
   "cell_type": "code",
   "execution_count": 7,
   "metadata": {},
   "outputs": [
    {
     "name": "stdout",
     "output_type": "stream",
     "text": [
      "+----------+--------------------+--------------------+------+--------------+------+--------------------+------------+---------+\n",
      "|Unique Key|        Created Date|         Closed Date|Agency|Complaint Type|Status|             Borough|Park Borough|Resp_time|\n",
      "+----------+--------------------+--------------------+------+--------------+------+--------------------+------------+---------+\n",
      "|  18741880|09/22/2010 03:05:...|11/04/2010 10:30:...|   DEP|         Noise|Closed|11/04/2010 10:30:...|      225841|       43|\n",
      "+----------+--------------------+--------------------+------+--------------+------+--------------------+------------+---------+\n",
      "\n"
     ]
    }
   ],
   "source": [
    "df_input.filter(\"`Park Borough` == '225841'\").show()"
   ]
  },
  {
   "cell_type": "code",
   "execution_count": 8,
   "metadata": {},
   "outputs": [],
   "source": [
    "# Drop the three rows with incorrect parsing\n",
    "borough = {\"BROOKLYN\", \"QUEENS\", \"MANHATTAN\", \"BRONX\", \"Unspecified\", \"STATEN ISLAND\"}\n",
    "df_input_clean = df_input.filter(df_input[\"Park Borough\"].isin(borough) == True)"
   ]
  },
  {
   "cell_type": "markdown",
   "metadata": {},
   "source": [
    "### Exploratory Data Analysis"
   ]
  },
  {
   "cell_type": "code",
   "execution_count": 9,
   "metadata": {},
   "outputs": [],
   "source": [
    "# Plot response time distribution\n",
    "import matplotlib.pyplot as plt\n",
    "import seaborn as sns\n",
    "% matplotlib inline\n",
    "df_input_pd = df_input.toPandas()"
   ]
  },
  {
   "cell_type": "markdown",
   "metadata": {},
   "source": [
    "We would like to check the distribution of the derived response time variable. It looks like there are some negative values!"
   ]
  },
  {
   "cell_type": "code",
   "execution_count": 10,
   "metadata": {},
   "outputs": [
    {
     "data": {
      "text/plain": [
       "<matplotlib.axes._subplots.AxesSubplot at 0xdf16fd0>"
      ]
     },
     "execution_count": 10,
     "metadata": {},
     "output_type": "execute_result"
    },
    {
     "data": {
      "image/png": "[encoded data removed]",
      "text/plain": [
       "<matplotlib.figure.Figure at 0xbc69630>"
      ]
     },
     "metadata": {},
     "output_type": "display_data"
    }
   ],
   "source": [
    "sns.set()\n",
    "sns.distplot(df_input_pd.Resp_time.dropna(), kde=True, color='b')"
   ]
  },
  {
   "cell_type": "markdown",
   "metadata": {},
   "source": [
    "A further drill down of these negative values and missing values showed that for some reason, about 5% data have Closed Data earlier than the Created Data, or missing the Closed Data (remains open). By looking up the website and related documentations, there apparently was neither clear explanation nor solution. We therefore decided to drop these rows."
   ]
  },
  {
   "cell_type": "code",
   "execution_count": 11,
   "metadata": {},
   "outputs": [],
   "source": [
    "df_input = df_input.filter(\"`Resp_time` > 0\")"
   ]
  },
  {
   "cell_type": "markdown",
   "metadata": {},
   "source": [
    "Plot the distribution of the response time again showed that the distribution is very skewed. We then tried to plot in log scale and the plot improved."
   ]
  },
  {
   "cell_type": "code",
   "execution_count": 12,
   "metadata": {},
   "outputs": [
    {
     "data": {
      "text/plain": [
       "<matplotlib.axes._subplots.AxesSubplot at 0xe104748>"
      ]
     },
     "execution_count": 12,
     "metadata": {},
     "output_type": "execute_result"
    },
    {
     "data": {
      "image/png": "[encoded data removed]",
      "text/plain": [
       "<matplotlib.figure.Figure at 0x5c89fd0>"
      ]
     },
     "metadata": {},
     "output_type": "display_data"
    }
   ],
   "source": [
    "# Plot the distribution of response time again\n",
    "sns.set()\n",
    "sns.distplot(df_input.toPandas().Resp_time, kde=True, color='b')"
   ]
  },
  {
   "cell_type": "code",
   "execution_count": 13,
   "metadata": {},
   "outputs": [
    {
     "data": {
      "text/plain": [
       "<matplotlib.axes._subplots.AxesSubplot at 0xe22cdd8>"
      ]
     },
     "execution_count": 13,
     "metadata": {},
     "output_type": "execute_result"
    },
    {
     "data": {
      "image/png": "[encoded data removed]",
      "text/plain": [
       "<matplotlib.figure.Figure at 0x5ca5080>"
      ]
     },
     "metadata": {},
     "output_type": "display_data"
    }
   ],
   "source": [
    "# Plot the distribution of response time again, with log transformation\n",
    "sns.set()\n",
    "sns.distplot(np.log(df_input.toPandas().Resp_time), kde=True, color='b')"
   ]
  },
  {
   "cell_type": "markdown",
   "metadata": {},
   "source": [
    "The log scale response time variable was created in the dataframe and will be used as the target variable."
   ]
  },
  {
   "cell_type": "code",
   "execution_count": 14,
   "metadata": {},
   "outputs": [],
   "source": [
    "# Create log scale response time instead for modeling\n",
    "from pyspark.sql.functions import log\n",
    "df_input = df_input.withColumn(\"log_Resp_time\", log(df_input.Resp_time))"
   ]
  },
  {
   "cell_type": "markdown",
   "metadata": {},
   "source": [
    "### Machine Learning Models"
   ]
  },
  {
   "cell_type": "code",
   "execution_count": 15,
   "metadata": {},
   "outputs": [],
   "source": [
    "from pyspark.ml.feature import StringIndexer\n",
    "from pyspark.ml.linalg import Vectors\n",
    "from pyspark.ml.feature import VectorAssembler\n",
    "from pyspark.ml import Pipeline\n",
    "\n",
    "indexer1 = StringIndexer(inputCol=\"Agency\", outputCol=\"AgencyVec\")\n",
    "indexer2 = StringIndexer(inputCol=\"Complaint Type\", outputCol=\"CompTypeVec\")\n",
    "indexer3 = StringIndexer(inputCol=\"Borough\", outputCol=\"BoroughVec\")\n",
    "indexer4 = StringIndexer(inputCol=\"Park Borough\", outputCol=\"PBoroughVec\")\n",
    "\n",
    "assembler = VectorAssembler(inputCols=[\"AgencyVec\", \"CompTypeVec\", \"BoroughVec\", \"PBoroughVec\"], outputCol='features')\n",
    "\n",
    "pipeline = Pipeline(stages = [indexer1, indexer2, indexer3, indexer4, assembler])\n",
    "\n",
    "df_input_dense = pipeline.fit(df_input).transform(df_input)\n",
    "\n",
    "df_input_final = df_input_dense.select(['features', 'log_Resp_time'])"
   ]
  },
  {
   "cell_type": "code",
   "execution_count": 16,
   "metadata": {},
   "outputs": [
    {
     "name": "stdout",
     "output_type": "stream",
     "text": [
      "+-------------------+------------------+\n",
      "|           features|     log_Resp_time|\n",
      "+-------------------+------------------+\n",
      "| [8.0,28.0,1.0,1.0]| 3.091042453358316|\n",
      "|  [2.0,3.0,0.0,0.0]|0.6931471805599453|\n",
      "|[12.0,39.0,4.0,4.0]|               0.0|\n",
      "| [4.0,17.0,5.0,5.0]|1.6094379124341003|\n",
      "| [0.0,72.0,5.0,5.0]|1.0986122886681098|\n",
      "|     (4,[1],[18.0])|2.5649493574615367|\n",
      "| [1.0,16.0,1.0,1.0]|               0.0|\n",
      "| [6.0,52.0,0.0,0.0]|0.6931471805599453|\n",
      "|[9.0,105.0,2.0,2.0]|               0.0|\n",
      "| [0.0,18.0,3.0,3.0]|2.0794415416798357|\n",
      "+-------------------+------------------+\n",
      "only showing top 10 rows\n",
      "\n"
     ]
    }
   ],
   "source": [
    "df_input_final.show(10)"
   ]
  },
  {
   "cell_type": "code",
   "execution_count": 17,
   "metadata": {},
   "outputs": [],
   "source": [
    "# Split dataset into training and testing sets\n",
    "train_data, test_data = df_input_final.randomSplit([0.7, 0.3])"
   ]
  },
  {
   "cell_type": "code",
   "execution_count": 18,
   "metadata": {},
   "outputs": [
    {
     "data": {
      "text/plain": [
       "1.3875192368006197"
      ]
     },
     "execution_count": 18,
     "metadata": {},
     "output_type": "execute_result"
    }
   ],
   "source": [
    "# First run\n",
    "from pyspark.ml.regression import LinearRegression\n",
    "\n",
    "# training set requires two columns: label and features.\n",
    "\n",
    "lr = LinearRegression(featuresCol = 'features', \\\n",
    "                      labelCol = 'log_Resp_time', \\\n",
    "                      predictionCol = 'prediction')\n",
    "lrModel = lr.fit(train_data)\n",
    "lrModel.coefficients\n",
    "lrModel.intercept\n",
    "training_summary = lrModel.summary\n",
    "training_summary.r2\n",
    "training_summary.rootMeanSquaredError"
   ]
  },
  {
   "cell_type": "code",
   "execution_count": 19,
   "metadata": {},
   "outputs": [
    {
     "data": {
      "text/plain": [
       "1.3910773227743898"
      ]
     },
     "execution_count": 19,
     "metadata": {},
     "output_type": "execute_result"
    }
   ],
   "source": [
    "test_results = lrModel.evaluate(test_data)\n",
    "test_results.rootMeanSquaredError"
   ]
  },
  {
   "cell_type": "markdown",
   "metadata": {},
   "source": [
    "#### Other ML Models"
   ]
  },
  {
   "cell_type": "code",
   "execution_count": 20,
   "metadata": {},
   "outputs": [],
   "source": [
    "# Other models using default setup\n",
    "from pyspark.ml.regression import RandomForestRegressor, \\\n",
    "                                  GBTRegressor, \\\n",
    "                                  GeneralizedLinearRegression\n",
    "from pyspark.ml.tuning import ParamGridBuilder, CrossValidator\n",
    "from pyspark.ml.evaluation import RegressionEvaluator"
   ]
  },
  {
   "cell_type": "code",
   "execution_count": 22,
   "metadata": {},
   "outputs": [
    {
     "name": "stdout",
     "output_type": "stream",
     "text": [
      "+------------------+\n",
      "|       avg(sqdiff)|\n",
      "+------------------+\n",
      "|1.9535585255809984|\n",
      "+------------------+\n",
      "\n"
     ]
    }
   ],
   "source": [
    "from pyspark.sql.functions import mean\n",
    "# Generalized Linear Regression\n",
    "glm = GeneralizedLinearRegression(featuresCol='features',\\\n",
    "                                  labelCol='log_Resp_time', \\\n",
    "                                  predictionCol='prediction',\\\n",
    "                                  family=\"poisson\", link=\"log\")\n",
    "glmModel = glm.fit(train_data)\n",
    "\n",
    "# Evaluate on test set\n",
    "\n",
    "test_results_glm = glmModel.transform(test_data)\n",
    "test_results_glm = test_results_glm.withColumn(\"sqdiff\", (test_results_glm[\"prediction\"] - test_results_glm[\"log_Resp_time\"]) * \\\n",
    "                                                         (test_results_glm[\"prediction\"] - test_results_glm[\"log_Resp_time\"]))\n",
    "\n",
    "RMSE_glm = test_results_glm.select(mean(test_results_glm[\"sqdiff\"]))\n",
    "RMSE_glm.show()"
   ]
  },
  {
   "cell_type": "code",
   "execution_count": 23,
   "metadata": {},
   "outputs": [
    {
     "name": "stdout",
     "output_type": "stream",
     "text": [
      "+------------------+\n",
      "|       avg(sqdiff)|\n",
      "+------------------+\n",
      "|0.8738678137422945|\n",
      "+------------------+\n",
      "\n"
     ]
    }
   ],
   "source": [
    "# Random Forest\n",
    "rf = RandomForestRegressor(featuresCol='features',\\\n",
    "                           labelCol='log_Resp_time', \\\n",
    "                           predictionCol='prediction',\\\n",
    "                           numTrees=500, maxDepth=5, maxBins=500, seed=1000)\n",
    "rfModel = rf.fit(train_data)\n",
    "\n",
    "# Evaluate on test set\n",
    "\n",
    "test_results_rf = rfModel.transform(test_data)\n",
    "test_results_rf = test_results_rf.withColumn(\"sqdiff\", (test_results_rf[\"prediction\"] - test_results_rf[\"log_Resp_time\"]) * \\\n",
    "                                                       (test_results_rf[\"prediction\"] - test_results_rf[\"log_Resp_time\"]))\n",
    "\n",
    "from pyspark.sql.functions import mean\n",
    "RMSE_rf = test_results_rf.select(mean(test_results_rf[\"sqdiff\"]))\n",
    "RMSE_rf.show()"
   ]
  },
  {
   "cell_type": "code",
   "execution_count": 24,
   "metadata": {},
   "outputs": [
    {
     "name": "stdout",
     "output_type": "stream",
     "text": [
      "+------------------+\n",
      "|       avg(sqdiff)|\n",
      "+------------------+\n",
      "|0.8780523057012175|\n",
      "+------------------+\n",
      "\n"
     ]
    }
   ],
   "source": [
    "# Gradient Boosting Tree\n",
    "gbt = GBTRegressor(featuresCol='features',\\\n",
    "                   labelCol='log_Resp_time', \\\n",
    "                   predictionCol='prediction',\\\n",
    "                   maxIter=10, maxDepth=5, maxBins=500, seed=1000)\n",
    "gbtModel = gbt.fit(train_data)\n",
    "\n",
    "# Evaluate on test set\n",
    "\n",
    "test_results_gbt = gbtModel.transform(test_data)\n",
    "test_results_gbt = test_results_gbt.withColumn(\"sqdiff\", (test_results_gbt[\"prediction\"] - test_results_gbt[\"log_Resp_time\"]) * \\\n",
    "                                                         (test_results_gbt[\"prediction\"] - test_results_gbt[\"log_Resp_time\"]))\n",
    "\n",
    "RMSE_gbt = test_results_gbt.select(mean(test_results_gbt[\"sqdiff\"]))\n",
    "RMSE_gbt.show()"
   ]
  },
  {
   "cell_type": "code",
   "execution_count": 25,
   "metadata": {},
   "outputs": [
    {
     "data": {
      "text/plain": [
       "SparseVector(4, {0: 0.036, 1: 0.8167, 2: 0.1473})"
      ]
     },
     "execution_count": 25,
     "metadata": {},
     "output_type": "execute_result"
    }
   ],
   "source": [
    "# Variable Importance\n",
    "gbtModel.featureImportances"
   ]
  },
  {
   "cell_type": "code",
   "execution_count": 26,
   "metadata": {},
   "outputs": [],
   "source": [
    "spark.stop()"
   ]
  }
 ],
 "metadata": {
  "kernelspec": {
   "display_name": "Python 3",
   "language": "python",
   "name": "python3"
  },
  "language_info": {
   "codemirror_mode": {
    "name": "ipython",
    "version": 3
   },
   "file_extension": ".py",
   "mimetype": "text/x-python",
   "name": "python",
   "nbconvert_exporter": "python",
   "pygments_lexer": "ipython3",
   "version": "3.6.4"
  }
 },
 "nbformat": 4,
 "nbformat_minor": 2
}
