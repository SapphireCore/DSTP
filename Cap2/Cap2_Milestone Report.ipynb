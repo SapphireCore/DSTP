{
 "cells": [
  {
   "cell_type": "markdown",
   "metadata": {
    "collapsed": true
   },
   "source": [
    "# Capstone Project 2\n",
    "# How Soon Will a Complaint be Resolved?\n",
    "## A Case Study on New York City 311 Call\n",
    "## Notebook in pyspark\n",
    "\n",
    "Data Source: NYC Open Data - 311 Service Requests from 2010 to Present\n",
    "URL: https://nycopendata.socrata.com/Social-Services/311-Service-Requests-from-2010-to-Present/erm2-nwe9\n",
    "Analyst: Eugene Wen"
   ]
  },
  {
   "cell_type": "markdown",
   "metadata": {
    "collapsed": true
   },
   "source": [
    "### Subsample datasets for model development\n",
    "First installed subsample package through pip, then changed directory to NYC311 data folder and run command as follows to randomly draw 500,000 rows:\n",
    "\n",
    "`subsample -n 500000 311_Service_Requests_from_2010_to_Present.csv -r > nyc311_sample.csv`  \n",
    "\n",
    "Note that this dataset is used for development. In the final report all 10GB data will be used for analysis."
   ]
  },
  {
   "cell_type": "code",
   "execution_count": 1,
   "metadata": {},
   "outputs": [],
   "source": [
    "# Load packages\n",
    "import pandas as pd\n",
    "from pyspark.sql import SparkSession"
   ]
  },
  {
   "cell_type": "code",
   "execution_count": 2,
   "metadata": {},
   "outputs": [],
   "source": [
    "# Start a spark session\n",
    "spark = SparkSession.builder.appName('nyc311').getOrCreate()"
   ]
  },
  {
   "cell_type": "code",
   "execution_count": 16,
   "metadata": {},
   "outputs": [
    {
     "name": "stdout",
     "output_type": "stream",
     "text": [
      "root\n",
      " |-- Unique Key: string (nullable = true)\n",
      " |-- Created Date: string (nullable = true)\n",
      " |-- Closed Date: string (nullable = true)\n",
      " |-- Agency: string (nullable = true)\n",
      " |-- Agency Name: string (nullable = true)\n",
      " |-- Complaint Type: string (nullable = true)\n",
      " |-- Descriptor: string (nullable = true)\n",
      " |-- Location Type: string (nullable = true)\n",
      " |-- Incident Zip: string (nullable = true)\n",
      " |-- Incident Address: string (nullable = true)\n",
      " |-- Street Name: string (nullable = true)\n",
      " |-- Cross Street 1: string (nullable = true)\n",
      " |-- Cross Street 2: string (nullable = true)\n",
      " |-- Intersection Street 1: string (nullable = true)\n",
      " |-- Intersection Street 2: string (nullable = true)\n",
      " |-- Address Type: string (nullable = true)\n",
      " |-- City: string (nullable = true)\n",
      " |-- Landmark: string (nullable = true)\n",
      " |-- Facility Type: string (nullable = true)\n",
      " |-- Status: string (nullable = true)\n",
      " |-- Due Date: string (nullable = true)\n",
      " |-- Resolution Description: string (nullable = true)\n",
      " |-- Resolution Action Updated Date: string (nullable = true)\n",
      " |-- Community Board: string (nullable = true)\n",
      " |-- Borough: string (nullable = true)\n",
      " |-- X Coordinate (State Plane): string (nullable = true)\n",
      " |-- Y Coordinate (State Plane): string (nullable = true)\n",
      " |-- Park Facility Name: string (nullable = true)\n",
      " |-- Park Borough: string (nullable = true)\n",
      " |-- School Name: string (nullable = true)\n",
      " |-- School Number: string (nullable = true)\n",
      " |-- School Region: string (nullable = true)\n",
      " |-- School Code: string (nullable = true)\n",
      " |-- School Phone Number: string (nullable = true)\n",
      " |-- School Address: string (nullable = true)\n",
      " |-- School City: string (nullable = true)\n",
      " |-- School State: string (nullable = true)\n",
      " |-- School Zip: string (nullable = true)\n",
      " |-- School Not Found: string (nullable = true)\n",
      " |-- School or Citywide Complaint: string (nullable = true)\n",
      " |-- Vehicle Type: string (nullable = true)\n",
      " |-- Taxi Company Borough: string (nullable = true)\n",
      " |-- Taxi Pick Up Location: string (nullable = true)\n",
      " |-- Bridge Highway Name: string (nullable = true)\n",
      " |-- Bridge Highway Direction: string (nullable = true)\n",
      " |-- Road Ramp: string (nullable = true)\n",
      " |-- Bridge Highway Segment: string (nullable = true)\n",
      " |-- Garage Lot Name: string (nullable = true)\n",
      " |-- Ferry Direction: string (nullable = true)\n",
      " |-- Ferry Terminal Name: string (nullable = true)\n",
      " |-- Latitude: string (nullable = true)\n",
      " |-- Longitude: string (nullable = true)\n",
      " |-- Location: string (nullable = true)\n",
      "\n"
     ]
    }
   ],
   "source": [
    "# Load sample dataset\n",
    "df = spark.read.csv('../NYC311/nyc311_sample.csv', inferSchema=False, header=True)\n",
    "df.printSchema()"
   ]
  },
  {
   "cell_type": "code",
   "execution_count": 10,
   "metadata": {},
   "outputs": [
    {
     "name": "stdout",
     "output_type": "stream",
     "text": [
      "+----------+--------------------+--------------------+\n",
      "|Unique Key|        Created Date|         Closed Date|\n",
      "+----------+--------------------+--------------------+\n",
      "|  32199603|12/14/2015 12:00:...|01/04/2016 12:00:...|\n",
      "|  20074547|03/21/2011 04:22:...|03/23/2011 02:49:...|\n",
      "|  28951515|09/25/2014 06:18:...|09/25/2014 06:19:...|\n",
      "|  17575598|07/03/2010 10:11:...|07/07/2010 12:00:...|\n",
      "|  28270434|06/16/2014 12:00:...|06/18/2014 12:00:...|\n",
      "|  34115581|08/18/2016 02:24:...|08/31/2016 12:47:...|\n",
      "|  28261221|06/14/2014 09:12:...|06/14/2014 10:44:...|\n",
      "|  22829180|03/06/2012 12:05:...|03/07/2012 01:36:...|\n",
      "|  29709630|01/13/2015 05:51:...|01/13/2015 05:51:...|\n",
      "|  20809019|07/11/2011 12:00:...|07/18/2011 12:00:...|\n",
      "|  29450972|12/07/2014 12:00:...|12/09/2014 12:00:...|\n",
      "|  34728843|11/07/2016 10:24:...|11/08/2016 10:58:...|\n",
      "|  34260889|09/07/2016 06:03:...|09/27/2016 03:49:...|\n",
      "|  36413130|06/11/2017 01:20:...|06/11/2017 04:35:...|\n",
      "|  25301783|04/04/2013 11:30:...|04/05/2013 12:49:...|\n",
      "|  15994647|02/12/2010 02:06:...|02/12/2010 03:30:...|\n",
      "|  20885742|07/22/2011 12:00:...|08/16/2011 12:00:...|\n",
      "|  19128116|11/15/2010 09:48:...|11/15/2010 11:04:...|\n",
      "|  32064460|11/24/2015 08:59:...|12/08/2015 08:52:...|\n",
      "|  30699222|05/26/2015 09:44:...|05/26/2015 02:11:...|\n",
      "+----------+--------------------+--------------------+\n",
      "only showing top 20 rows\n",
      "\n"
     ]
    }
   ],
   "source": [
    "# Check the first three columns we are interested in.\n",
    "df['Unique Key', 'Created Date', 'Closed Date'].show()"
   ]
  },
  {
   "cell_type": "code",
   "execution_count": 19,
   "metadata": {},
   "outputs": [
    {
     "name": "stdout",
     "output_type": "stream",
     "text": [
      "+----------+---------+\n",
      "|Unique Key|Resp_time|\n",
      "+----------+---------+\n",
      "|  32199603|  1814400|\n",
      "|  20074547|   167208|\n",
      "|  28951515|       57|\n",
      "|  17575598|   352140|\n",
      "|  28270434|   172800|\n",
      "|  34115581|  1117391|\n",
      "|  28261221|     5472|\n",
      "|  22829180|    91874|\n",
      "|  29709630|       48|\n",
      "|  20809019|   604800|\n",
      "|  29450972|   172800|\n",
      "|  34728843|   131670|\n",
      "|  34260889|  1719949|\n",
      "|  36413130|    11671|\n",
      "|  25301783|     4782|\n",
      "|  15994647|     5040|\n",
      "|  20885742|  2160000|\n",
      "|  19128116|     4566|\n",
      "|  32064460|  1209167|\n",
      "|  30699222|    16071|\n",
      "+----------+---------+\n",
      "only showing top 20 rows\n",
      "\n"
     ]
    }
   ],
   "source": [
    "# Calculate the response time as the difference between created date and closed date, in minutes.\n",
    "from pyspark.sql.functions import unix_timestamp\n",
    "\n",
    "fmt = \"MM/dd/yyyy hh:mm:ss a\"\n",
    "# fmt2 = \"MM/dd/yyyy HH:mm:ss\" ## 12-Hr based time. Can't handle AM/PM.\n",
    "starttime = unix_timestamp(df['Created Date'], format=fmt)\n",
    "endtime = unix_timestamp(df['Closed Date'], format=fmt)\n",
    "\n",
    "df = df.withColumn(\"Resp_time\", endtime - starttime)\n",
    "df['Unique Key', 'Resp_time'].show()"
   ]
  },
  {
   "cell_type": "markdown",
   "metadata": {},
   "source": [
    "### Data Wrangling\n"
   ]
  },
  {
   "cell_type": "code",
   "execution_count": null,
   "metadata": {},
   "outputs": [],
   "source": [
    "from pyspark.ml.linalg import Vectors\n",
    "from pyspark.ml.feature import VectorAssembler"
   ]
  },
  {
   "cell_type": "code",
   "execution_count": null,
   "metadata": {
    "collapsed": true
   },
   "outputs": [],
   "source": [
    "# Check missing patterns"
   ]
  },
  {
   "cell_type": "code",
   "execution_count": null,
   "metadata": {
    "collapsed": true
   },
   "outputs": [],
   "source": [
    "data = spark.read.csv('Ecommerce_Customers.csv', \\\n",
    "                      inferSchema=True, header=True)\n",
    "\n"
   ]
  },
  {
   "cell_type": "code",
   "execution_count": null,
   "metadata": {},
   "outputs": [],
   "source": [
    "assembler = VectorAssembler(inputCols=['A', 'B', 'C'], \\\n",
    "                            outputCol='features')\n",
    "output = assembler.transofrom(data) # Dense vector\n",
    "final_data = output.select(['features', 'target'])"
   ]
  },
  {
   "cell_type": "markdown",
   "metadata": {},
   "source": [
    "### Exploratory Data Analysis"
   ]
  },
  {
   "cell_type": "code",
   "execution_count": null,
   "metadata": {
    "collapsed": true
   },
   "outputs": [],
   "source": [
    "# Plot response time distribution"
   ]
  },
  {
   "cell_type": "code",
   "execution_count": null,
   "metadata": {
    "collapsed": true
   },
   "outputs": [],
   "source": []
  },
  {
   "cell_type": "markdown",
   "metadata": {},
   "source": [
    "### Machine Learning Models"
   ]
  },
  {
   "cell_type": "code",
   "execution_count": 14,
   "metadata": {
    "collapsed": true
   },
   "outputs": [],
   "source": [
    "# First run\n",
    "from pyspark.ml.regression import LinearRegression\n",
    "training = spark.read.format('libsvm').load('file path')\n",
    "\n",
    "# training set requires two columns: label and features.\n",
    "\n",
    "lr = LinearRegression(featuresCol = 'features', \\\n",
    "                      labelCol = 'label', \\\n",
    "                      predictionCol = 'prediction')\n",
    "lrModel = lr.fit(training)\n",
    "lrModel.coefficients\n",
    "lrModel.intercept\n",
    "training_summary = lrModel.summary\n",
    "training_summary.r2\n",
    "training_summary.rootMeanSquaredError\n",
    "\n"
   ]
  },
  {
   "cell_type": "code",
   "execution_count": null,
   "metadata": {},
   "outputs": [],
   "source": [
    "# Split dataset into training and testing sets\n",
    "all_data = all_data\n",
    "train_data, test_data = all_data.randomSplit([0.7, 0.3])"
   ]
  },
  {
   "cell_type": "code",
   "execution_count": null,
   "metadata": {},
   "outputs": [],
   "source": [
    "correct_model = lr.fit(train_data)\n",
    "test_results = correct_model.evaluate(test_data)\n",
    "test_results.rootMeanSquaredError"
   ]
  },
  {
   "cell_type": "code",
   "execution_count": null,
   "metadata": {},
   "outputs": [],
   "source": [
    "# Prediction\n",
    "\n",
    "predictions = correct_model.transform(unlabeled_data)"
   ]
  },
  {
   "cell_type": "code",
   "execution_count": 15,
   "metadata": {
    "collapsed": true
   },
   "outputs": [],
   "source": [
    "# Tuning with optimal subset"
   ]
  },
  {
   "cell_type": "code",
   "execution_count": 16,
   "metadata": {
    "collapsed": true
   },
   "outputs": [],
   "source": [
    "# Final model choice with optimal hyperparameter(s)"
   ]
  },
  {
   "cell_type": "code",
   "execution_count": null,
   "metadata": {
    "collapsed": true
   },
   "outputs": [],
   "source": [
    "from pyspark.sql.functions import corr\n",
    "df.select(corr('crew', 'passengers')).show()"
   ]
  },
  {
   "cell_type": "code",
   "execution_count": null,
   "metadata": {
    "collapsed": true
   },
   "outputs": [],
   "source": [
    "# Decision Tree\n"
   ]
  },
  {
   "cell_type": "code",
   "execution_count": null,
   "metadata": {
    "collapsed": true
   },
   "outputs": [],
   "source": [
    "# Random Forest\n",
    "from pyspark.ml.regression import RandomForestRegressor, \\\n",
    "                                  GBTRegressor, \\\n",
    "                                  GeneralizedLinearRegression"
   ]
  },
  {
   "cell_type": "code",
   "execution_count": null,
   "metadata": {
    "collapsed": true
   },
   "outputs": [],
   "source": []
  },
  {
   "cell_type": "code",
   "execution_count": null,
   "metadata": {
    "collapsed": true
   },
   "outputs": [],
   "source": []
  },
  {
   "cell_type": "markdown",
   "metadata": {},
   "source": [
    "### Results"
   ]
  },
  {
   "cell_type": "code",
   "execution_count": 17,
   "metadata": {
    "collapsed": true
   },
   "outputs": [],
   "source": [
    "# Final model training"
   ]
  },
  {
   "cell_type": "code",
   "execution_count": 18,
   "metadata": {
    "collapsed": true
   },
   "outputs": [],
   "source": [
    "# Final model evaluation"
   ]
  },
  {
   "cell_type": "code",
   "execution_count": 9,
   "metadata": {},
   "outputs": [
    {
     "ename": "NameError",
     "evalue": "name 'Seq' is not defined",
     "output_type": "error",
     "traceback": [
      "\u001b[1;31m---------------------------------------------------------------------------\u001b[0m",
      "\u001b[1;31mNameError\u001b[0m                                 Traceback (most recent call last)",
      "\u001b[1;32m<ipython-input-9-6bef08b51c2a>\u001b[0m in \u001b[0;36m<module>\u001b[1;34m()\u001b[0m\n\u001b[1;32m----> 1\u001b[1;33m \u001b[0mdf\u001b[0m \u001b[1;33m=\u001b[0m \u001b[0mSeq\u001b[0m\u001b[1;33m(\u001b[0m\u001b[1;33m(\u001b[0m\u001b[1;36m1\u001b[0m\u001b[1;33m,\u001b[0m \u001b[1;34m\"12/14/2015 12:00:45 AM\"\u001b[0m\u001b[1;33m)\u001b[0m\u001b[1;33m,\u001b[0m \u001b[1;33m(\u001b[0m\u001b[1;36m2\u001b[0m\u001b[1;33m,\u001b[0m \u001b[1;34m\"#$**#\"\u001b[0m\u001b[1;33m)\u001b[0m\u001b[1;33m)\u001b[0m\u001b[1;33m.\u001b[0m\u001b[0mtoDF\u001b[0m\u001b[1;33m(\u001b[0m\u001b[1;34m\"id\"\u001b[0m\u001b[1;33m,\u001b[0m \u001b[1;34m\"dts\"\u001b[0m\u001b[1;33m)\u001b[0m\u001b[1;33m\u001b[0m\u001b[0m\n\u001b[0m",
      "\u001b[1;31mNameError\u001b[0m: name 'Seq' is not defined"
     ]
    }
   ],
   "source": [
    "df = readSeq((1, \"12/14/2015 12:00:45 AM\"), (2, \"#$**#\")).toDF(\"id\", \"dts\")"
   ]
  },
  {
   "cell_type": "code",
   "execution_count": null,
   "metadata": {},
   "outputs": [],
   "source": []
  }
 ],
 "metadata": {
  "kernelspec": {
   "display_name": "Python 3",
   "language": "python",
   "name": "python3"
  },
  "language_info": {
   "codemirror_mode": {
    "name": "ipython",
    "version": 3
   },
   "file_extension": ".py",
   "mimetype": "text/x-python",
   "name": "python",
   "nbconvert_exporter": "python",
   "pygments_lexer": "ipython3",
   "version": "3.6.4"
  }
 },
 "nbformat": 4,
 "nbformat_minor": 2
}
