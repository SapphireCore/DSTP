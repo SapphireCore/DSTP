{
 "cells": [
  {
   "cell_type": "markdown",
   "metadata": {
    "collapsed": true
   },
   "source": [
    "# Capstone Project 1\n",
    "# Lending Club Loan Status Analysis\n",
    "## Part 2: Data Storytelling with Engineered Features\n",
    "\n",
    "Data Source: Kaggle Dataset -- Lending Club Loan Data  \n",
    "URL: https://www.kaggle.com/wendykan/lending-club-loan-data  \n",
    "Analyst: Eugene Wen"
   ]
  },
  {
   "cell_type": "markdown",
   "metadata": {},
   "source": [
    "### Introduction\n",
    "Through Part 1, we raised up a few interesting questions in this dataset. They are:\n",
    "1. How is the LendingClub total loan amount change over time? How about volume (number of approved loans)?\n",
    "2. Whether the loan amount and volume has geographic pattern?\n",
    "3. How many categories does loan status have? How are they distributed?\n",
    "4. The loan grade is expected to reflect the risk. Is this true?\n",
    "5. How are these loan used for? \n",
    "\n",
    "In this part of analysis we will address these questions, regardless their relevance to the loan status."
   ]
  },
  {
   "cell_type": "code",
   "execution_count": 1,
   "metadata": {},
   "outputs": [],
   "source": [
    "# Load the cleaned dataset from Part 1\n",
    "%run ./py/DataWrangling.py"
   ]
  },
  {
   "cell_type": "code",
   "execution_count": 27,
   "metadata": {},
   "outputs": [],
   "source": [
    "# Load used python modules and functions\n",
    "import pandas as pd\n",
    "import numpy as np\n",
    "import plotly.plotly as py\n",
    "import matplotlib.pyplot as plt\n",
    "import seaborn as sns\n",
    "\n",
    "from bokeh.plotting import figure\n",
    "from bokeh.io import output_notebook, show\n",
    "from bokeh.layouts import row, column"
   ]
  },
  {
   "cell_type": "markdown",
   "metadata": {},
   "source": [
    "#### Question 1: How is the LendingClub total loan amount change over time? How about volume (number of approved loans)?\n",
    "\n",
    "Both the total loan amount and the loan volume show exponentially growth trends, and starting from the year 2014 there are some (seasonal) fluctuations. In general this is a good indication for a start-up business because the transactions increase over years and the business is growing."
   ]
  },
  {
   "cell_type": "code",
   "execution_count": 3,
   "metadata": {},
   "outputs": [
    {
     "data": {
      "text/html": [
       "\n",
       "    <div class=\"bk-root\">\n",
       "        <a href=\"https://bokeh.pydata.org\" target=\"_blank\" class=\"bk-logo bk-logo-small bk-logo-notebook\"></a>\n",
       "        <span id=\"88834329-7cf1-4c38-ae45-96d605e95aee\">Loading BokehJS ...</span>\n",
       "    </div>"
      ]
     },
     "metadata": {},
     "output_type": "display_data"
    },
    {
     "data": {
      "application/javascript": [
       "\n",
       "(function(root) {\n",
       "  function now() {\n",
       "    return new Date();\n",
       "  }\n",
       "\n",
       "  var force = true;\n",
       "\n",
       "  if (typeof (root._bokeh_onload_callbacks) === \"undefined\" || force === true) {\n",
       "    root._bokeh_onload_callbacks = [];\n",
       "    root._bokeh_is_loading = undefined;\n",
       "  }\n",
       "\n",
       "  var JS_MIME_TYPE = 'application/javascript';\n",
       "  var HTML_MIME_TYPE = 'text/html';\n",
       "  var EXEC_MIME_TYPE = 'application/vnd.bokehjs_exec.v0+json';\n",
       "  var CLASS_NAME = 'output_bokeh rendered_html';\n",
       "\n",
       "  /**\n",
       "   * Render data to the DOM node\n",
       "   */\n",
       "  function render(props, node) {\n",
       "    var script = document.createElement(\"script\");\n",
       "    node.appendChild(script);\n",
       "  }\n",
       "\n",
       "  /**\n",
       "   * Handle when an output is cleared or removed\n",
       "   */\n",
       "  function handleClearOutput(event, handle) {\n",
       "    var cell = handle.cell;\n",
       "\n",
       "    var id = cell.output_area._bokeh_element_id;\n",
       "    var server_id = cell.output_area._bokeh_server_id;\n",
       "    // Clean up Bokeh references\n",
       "    if (id !== undefined) {\n",
       "      Bokeh.index[id].model.document.clear();\n",
       "      delete Bokeh.index[id];\n",
       "    }\n",
       "\n",
       "    if (server_id !== undefined) {\n",
       "      // Clean up Bokeh references\n",
       "      var cmd = \"from bokeh.io.state import curstate; print(curstate().uuid_to_server['\" + server_id + \"'].get_sessions()[0].document.roots[0]._id)\";\n",
       "      cell.notebook.kernel.execute(cmd, {\n",
       "        iopub: {\n",
       "          output: function(msg) {\n",
       "            var element_id = msg.content.text.trim();\n",
       "            Bokeh.index[element_id].model.document.clear();\n",
       "            delete Bokeh.index[element_id];\n",
       "          }\n",
       "        }\n",
       "      });\n",
       "      // Destroy server and session\n",
       "      var cmd = \"import bokeh.io.notebook as ion; ion.destroy_server('\" + server_id + \"')\";\n",
       "      cell.notebook.kernel.execute(cmd);\n",
       "    }\n",
       "  }\n",
       "\n",
       "  /**\n",
       "   * Handle when a new output is added\n",
       "   */\n",
       "  function handleAddOutput(event, handle) {\n",
       "    var output_area = handle.output_area;\n",
       "    var output = handle.output;\n",
       "\n",
       "    // limit handleAddOutput to display_data with EXEC_MIME_TYPE content only\n",
       "    if ((output.output_type != \"display_data\") || (!output.data.hasOwnProperty(EXEC_MIME_TYPE))) {\n",
       "      return\n",
       "    }\n",
       "\n",
       "    var toinsert = output_area.element.find(`.${CLASS_NAME.split(' ')[0]}`);\n",
       "\n",
       "    if (output.metadata[EXEC_MIME_TYPE][\"id\"] !== undefined) {\n",
       "      toinsert[0].firstChild.textContent = output.data[JS_MIME_TYPE];\n",
       "      // store reference to embed id on output_area\n",
       "      output_area._bokeh_element_id = output.metadata[EXEC_MIME_TYPE][\"id\"];\n",
       "    }\n",
       "    if (output.metadata[EXEC_MIME_TYPE][\"server_id\"] !== undefined) {\n",
       "      var bk_div = document.createElement(\"div\");\n",
       "      bk_div.innerHTML = output.data[HTML_MIME_TYPE];\n",
       "      var script_attrs = bk_div.children[0].attributes;\n",
       "      for (var i = 0; i < script_attrs.length; i++) {\n",
       "        toinsert[0].firstChild.setAttribute(script_attrs[i].name, script_attrs[i].value);\n",
       "      }\n",
       "      // store reference to server id on output_area\n",
       "      output_area._bokeh_server_id = output.metadata[EXEC_MIME_TYPE][\"server_id\"];\n",
       "    }\n",
       "  }\n",
       "\n",
       "  function register_renderer(events, OutputArea) {\n",
       "\n",
       "    function append_mime(data, metadata, element) {\n",
       "      // create a DOM node to render to\n",
       "      var toinsert = this.create_output_subarea(\n",
       "        metadata,\n",
       "        CLASS_NAME,\n",
       "        EXEC_MIME_TYPE\n",
       "      );\n",
       "      this.keyboard_manager.register_events(toinsert);\n",
       "      // Render to node\n",
       "      var props = {data: data, metadata: metadata[EXEC_MIME_TYPE]};\n",
       "      render(props, toinsert[0]);\n",
       "      element.append(toinsert);\n",
       "      return toinsert\n",
       "    }\n",
       "\n",
       "    /* Handle when an output is cleared or removed */\n",
       "    events.on('clear_output.CodeCell', handleClearOutput);\n",
       "    events.on('delete.Cell', handleClearOutput);\n",
       "\n",
       "    /* Handle when a new output is added */\n",
       "    events.on('output_added.OutputArea', handleAddOutput);\n",
       "\n",
       "    /**\n",
       "     * Register the mime type and append_mime function with output_area\n",
       "     */\n",
       "    OutputArea.prototype.register_mime_type(EXEC_MIME_TYPE, append_mime, {\n",
       "      /* Is output safe? */\n",
       "      safe: true,\n",
       "      /* Index of renderer in `output_area.display_order` */\n",
       "      index: 0\n",
       "    });\n",
       "  }\n",
       "\n",
       "  // register the mime type if in Jupyter Notebook environment and previously unregistered\n",
       "  if (root.Jupyter !== undefined) {\n",
       "    var events = require('base/js/events');\n",
       "    var OutputArea = require('notebook/js/outputarea').OutputArea;\n",
       "\n",
       "    if (OutputArea.prototype.mime_types().indexOf(EXEC_MIME_TYPE) == -1) {\n",
       "      register_renderer(events, OutputArea);\n",
       "    }\n",
       "  }\n",
       "\n",
       "  \n",
       "  if (typeof (root._bokeh_timeout) === \"undefined\" || force === true) {\n",
       "    root._bokeh_timeout = Date.now() + 5000;\n",
       "    root._bokeh_failed_load = false;\n",
       "  }\n",
       "\n",
       "  var NB_LOAD_WARNING = {'data': {'text/html':\n",
       "     \"<div style='background-color: #fdd'>\\n\"+\n",
       "     \"<p>\\n\"+\n",
       "     \"BokehJS does not appear to have successfully loaded. If loading BokehJS from CDN, this \\n\"+\n",
       "     \"may be due to a slow or bad network connection. Possible fixes:\\n\"+\n",
       "     \"</p>\\n\"+\n",
       "     \"<ul>\\n\"+\n",
       "     \"<li>re-rerun `output_notebook()` to attempt to load from CDN again, or</li>\\n\"+\n",
       "     \"<li>use INLINE resources instead, as so:</li>\\n\"+\n",
       "     \"</ul>\\n\"+\n",
       "     \"<code>\\n\"+\n",
       "     \"from bokeh.resources import INLINE\\n\"+\n",
       "     \"output_notebook(resources=INLINE)\\n\"+\n",
       "     \"</code>\\n\"+\n",
       "     \"</div>\"}};\n",
       "\n",
       "  function display_loaded() {\n",
       "    var el = document.getElementById(\"88834329-7cf1-4c38-ae45-96d605e95aee\");\n",
       "    if (el != null) {\n",
       "      el.textContent = \"BokehJS is loading...\";\n",
       "    }\n",
       "    if (root.Bokeh !== undefined) {\n",
       "      if (el != null) {\n",
       "        el.textContent = \"BokehJS \" + root.Bokeh.version + \" successfully loaded.\";\n",
       "      }\n",
       "    } else if (Date.now() < root._bokeh_timeout) {\n",
       "      setTimeout(display_loaded, 100)\n",
       "    }\n",
       "  }\n",
       "\n",
       "\n",
       "  function run_callbacks() {\n",
       "    try {\n",
       "      root._bokeh_onload_callbacks.forEach(function(callback) { callback() });\n",
       "    }\n",
       "    finally {\n",
       "      delete root._bokeh_onload_callbacks\n",
       "    }\n",
       "    console.info(\"Bokeh: all callbacks have finished\");\n",
       "  }\n",
       "\n",
       "  function load_libs(js_urls, callback) {\n",
       "    root._bokeh_onload_callbacks.push(callback);\n",
       "    if (root._bokeh_is_loading > 0) {\n",
       "      console.log(\"Bokeh: BokehJS is being loaded, scheduling callback at\", now());\n",
       "      return null;\n",
       "    }\n",
       "    if (js_urls == null || js_urls.length === 0) {\n",
       "      run_callbacks();\n",
       "      return null;\n",
       "    }\n",
       "    console.log(\"Bokeh: BokehJS not loaded, scheduling load and callback at\", now());\n",
       "    root._bokeh_is_loading = js_urls.length;\n",
       "    for (var i = 0; i < js_urls.length; i++) {\n",
       "      var url = js_urls[i];\n",
       "      var s = document.createElement('script');\n",
       "      s.src = url;\n",
       "      s.async = false;\n",
       "      s.onreadystatechange = s.onload = function() {\n",
       "        root._bokeh_is_loading--;\n",
       "        if (root._bokeh_is_loading === 0) {\n",
       "          console.log(\"Bokeh: all BokehJS libraries loaded\");\n",
       "          run_callbacks()\n",
       "        }\n",
       "      };\n",
       "      s.onerror = function() {\n",
       "        console.warn(\"failed to load library \" + url);\n",
       "      };\n",
       "      console.log(\"Bokeh: injecting script tag for BokehJS library: \", url);\n",
       "      document.getElementsByTagName(\"head\")[0].appendChild(s);\n",
       "    }\n",
       "  };var element = document.getElementById(\"88834329-7cf1-4c38-ae45-96d605e95aee\");\n",
       "  if (element == null) {\n",
       "    console.log(\"Bokeh: ERROR: autoload.js configured with elementid '88834329-7cf1-4c38-ae45-96d605e95aee' but no matching script tag was found. \")\n",
       "    return false;\n",
       "  }\n",
       "\n",
       "  var js_urls = [\"https://cdn.pydata.org/bokeh/release/bokeh-0.12.10.min.js\", \"https://cdn.pydata.org/bokeh/release/bokeh-widgets-0.12.10.min.js\", \"https://cdn.pydata.org/bokeh/release/bokeh-tables-0.12.10.min.js\", \"https://cdn.pydata.org/bokeh/release/bokeh-gl-0.12.10.min.js\"];\n",
       "\n",
       "  var inline_js = [\n",
       "    function(Bokeh) {\n",
       "      Bokeh.set_log_level(\"info\");\n",
       "    },\n",
       "    \n",
       "    function(Bokeh) {\n",
       "      \n",
       "    },\n",
       "    function(Bokeh) {\n",
       "      console.log(\"Bokeh: injecting CSS: https://cdn.pydata.org/bokeh/release/bokeh-0.12.10.min.css\");\n",
       "      Bokeh.embed.inject_css(\"https://cdn.pydata.org/bokeh/release/bokeh-0.12.10.min.css\");\n",
       "      console.log(\"Bokeh: injecting CSS: https://cdn.pydata.org/bokeh/release/bokeh-widgets-0.12.10.min.css\");\n",
       "      Bokeh.embed.inject_css(\"https://cdn.pydata.org/bokeh/release/bokeh-widgets-0.12.10.min.css\");\n",
       "      console.log(\"Bokeh: injecting CSS: https://cdn.pydata.org/bokeh/release/bokeh-tables-0.12.10.min.css\");\n",
       "      Bokeh.embed.inject_css(\"https://cdn.pydata.org/bokeh/release/bokeh-tables-0.12.10.min.css\");\n",
       "    }\n",
       "  ];\n",
       "\n",
       "  function run_inline_js() {\n",
       "    \n",
       "    if ((root.Bokeh !== undefined) || (force === true)) {\n",
       "      for (var i = 0; i < inline_js.length; i++) {\n",
       "        inline_js[i].call(root, root.Bokeh);\n",
       "      }if (force === true) {\n",
       "        display_loaded();\n",
       "      }} else if (Date.now() < root._bokeh_timeout) {\n",
       "      setTimeout(run_inline_js, 100);\n",
       "    } else if (!root._bokeh_failed_load) {\n",
       "      console.log(\"Bokeh: BokehJS failed to load within specified timeout.\");\n",
       "      root._bokeh_failed_load = true;\n",
       "    } else if (force !== true) {\n",
       "      var cell = $(document.getElementById(\"88834329-7cf1-4c38-ae45-96d605e95aee\")).parents('.cell').data().cell;\n",
       "      cell.output_area.append_execute_result(NB_LOAD_WARNING)\n",
       "    }\n",
       "\n",
       "  }\n",
       "\n",
       "  if (root._bokeh_is_loading === 0) {\n",
       "    console.log(\"Bokeh: BokehJS loaded, going straight to plotting\");\n",
       "    run_inline_js();\n",
       "  } else {\n",
       "    load_libs(js_urls, function() {\n",
       "      console.log(\"Bokeh: BokehJS plotting callback run at\", now());\n",
       "      run_inline_js();\n",
       "    });\n",
       "  }\n",
       "}(window));"
      ],
      "application/vnd.bokehjs_load.v0+json": "\n(function(root) {\n  function now() {\n    return new Date();\n  }\n\n  var force = true;\n\n  if (typeof (root._bokeh_onload_callbacks) === \"undefined\" || force === true) {\n    root._bokeh_onload_callbacks = [];\n    root._bokeh_is_loading = undefined;\n  }\n\n  \n\n  \n  if (typeof (root._bokeh_timeout) === \"undefined\" || force === true) {\n    root._bokeh_timeout = Date.now() + 5000;\n    root._bokeh_failed_load = false;\n  }\n\n  var NB_LOAD_WARNING = {'data': {'text/html':\n     \"<div style='background-color: #fdd'>\\n\"+\n     \"<p>\\n\"+\n     \"BokehJS does not appear to have successfully loaded. If loading BokehJS from CDN, this \\n\"+\n     \"may be due to a slow or bad network connection. Possible fixes:\\n\"+\n     \"</p>\\n\"+\n     \"<ul>\\n\"+\n     \"<li>re-rerun `output_notebook()` to attempt to load from CDN again, or</li>\\n\"+\n     \"<li>use INLINE resources instead, as so:</li>\\n\"+\n     \"</ul>\\n\"+\n     \"<code>\\n\"+\n     \"from bokeh.resources import INLINE\\n\"+\n     \"output_notebook(resources=INLINE)\\n\"+\n     \"</code>\\n\"+\n     \"</div>\"}};\n\n  function display_loaded() {\n    var el = document.getElementById(\"88834329-7cf1-4c38-ae45-96d605e95aee\");\n    if (el != null) {\n      el.textContent = \"BokehJS is loading...\";\n    }\n    if (root.Bokeh !== undefined) {\n      if (el != null) {\n        el.textContent = \"BokehJS \" + root.Bokeh.version + \" successfully loaded.\";\n      }\n    } else if (Date.now() < root._bokeh_timeout) {\n      setTimeout(display_loaded, 100)\n    }\n  }\n\n\n  function run_callbacks() {\n    try {\n      root._bokeh_onload_callbacks.forEach(function(callback) { callback() });\n    }\n    finally {\n      delete root._bokeh_onload_callbacks\n    }\n    console.info(\"Bokeh: all callbacks have finished\");\n  }\n\n  function load_libs(js_urls, callback) {\n    root._bokeh_onload_callbacks.push(callback);\n    if (root._bokeh_is_loading > 0) {\n      console.log(\"Bokeh: BokehJS is being loaded, scheduling callback at\", now());\n      return null;\n    }\n    if (js_urls == null || js_urls.length === 0) {\n      run_callbacks();\n      return null;\n    }\n    console.log(\"Bokeh: BokehJS not loaded, scheduling load and callback at\", now());\n    root._bokeh_is_loading = js_urls.length;\n    for (var i = 0; i < js_urls.length; i++) {\n      var url = js_urls[i];\n      var s = document.createElement('script');\n      s.src = url;\n      s.async = false;\n      s.onreadystatechange = s.onload = function() {\n        root._bokeh_is_loading--;\n        if (root._bokeh_is_loading === 0) {\n          console.log(\"Bokeh: all BokehJS libraries loaded\");\n          run_callbacks()\n        }\n      };\n      s.onerror = function() {\n        console.warn(\"failed to load library \" + url);\n      };\n      console.log(\"Bokeh: injecting script tag for BokehJS library: \", url);\n      document.getElementsByTagName(\"head\")[0].appendChild(s);\n    }\n  };var element = document.getElementById(\"88834329-7cf1-4c38-ae45-96d605e95aee\");\n  if (element == null) {\n    console.log(\"Bokeh: ERROR: autoload.js configured with elementid '88834329-7cf1-4c38-ae45-96d605e95aee' but no matching script tag was found. \")\n    return false;\n  }\n\n  var js_urls = [\"https://cdn.pydata.org/bokeh/release/bokeh-0.12.10.min.js\", \"https://cdn.pydata.org/bokeh/release/bokeh-widgets-0.12.10.min.js\", \"https://cdn.pydata.org/bokeh/release/bokeh-tables-0.12.10.min.js\", \"https://cdn.pydata.org/bokeh/release/bokeh-gl-0.12.10.min.js\"];\n\n  var inline_js = [\n    function(Bokeh) {\n      Bokeh.set_log_level(\"info\");\n    },\n    \n    function(Bokeh) {\n      \n    },\n    function(Bokeh) {\n      console.log(\"Bokeh: injecting CSS: https://cdn.pydata.org/bokeh/release/bokeh-0.12.10.min.css\");\n      Bokeh.embed.inject_css(\"https://cdn.pydata.org/bokeh/release/bokeh-0.12.10.min.css\");\n      console.log(\"Bokeh: injecting CSS: https://cdn.pydata.org/bokeh/release/bokeh-widgets-0.12.10.min.css\");\n      Bokeh.embed.inject_css(\"https://cdn.pydata.org/bokeh/release/bokeh-widgets-0.12.10.min.css\");\n      console.log(\"Bokeh: injecting CSS: https://cdn.pydata.org/bokeh/release/bokeh-tables-0.12.10.min.css\");\n      Bokeh.embed.inject_css(\"https://cdn.pydata.org/bokeh/release/bokeh-tables-0.12.10.min.css\");\n    }\n  ];\n\n  function run_inline_js() {\n    \n    if ((root.Bokeh !== undefined) || (force === true)) {\n      for (var i = 0; i < inline_js.length; i++) {\n        inline_js[i].call(root, root.Bokeh);\n      }if (force === true) {\n        display_loaded();\n      }} else if (Date.now() < root._bokeh_timeout) {\n      setTimeout(run_inline_js, 100);\n    } else if (!root._bokeh_failed_load) {\n      console.log(\"Bokeh: BokehJS failed to load within specified timeout.\");\n      root._bokeh_failed_load = true;\n    } else if (force !== true) {\n      var cell = $(document.getElementById(\"88834329-7cf1-4c38-ae45-96d605e95aee\")).parents('.cell').data().cell;\n      cell.output_area.append_execute_result(NB_LOAD_WARNING)\n    }\n\n  }\n\n  if (root._bokeh_is_loading === 0) {\n    console.log(\"Bokeh: BokehJS loaded, going straight to plotting\");\n    run_inline_js();\n  } else {\n    load_libs(js_urls, function() {\n      console.log(\"Bokeh: BokehJS plotting callback run at\", now());\n      run_inline_js();\n    });\n  }\n}(window));"
     },
     "metadata": {},
     "output_type": "display_data"
    },
    {
     "data": {
      "text/html": [
       "\n",
       "<div class=\"bk-root\">\n",
       "    <div class=\"bk-plotdiv\" id=\"7a03aa45-7fc4-4425-9ec8-759b70bc9c99\"></div>\n",
       "</div>"
      ]
     },
     "metadata": {},
     "output_type": "display_data"
    },
    {
     "data": {
      "application/javascript": [
       "(function(root) {\n",
       "  function embed_document(root) {\n",
       "    var docs_json = {\"ec92d503-75bd-469d-b6b8-9055e4a2973b\":{\"roots\":{\"references\":[{\"attributes\":{\"active_drag\":\"auto\",\"active_inspect\":\"auto\",\"active_scroll\":\"auto\",\"active_tap\":\"auto\",\"tools\":[{\"id\":\"53831aa6-169d-4b67-8faa-08e74e471402\",\"type\":\"PanTool\"},{\"id\":\"3d04798b-0f7d-4b69-b12b-9255de256737\",\"type\":\"WheelZoomTool\"},{\"id\":\"069c948e-2ca1-484b-9b36-9115204748be\",\"type\":\"BoxZoomTool\"},{\"id\":\"9f0f2c82-7a3a-400e-ba7a-0c419b031fcf\",\"type\":\"SaveTool\"},{\"id\":\"a09ba97e-1ef7-4d6e-b2b1-706e2ef17bed\",\"type\":\"ResetTool\"},{\"id\":\"3389b545-ed2d-4eaa-88f6-5a608438a77f\",\"type\":\"HelpTool\"}]},\"id\":\"51c7684f-b44f-45c7-bec7-b936741af4ae\",\"type\":\"Toolbar\"},{\"attributes\":{\"line_alpha\":{\"value\":0.1},\"line_color\":{\"value\":\"#1f77b4\"},\"line_width\":{\"value\":2},\"x\":{\"field\":\"x\"},\"y\":{\"field\":\"y\"}},\"id\":\"3db2acac-99bb-4d9b-80c6-e3d91a9e789f\",\"type\":\"Line\"},{\"attributes\":{},\"id\":\"a09ba97e-1ef7-4d6e-b2b1-706e2ef17bed\",\"type\":\"ResetTool\"},{\"attributes\":{\"active_drag\":\"auto\",\"active_inspect\":\"auto\",\"active_scroll\":\"auto\",\"active_tap\":\"auto\",\"tools\":[{\"id\":\"e89140cb-6496-4005-9976-c1fdb0e634d3\",\"type\":\"PanTool\"},{\"id\":\"79863cad-8e7e-4b95-991c-88a7d1ea539d\",\"type\":\"WheelZoomTool\"},{\"id\":\"78bda1ed-1289-43bb-957f-b33992bc3964\",\"type\":\"BoxZoomTool\"},{\"id\":\"86329d7e-cb2e-47f9-9a4e-a0d644b63e9e\",\"type\":\"SaveTool\"},{\"id\":\"32c04b2f-ef78-48ee-9796-b0c8b265d162\",\"type\":\"ResetTool\"},{\"id\":\"4acff4ca-6dad-4f75-9cce-43c9daf7b1e5\",\"type\":\"HelpTool\"}]},\"id\":\"ed5ce230-e741-431e-98cd-4a026e8811bb\",\"type\":\"Toolbar\"},{\"attributes\":{\"below\":[{\"id\":\"c3d5ae2f-ef22-4115-af4a-1735506efed3\",\"type\":\"LinearAxis\"}],\"left\":[{\"id\":\"e9ce715f-1191-4097-8409-841a5010a590\",\"type\":\"LinearAxis\"}],\"renderers\":[{\"id\":\"c3d5ae2f-ef22-4115-af4a-1735506efed3\",\"type\":\"LinearAxis\"},{\"id\":\"cfe7b87d-f418-463d-a80c-1d13032a4577\",\"type\":\"Grid\"},{\"id\":\"e9ce715f-1191-4097-8409-841a5010a590\",\"type\":\"LinearAxis\"},{\"id\":\"51d51814-6460-41b2-8690-ba5d3f88df55\",\"type\":\"Grid\"},{\"id\":\"f3019b48-d747-4eb5-8cc2-87eb1db94908\",\"type\":\"BoxAnnotation\"},{\"id\":\"87be4121-dbd0-45a3-b749-3eed4b82f967\",\"type\":\"GlyphRenderer\"}],\"title\":{\"id\":\"08944cee-e21f-40b0-9333-dc65c58c2e75\",\"type\":\"Title\"},\"toolbar\":{\"id\":\"51c7684f-b44f-45c7-bec7-b936741af4ae\",\"type\":\"Toolbar\"},\"x_range\":{\"id\":\"6a01e921-ce65-43ab-9d60-9528f3201a88\",\"type\":\"DataRange1d\"},\"x_scale\":{\"id\":\"97d294f6-b265-4bf0-aaa0-deb409eb05a5\",\"type\":\"LinearScale\"},\"y_range\":{\"id\":\"df6c33ce-b204-448b-94f0-8c37f6a26350\",\"type\":\"DataRange1d\"},\"y_scale\":{\"id\":\"f317ae5b-3313-4104-ae99-fb48b970291a\",\"type\":\"LinearScale\"}},\"id\":\"ba1bd246-cd85-48d0-a9f0-edf57643f5db\",\"subtype\":\"Figure\",\"type\":\"Plot\"},{\"attributes\":{},\"id\":\"9f0f2c82-7a3a-400e-ba7a-0c419b031fcf\",\"type\":\"SaveTool\"},{\"attributes\":{\"callback\":null},\"id\":\"c5816523-ec7d-48f5-a568-a5f7346b97fa\",\"type\":\"DataRange1d\"},{\"attributes\":{},\"id\":\"f317ae5b-3313-4104-ae99-fb48b970291a\",\"type\":\"LinearScale\"},{\"attributes\":{\"data_source\":{\"id\":\"29a155a4-b9be-48cf-81f0-c99ecf6fe4a7\",\"type\":\"ColumnDataSource\"},\"glyph\":{\"id\":\"ca3455fc-42ae-4125-9ff8-feb159761e2c\",\"type\":\"Line\"},\"hover_glyph\":null,\"muted_glyph\":null,\"nonselection_glyph\":{\"id\":\"443d0d79-ed81-41a4-814d-fbb5939c91ca\",\"type\":\"Line\"},\"selection_glyph\":null,\"view\":{\"id\":\"30b64e4e-4691-4044-9294-6d2651113a15\",\"type\":\"CDSView\"}},\"id\":\"5e93a9d9-908c-4c24-b32b-54c5c3adc110\",\"type\":\"GlyphRenderer\"},{\"attributes\":{\"overlay\":{\"id\":\"f3019b48-d747-4eb5-8cc2-87eb1db94908\",\"type\":\"BoxAnnotation\"}},\"id\":\"069c948e-2ca1-484b-9b36-9115204748be\",\"type\":\"BoxZoomTool\"},{\"attributes\":{\"plot\":null,\"text\":\"Funded Loan Amount over Years\"},\"id\":\"2a4573ed-aaf3-4da5-ad01-3ac69f284eb7\",\"type\":\"Title\"},{\"attributes\":{\"dimension\":1,\"plot\":{\"id\":\"f3778fb8-8272-4d69-b6e3-21056c03b542\",\"subtype\":\"Figure\",\"type\":\"Plot\"},\"ticker\":{\"id\":\"f583340b-f8ad-4b90-9874-0d91c95c5b08\",\"type\":\"BasicTicker\"}},\"id\":\"62a99eff-8eb0-4f68-8fa0-386800aa1f17\",\"type\":\"Grid\"},{\"attributes\":{},\"id\":\"3d04798b-0f7d-4b69-b12b-9255de256737\",\"type\":\"WheelZoomTool\"},{\"attributes\":{\"line_alpha\":{\"value\":0.1},\"line_color\":{\"value\":\"#1f77b4\"},\"line_width\":{\"value\":2},\"x\":{\"field\":\"x\"},\"y\":{\"field\":\"y\"}},\"id\":\"443d0d79-ed81-41a4-814d-fbb5939c91ca\",\"type\":\"Line\"},{\"attributes\":{\"source\":{\"id\":\"29a155a4-b9be-48cf-81f0-c99ecf6fe4a7\",\"type\":\"ColumnDataSource\"}},\"id\":\"30b64e4e-4691-4044-9294-6d2651113a15\",\"type\":\"CDSView\"},{\"attributes\":{},\"id\":\"f583340b-f8ad-4b90-9874-0d91c95c5b08\",\"type\":\"BasicTicker\"},{\"attributes\":{},\"id\":\"3389b545-ed2d-4eaa-88f6-5a608438a77f\",\"type\":\"HelpTool\"},{\"attributes\":{\"plot\":null,\"text\":\"Funded Loan Volume over Years\"},\"id\":\"08944cee-e21f-40b0-9333-dc65c58c2e75\",\"type\":\"Title\"},{\"attributes\":{\"axis_label\":\"Loan in US$\",\"formatter\":{\"id\":\"bb4597a0-2019-4542-b2cb-7f8820703cf2\",\"type\":\"BasicTickFormatter\"},\"plot\":{\"id\":\"f3778fb8-8272-4d69-b6e3-21056c03b542\",\"subtype\":\"Figure\",\"type\":\"Plot\"},\"ticker\":{\"id\":\"f583340b-f8ad-4b90-9874-0d91c95c5b08\",\"type\":\"BasicTicker\"}},\"id\":\"aeab6b24-c195-46ff-beef-1008775947e3\",\"type\":\"LinearAxis\"},{\"attributes\":{},\"id\":\"53831aa6-169d-4b67-8faa-08e74e471402\",\"type\":\"PanTool\"},{\"attributes\":{\"plot\":{\"id\":\"f3778fb8-8272-4d69-b6e3-21056c03b542\",\"subtype\":\"Figure\",\"type\":\"Plot\"},\"ticker\":{\"id\":\"d5386800-7425-488d-8f35-35a2f36e94fd\",\"type\":\"BasicTicker\"}},\"id\":\"ad7474a0-43c4-4a35-bc1b-0188b53cb6f6\",\"type\":\"Grid\"},{\"attributes\":{\"source\":{\"id\":\"435ed179-c42b-4129-851b-fe6b3ba2af6b\",\"type\":\"ColumnDataSource\"}},\"id\":\"104a1d33-4932-45eb-a497-6016026f58e4\",\"type\":\"CDSView\"},{\"attributes\":{\"children\":[{\"id\":\"f3778fb8-8272-4d69-b6e3-21056c03b542\",\"subtype\":\"Figure\",\"type\":\"Plot\"},{\"id\":\"ba1bd246-cd85-48d0-a9f0-edf57643f5db\",\"subtype\":\"Figure\",\"type\":\"Plot\"}]},\"id\":\"380c0774-0b40-4c1d-886f-a9aed4e6e01f\",\"type\":\"Row\"},{\"attributes\":{},\"id\":\"d5386800-7425-488d-8f35-35a2f36e94fd\",\"type\":\"BasicTicker\"},{\"attributes\":{\"line_color\":{\"value\":\"#1f77b4\"},\"line_width\":{\"value\":2},\"x\":{\"field\":\"x\"},\"y\":{\"field\":\"y\"}},\"id\":\"ca3455fc-42ae-4125-9ff8-feb159761e2c\",\"type\":\"Line\"},{\"attributes\":{},\"id\":\"abf10010-24e6-47a4-9ca3-baa48d63276f\",\"type\":\"BasicTickFormatter\"},{\"attributes\":{\"below\":[{\"id\":\"d8d07c63-0f06-480d-9746-29e0c6227102\",\"type\":\"LinearAxis\"}],\"left\":[{\"id\":\"aeab6b24-c195-46ff-beef-1008775947e3\",\"type\":\"LinearAxis\"}],\"renderers\":[{\"id\":\"d8d07c63-0f06-480d-9746-29e0c6227102\",\"type\":\"LinearAxis\"},{\"id\":\"ad7474a0-43c4-4a35-bc1b-0188b53cb6f6\",\"type\":\"Grid\"},{\"id\":\"aeab6b24-c195-46ff-beef-1008775947e3\",\"type\":\"LinearAxis\"},{\"id\":\"62a99eff-8eb0-4f68-8fa0-386800aa1f17\",\"type\":\"Grid\"},{\"id\":\"d72182d6-bd41-4c35-9622-5021fcbc28a0\",\"type\":\"BoxAnnotation\"},{\"id\":\"5e93a9d9-908c-4c24-b32b-54c5c3adc110\",\"type\":\"GlyphRenderer\"}],\"title\":{\"id\":\"2a4573ed-aaf3-4da5-ad01-3ac69f284eb7\",\"type\":\"Title\"},\"toolbar\":{\"id\":\"ed5ce230-e741-431e-98cd-4a026e8811bb\",\"type\":\"Toolbar\"},\"x_range\":{\"id\":\"c5816523-ec7d-48f5-a568-a5f7346b97fa\",\"type\":\"DataRange1d\"},\"x_scale\":{\"id\":\"63f4e3e2-ae2c-4fb2-a141-6d5ecb075e9a\",\"type\":\"LinearScale\"},\"y_range\":{\"id\":\"ae82df53-eb15-453b-b2f7-a904bd1083a5\",\"type\":\"DataRange1d\"},\"y_scale\":{\"id\":\"7708defe-a350-45a0-9f13-4d190d37e590\",\"type\":\"LinearScale\"}},\"id\":\"f3778fb8-8272-4d69-b6e3-21056c03b542\",\"subtype\":\"Figure\",\"type\":\"Plot\"},{\"attributes\":{},\"id\":\"7708defe-a350-45a0-9f13-4d190d37e590\",\"type\":\"LinearScale\"},{\"attributes\":{\"data_source\":{\"id\":\"435ed179-c42b-4129-851b-fe6b3ba2af6b\",\"type\":\"ColumnDataSource\"},\"glyph\":{\"id\":\"b08255f4-a79e-49c7-b18c-04506da0df43\",\"type\":\"Line\"},\"hover_glyph\":null,\"muted_glyph\":null,\"nonselection_glyph\":{\"id\":\"3db2acac-99bb-4d9b-80c6-e3d91a9e789f\",\"type\":\"Line\"},\"selection_glyph\":null,\"view\":{\"id\":\"104a1d33-4932-45eb-a497-6016026f58e4\",\"type\":\"CDSView\"}},\"id\":\"87be4121-dbd0-45a3-b749-3eed4b82f967\",\"type\":\"GlyphRenderer\"},{\"attributes\":{},\"id\":\"4acff4ca-6dad-4f75-9cce-43c9daf7b1e5\",\"type\":\"HelpTool\"},{\"attributes\":{\"callback\":null},\"id\":\"ae82df53-eb15-453b-b2f7-a904bd1083a5\",\"type\":\"DataRange1d\"},{\"attributes\":{\"callback\":null},\"id\":\"6a01e921-ce65-43ab-9d60-9528f3201a88\",\"type\":\"DataRange1d\"},{\"attributes\":{\"dimension\":1,\"plot\":{\"id\":\"ba1bd246-cd85-48d0-a9f0-edf57643f5db\",\"subtype\":\"Figure\",\"type\":\"Plot\"},\"ticker\":{\"id\":\"24b752fc-d9a3-4c4a-8abc-751caf6e6fd3\",\"type\":\"BasicTicker\"}},\"id\":\"51d51814-6460-41b2-8690-ba5d3f88df55\",\"type\":\"Grid\"},{\"attributes\":{},\"id\":\"32c04b2f-ef78-48ee-9796-b0c8b265d162\",\"type\":\"ResetTool\"},{\"attributes\":{},\"id\":\"bb4597a0-2019-4542-b2cb-7f8820703cf2\",\"type\":\"BasicTickFormatter\"},{\"attributes\":{},\"id\":\"24b752fc-d9a3-4c4a-8abc-751caf6e6fd3\",\"type\":\"BasicTicker\"},{\"attributes\":{},\"id\":\"86329d7e-cb2e-47f9-9a4e-a0d644b63e9e\",\"type\":\"SaveTool\"},{\"attributes\":{\"axis_label\":\"Time\",\"formatter\":{\"id\":\"2c1fb0a0-101d-49d7-8536-2bf84a0e68c2\",\"type\":\"BasicTickFormatter\"},\"plot\":{\"id\":\"f3778fb8-8272-4d69-b6e3-21056c03b542\",\"subtype\":\"Figure\",\"type\":\"Plot\"},\"ticker\":{\"id\":\"d5386800-7425-488d-8f35-35a2f36e94fd\",\"type\":\"BasicTicker\"}},\"id\":\"d8d07c63-0f06-480d-9746-29e0c6227102\",\"type\":\"LinearAxis\"},{\"attributes\":{\"axis_label\":\"Number of Loans Funded\",\"formatter\":{\"id\":\"d145313d-c011-43ab-9a51-54dba6b8a002\",\"type\":\"BasicTickFormatter\"},\"plot\":{\"id\":\"ba1bd246-cd85-48d0-a9f0-edf57643f5db\",\"subtype\":\"Figure\",\"type\":\"Plot\"},\"ticker\":{\"id\":\"24b752fc-d9a3-4c4a-8abc-751caf6e6fd3\",\"type\":\"BasicTicker\"}},\"id\":\"e9ce715f-1191-4097-8409-841a5010a590\",\"type\":\"LinearAxis\"},{\"attributes\":{\"overlay\":{\"id\":\"d72182d6-bd41-4c35-9622-5021fcbc28a0\",\"type\":\"BoxAnnotation\"}},\"id\":\"78bda1ed-1289-43bb-957f-b33992bc3964\",\"type\":\"BoxZoomTool\"},{\"attributes\":{},\"id\":\"2c1fb0a0-101d-49d7-8536-2bf84a0e68c2\",\"type\":\"BasicTickFormatter\"},{\"attributes\":{},\"id\":\"8d7ec24e-947a-4c84-9d74-103d642f5d16\",\"type\":\"BasicTicker\"},{\"attributes\":{},\"id\":\"79863cad-8e7e-4b95-991c-88a7d1ea539d\",\"type\":\"WheelZoomTool\"},{\"attributes\":{\"axis_label\":\"Time\",\"formatter\":{\"id\":\"abf10010-24e6-47a4-9ca3-baa48d63276f\",\"type\":\"BasicTickFormatter\"},\"plot\":{\"id\":\"ba1bd246-cd85-48d0-a9f0-edf57643f5db\",\"subtype\":\"Figure\",\"type\":\"Plot\"},\"ticker\":{\"id\":\"8d7ec24e-947a-4c84-9d74-103d642f5d16\",\"type\":\"BasicTicker\"}},\"id\":\"c3d5ae2f-ef22-4115-af4a-1735506efed3\",\"type\":\"LinearAxis\"},{\"attributes\":{},\"id\":\"d145313d-c011-43ab-9a51-54dba6b8a002\",\"type\":\"BasicTickFormatter\"},{\"attributes\":{\"line_color\":{\"value\":\"#1f77b4\"},\"line_width\":{\"value\":2},\"x\":{\"field\":\"x\"},\"y\":{\"field\":\"y\"}},\"id\":\"b08255f4-a79e-49c7-b18c-04506da0df43\",\"type\":\"Line\"},{\"attributes\":{\"plot\":{\"id\":\"ba1bd246-cd85-48d0-a9f0-edf57643f5db\",\"subtype\":\"Figure\",\"type\":\"Plot\"},\"ticker\":{\"id\":\"8d7ec24e-947a-4c84-9d74-103d642f5d16\",\"type\":\"BasicTicker\"}},\"id\":\"cfe7b87d-f418-463d-a80c-1d13032a4577\",\"type\":\"Grid\"},{\"attributes\":{\"bottom_units\":\"screen\",\"fill_alpha\":{\"value\":0.5},\"fill_color\":{\"value\":\"lightgrey\"},\"left_units\":\"screen\",\"level\":\"overlay\",\"line_alpha\":{\"value\":1.0},\"line_color\":{\"value\":\"black\"},\"line_dash\":[4,4],\"line_width\":{\"value\":2},\"plot\":null,\"render_mode\":\"css\",\"right_units\":\"screen\",\"top_units\":\"screen\"},\"id\":\"f3019b48-d747-4eb5-8cc2-87eb1db94908\",\"type\":\"BoxAnnotation\"},{\"attributes\":{\"callback\":null,\"column_names\":[\"x\",\"y\"],\"data\":{\"x\":{\"__ndarray__\":\"AADATUkucUIAAEA68TdxQgAAgIzrQXFCAADA3uVLcUIAAEDLjVVxQgAAgB2IX3FCAAAACjBpcUIAAEBcKnNxQgAAgK4kfXFCAABANXqGcUIAAICHdJBxQgAAAHQcmnFCAABAxhakcUIAAMCyvq1xQgAAAAW5t3FCAABAV7PBcUIAAMBDW8txQgAAAJZV1XFCAACAgv3ecUIAAMDU9+hxQgAAACfy8nFCAAAASPX7cUIAAECa7wVyQgAAwIaXD3JCAAAA2ZEZckIAAIDFOSNyQgAAwBc0LXJCAAAAai43ckIAAIBW1kByQgAAwKjQSnJCAABAlXhUckIAAIDncl5yQgAAwDltaHJCAADAWnBxckIAAACtantyQgAAgJkShXJCAADA6wyPckIAAEDYtJhyQgAAgCqvonJCAADAfKmsckIAAEBpUbZyQgAAgLtLwHJCAAAAqPPJckIAAED67dNyQgAAgEzo3XJCAACAbevmckIAAMC/5fByQgAAQKyN+nJCAACA/ocEc0IAAADrLw5zQgAAQD0qGHNCAACAjyQic0IAAAB8zCtzQgAAQM7GNXNCAADAum4/c0IAAAANaUlzQgAAQF9jU3NCAAAA5rhcc0IAAEA4s2ZzQgAAwCRbcHNCAAAAd1V6c0IAAIBj/YNzQgAAwLX3jXNCAAAACPKXc0IAAID0maFzQgAAwEaUq3NCAABAMzy1c0IAAICFNr9zQgAAwNcwyXNCAADA+DPSc0IAAABLLtxzQgAAgDfW5XNCAADAidDvc0IAAEB2ePlzQgAAgMhyA3RCAADAGm0NdEIAAEAHFRd0QgAAgFkPIXRCAAAARrcqdEIAAECYsTR0QgAAgOqrPnRCAACAC69HdEIAAMBdqVF0QgAAQEpRW3RCAACAnEtldEIAAACJ8250QgAAQNvteHRCAACALeiCdEIAAAAakIx0QgAAQGyKlnRCAADAWDKgdEIAAACrLKp0QgAAQP0mtHRCAABAHiq9dEIAAIBwJMd0QgAAAF3M0HRCAABAr8badEIAAMCbbuR0QgAAAO5o7nRCAABAQGP4dEIAAMAsCwJ1QgAAAH8FDHVCAACAa60VdUI=\",\"dtype\":\"float64\",\"shape\":[103]},\"y\":{\"__ndarray__\":\"AAAAAKBs9kAAAAAAEEUUQQAAAABg0h1BAAAAAFjDFkEAAAAA9tYkQQAAAADcZC5BAAAAAJnhO0EAAAAAdSRGQQAAAIAchEZBAAAAAJGpT0EAAAAAUaI7QQAAAADgwiFBAAAAAP78I0EAAAAARLIoQQAAAACIlxxBAAAAAJiJEEEAAAAA8NksQQAAAABjpj5BAAAAgBN4QkEAAAAAotdCQQAAAADrqkRBAAAAABpbR0EAAAAAu25HQQAAAABpkUlBAAAAgHpnS0EAAACAjpJNQQAAAMDqdlBBAAAAwKp3U0EAAACACv5XQQAAAMBaIFpBAAAAwHIvW0EAAACA1yxcQQAAAMAzclxBAAAAwNWGYEEAAADg1SNiQQAAAEBrKGNBAAAA4NclY0EAAAAA1PdlQQAAAOAB7mZBAAAAYL/2ZkEAAADgZh5oQQAAAECeM2ZBAAAAINqHaUEAAADgPUNsQQAAAGCH2WtBAAAAQDeHb0EAAAAAWLVwQQAAALBVrHFBAAAAkL8Vc0EAAAAA5pxzQQAAADCZ83VBAAAAgC/Kd0EAAABgmzV6QQAAAIAjBXtBAAAAEBOSfUEAAAD4dTaAQQAAAPihMYFBAAAAYDXagkEAAACoMQ2EQQAAAEhAgIVBAAAAcGPxh0EAAACIf6SMQQAAAOhCtZBBAAAAmGZdkkEAAAAo4I6TQQAAAHiP6JRBAAAASNNulkEAAAAcOw2ZQQAAALytppxBAAAAiIFunkEAAACeTLSgQQAAAPa2paFBAAAAKrTXokEAAADysVukQQAAAEYpdqVBAAAA+IpmpkEAAACgOWOoQQAAAFDPralBAAAACvq4qkEAAAB66L2rQQAAABqybatBAAAA4BVMrUEAAAC3dcKwQQAAAGCOurBBAAAA9mmBrkEAAAD1vM+5QQAAAB88xrBBAAAAntkBo0EAAIAfHQrBQQAAABqmQrZBAAAALrrhokEAAAAf9ca/QQAAAG2U3rVBAAAAS/o+t0EAAIC5TRPAQQAAAOPizLxBAAAAF+GduUEAAAAE4b/EQQAAAKTXjMBBAAAAkDjWukEAAACsLgDGQQAAgO7A58BBAAAAG4rnw0E=\",\"dtype\":\"float64\",\"shape\":[103]}}},\"id\":\"29a155a4-b9be-48cf-81f0-c99ecf6fe4a7\",\"type\":\"ColumnDataSource\"},{\"attributes\":{\"callback\":null,\"column_names\":[\"x\",\"y\"],\"data\":{\"x\":{\"__ndarray__\":\"AADATUkucUIAAEA68TdxQgAAgIzrQXFCAADA3uVLcUIAAEDLjVVxQgAAgB2IX3FCAAAACjBpcUIAAEBcKnNxQgAAgK4kfXFCAABANXqGcUIAAICHdJBxQgAAAHQcmnFCAABAxhakcUIAAMCyvq1xQgAAAAW5t3FCAABAV7PBcUIAAMBDW8txQgAAAJZV1XFCAACAgv3ecUIAAMDU9+hxQgAAACfy8nFCAAAASPX7cUIAAECa7wVyQgAAwIaXD3JCAAAA2ZEZckIAAIDFOSNyQgAAwBc0LXJCAAAAai43ckIAAIBW1kByQgAAwKjQSnJCAABAlXhUckIAAIDncl5yQgAAwDltaHJCAADAWnBxckIAAACtantyQgAAgJkShXJCAADA6wyPckIAAEDYtJhyQgAAgCqvonJCAADAfKmsckIAAEBpUbZyQgAAgLtLwHJCAAAAqPPJckIAAED67dNyQgAAgEzo3XJCAACAbevmckIAAMC/5fByQgAAQKyN+nJCAACA/ocEc0IAAADrLw5zQgAAQD0qGHNCAACAjyQic0IAAAB8zCtzQgAAQM7GNXNCAADAum4/c0IAAAANaUlzQgAAQF9jU3NCAAAA5rhcc0IAAEA4s2ZzQgAAwCRbcHNCAAAAd1V6c0IAAIBj/YNzQgAAwLX3jXNCAAAACPKXc0IAAID0maFzQgAAwEaUq3NCAABAMzy1c0IAAICFNr9zQgAAwNcwyXNCAADA+DPSc0IAAABLLtxzQgAAgDfW5XNCAADAidDvc0IAAEB2ePlzQgAAgMhyA3RCAADAGm0NdEIAAEAHFRd0QgAAgFkPIXRCAAAARrcqdEIAAECYsTR0QgAAgOqrPnRCAACAC69HdEIAAMBdqVF0QgAAQEpRW3RCAACAnEtldEIAAACJ8250QgAAQNvteHRCAACALeiCdEIAAAAakIx0QgAAQGyKlnRCAADAWDKgdEIAAACrLKp0QgAAQP0mtHRCAABAHiq9dEIAAIBwJMd0QgAAAF3M0HRCAABAr8badEIAAMCbbuR0QgAAAO5o7nRCAABAQGP4dEIAAMAsCwJ1QgAAAH8FDHVCAACAa60VdUI=\",\"dtype\":\"float64\",\"shape\":[103]},\"y\":[24,63,74,53,105,112,172,305,306,402,259,115,124,141,100,57,122,209,253,269,302,324,333,359,406,411,446,507,604,662,658,662,682,828,912,989,1105,1204,1175,1189,1232,1224,1335,1380,1298,1448,1563,1704,1835,1875,1934,2067,2118,2232,2267,2602,2560,2914,3230,3400,3817,4627,5419,6087,6263,6382,6066,6872,7561,8273,9419,10350,10899,11910,12674,12987,14114,14676,15020,15628,15269,16513,19071,19099,17179,29306,18814,10606,38782,25054,10307,35107,23770,25400,35427,31913,28485,45962,35886,28641,48631,37530,44342]}},\"id\":\"435ed179-c42b-4129-851b-fe6b3ba2af6b\",\"type\":\"ColumnDataSource\"},{\"attributes\":{},\"id\":\"e89140cb-6496-4005-9976-c1fdb0e634d3\",\"type\":\"PanTool\"},{\"attributes\":{},\"id\":\"63f4e3e2-ae2c-4fb2-a141-6d5ecb075e9a\",\"type\":\"LinearScale\"},{\"attributes\":{},\"id\":\"97d294f6-b265-4bf0-aaa0-deb409eb05a5\",\"type\":\"LinearScale\"},{\"attributes\":{\"bottom_units\":\"screen\",\"fill_alpha\":{\"value\":0.5},\"fill_color\":{\"value\":\"lightgrey\"},\"left_units\":\"screen\",\"level\":\"overlay\",\"line_alpha\":{\"value\":1.0},\"line_color\":{\"value\":\"black\"},\"line_dash\":[4,4],\"line_width\":{\"value\":2},\"plot\":null,\"render_mode\":\"css\",\"right_units\":\"screen\",\"top_units\":\"screen\"},\"id\":\"d72182d6-bd41-4c35-9622-5021fcbc28a0\",\"type\":\"BoxAnnotation\"},{\"attributes\":{\"callback\":null},\"id\":\"df6c33ce-b204-448b-94f0-8c37f6a26350\",\"type\":\"DataRange1d\"}],\"root_ids\":[\"380c0774-0b40-4c1d-886f-a9aed4e6e01f\"]},\"title\":\"Bokeh Application\",\"version\":\"0.12.10\"}};\n",
       "    var render_items = [{\"docid\":\"ec92d503-75bd-469d-b6b8-9055e4a2973b\",\"elementid\":\"7a03aa45-7fc4-4425-9ec8-759b70bc9c99\",\"modelid\":\"380c0774-0b40-4c1d-886f-a9aed4e6e01f\"}];\n",
       "\n",
       "    root.Bokeh.embed.embed_items(docs_json, render_items);\n",
       "  }\n",
       "\n",
       "  if (root.Bokeh !== undefined) {\n",
       "    embed_document(root);\n",
       "  } else {\n",
       "    var attempts = 0;\n",
       "    var timer = setInterval(function(root) {\n",
       "      if (root.Bokeh !== undefined) {\n",
       "        embed_document(root);\n",
       "        clearInterval(timer);\n",
       "      }\n",
       "      attempts++;\n",
       "      if (attempts > 100) {\n",
       "        console.log(\"Bokeh: ERROR: Unable to embed document because BokehJS library is missing\")\n",
       "        clearInterval(timer);\n",
       "      }\n",
       "    }, 10, root)\n",
       "  }\n",
       "})(window);"
      ],
      "application/vnd.bokehjs_exec.v0+json": ""
     },
     "metadata": {
      "application/vnd.bokehjs_exec.v0+json": {
       "id": "380c0774-0b40-4c1d-886f-a9aed4e6e01f"
      }
     },
     "output_type": "display_data"
    }
   ],
   "source": [
    "# Plot founded_amnt_inv vs \n",
    "#loan.sort(axis=1, inplace=True)\n",
    "#loan.info()\n",
    "# First, aggregate founded_amount by year and month\n",
    "loan_by_month_amnt = loan[[\"issue_d\",\"funded_amnt\"]].groupby(\"issue_d\", as_index=False).sum()\n",
    "loan_by_month_vol  = loan[[\"issue_d\",\"funded_amnt\"]].groupby(\"issue_d\", as_index=False).count()\n",
    "\n",
    "# Plot time series of both amount and volume\n",
    "x = loan_by_month_amnt[\"issue_d\"]\n",
    "y_amnt = loan_by_month_amnt[\"funded_amnt\"]\n",
    "y_vol = loan_by_month_vol[\"funded_amnt\"]\n",
    "\n",
    "p1 = figure(title=\"Funded Loan Amount over Years\", x_axis_label=\"Time\", y_axis_label=\"Loan in US$\")\n",
    "p1.line(x, y_amnt, line_width=2)\n",
    "\n",
    "p2 = figure(title=\"Funded Loan Volume over Years\", x_axis_label=\"Time\", y_axis_label=\"Number of Loans Funded\")\n",
    "p2.line(x, y_vol, line_width=2)\n",
    "\n",
    "layout = row(p1, p2)\n",
    "output_notebook()\n",
    "show(layout)"
   ]
  },
  {
   "cell_type": "markdown",
   "metadata": {
    "collapsed": true
   },
   "source": [
    "#### 2.Whether the loan amount and volume has geographic pattern?\n",
    "\n",
    "The loan amount and volume both show strong geographic pattern. By simply ranking the loan amount and loan volume, we see the top 10 States are the same with slightly change on ranking. California has the highest total loan amount as well as the volume."
   ]
  },
  {
   "cell_type": "code",
   "execution_count": 22,
   "metadata": {},
   "outputs": [
    {
     "name": "stdout",
     "output_type": "stream",
     "text": [
      "   addr_state   funded_amnt\n",
      "4          CA  1.896017e+09\n",
      "43         TX  1.108151e+09\n",
      "34         NY  1.075829e+09\n",
      "9          FL  8.480154e+08\n",
      "14         IL  5.386763e+08\n",
      "31         NJ  5.145831e+08\n",
      "38         PA  4.552488e+08\n",
      "10         GA  4.342597e+08\n",
      "35         OH  4.224189e+08\n",
      "45         VA  4.108803e+08\n",
      "   addr_state  funded_amnt\n",
      "4          CA       129517\n",
      "34         NY        74086\n",
      "43         TX        71138\n",
      "9          FL        60935\n",
      "14         IL        35476\n",
      "31         NJ        33256\n",
      "38         PA        31393\n",
      "35         OH        29631\n",
      "10         GA        29085\n",
      "45         VA        26255\n"
     ]
    }
   ],
   "source": [
    "# Aggregate funded_amnt by state\n",
    "loan_by_state_amnt = loan[[\"addr_state\",\"funded_amnt\"]].groupby(\"addr_state\", as_index=False).sum()\n",
    "loan_by_state_vol  = loan[[\"addr_state\",\"funded_amnt\"]].groupby(\"addr_state\", as_index=False).count()\n",
    "\n",
    "# Plot time series of both amount and volume\n",
    "x = loan_by_state_amnt[\"addr_state\"]\n",
    "y_amnt = loan_by_state_amnt[\"funded_amnt\"]\n",
    "y_vol = loan_by_state_vol[\"funded_amnt\"]\n",
    "\n",
    "print(loan_by_state_amnt.sort_values(by=\"funded_amnt\",ascending=False).head(10))\n",
    "print(loan_by_state_vol.sort_values(by=\"funded_amnt\", ascending=False).head(10))\n",
    "\n",
    "# Map this over US map with state boundaries under plotly\n"
   ]
  },
  {
   "cell_type": "code",
   "execution_count": 7,
   "metadata": {},
   "outputs": [
    {
     "name": "stdout",
     "output_type": "stream",
     "text": [
      "Aw, snap! We don't have an account for ''. Want to try again? You can authenticate with your email address or username. Sign in is not case sensitive.\n",
      "\n",
      "Don't have an account? plot.ly\n",
      "\n",
      "Questions? support@plot.ly\n"
     ]
    },
    {
     "ename": "PlotlyError",
     "evalue": "Because you didn't supply a 'file_id' in the call, we're assuming you're trying to snag a figure from a url. You supplied the url, '', we expected it to start with 'https://plot.ly'.\nRun help on this function for more information.",
     "output_type": "error",
     "traceback": [
      "\u001b[1;31m---------------------------------------------------------------------------\u001b[0m",
      "\u001b[1;31mPlotlyError\u001b[0m                               Traceback (most recent call last)",
      "\u001b[1;32m<ipython-input-7-55c9468b25ce>\u001b[0m in \u001b[0;36m<module>\u001b[1;34m()\u001b[0m\n\u001b[0;32m     36\u001b[0m \u001b[1;33m\u001b[0m\u001b[0m\n\u001b[0;32m     37\u001b[0m \u001b[0mfig\u001b[0m \u001b[1;33m=\u001b[0m \u001b[0mdict\u001b[0m\u001b[1;33m(\u001b[0m \u001b[0mdata\u001b[0m\u001b[1;33m=\u001b[0m\u001b[0mdata\u001b[0m\u001b[1;33m,\u001b[0m \u001b[0mlayout\u001b[0m\u001b[1;33m=\u001b[0m\u001b[0mlayout\u001b[0m \u001b[1;33m)\u001b[0m\u001b[1;33m\u001b[0m\u001b[0m\n\u001b[1;32m---> 38\u001b[1;33m \u001b[0mpy\u001b[0m\u001b[1;33m.\u001b[0m\u001b[0miplot\u001b[0m\u001b[1;33m(\u001b[0m \u001b[0mfig\u001b[0m\u001b[1;33m,\u001b[0m \u001b[0mvalidate\u001b[0m\u001b[1;33m=\u001b[0m\u001b[1;32mFalse\u001b[0m\u001b[1;33m,\u001b[0m \u001b[0mfilename\u001b[0m\u001b[1;33m=\u001b[0m\u001b[1;34m'd3-world-map'\u001b[0m \u001b[1;33m)\u001b[0m\u001b[1;33m\u001b[0m\u001b[0m\n\u001b[0m",
      "\u001b[1;32mC:\\ProgramData\\Anaconda3\\lib\\site-packages\\plotly\\plotly\\plotly.py\u001b[0m in \u001b[0;36miplot\u001b[1;34m(figure_or_data, **plot_options)\u001b[0m\n\u001b[0;32m    162\u001b[0m         \u001b[0membed_options\u001b[0m\u001b[1;33m[\u001b[0m\u001b[1;34m'height'\u001b[0m\u001b[1;33m]\u001b[0m \u001b[1;33m=\u001b[0m \u001b[0mstr\u001b[0m\u001b[1;33m(\u001b[0m\u001b[0membed_options\u001b[0m\u001b[1;33m[\u001b[0m\u001b[1;34m'height'\u001b[0m\u001b[1;33m]\u001b[0m\u001b[1;33m)\u001b[0m \u001b[1;33m+\u001b[0m \u001b[1;34m'px'\u001b[0m\u001b[1;33m\u001b[0m\u001b[0m\n\u001b[0;32m    163\u001b[0m \u001b[1;33m\u001b[0m\u001b[0m\n\u001b[1;32m--> 164\u001b[1;33m     \u001b[1;32mreturn\u001b[0m \u001b[0mtools\u001b[0m\u001b[1;33m.\u001b[0m\u001b[0membed\u001b[0m\u001b[1;33m(\u001b[0m\u001b[0murl\u001b[0m\u001b[1;33m,\u001b[0m \u001b[1;33m**\u001b[0m\u001b[0membed_options\u001b[0m\u001b[1;33m)\u001b[0m\u001b[1;33m\u001b[0m\u001b[0m\n\u001b[0m\u001b[0;32m    165\u001b[0m \u001b[1;33m\u001b[0m\u001b[0m\n\u001b[0;32m    166\u001b[0m \u001b[1;33m\u001b[0m\u001b[0m\n",
      "\u001b[1;32mC:\\ProgramData\\Anaconda3\\lib\\site-packages\\plotly\\tools.py\u001b[0m in \u001b[0;36membed\u001b[1;34m(file_owner_or_url, file_id, width, height)\u001b[0m\n\u001b[0;32m    388\u001b[0m         \u001b[1;32melse\u001b[0m\u001b[1;33m:\u001b[0m\u001b[1;33m\u001b[0m\u001b[0m\n\u001b[0;32m    389\u001b[0m             \u001b[0murl\u001b[0m \u001b[1;33m=\u001b[0m \u001b[0mfile_owner_or_url\u001b[0m\u001b[1;33m\u001b[0m\u001b[0m\n\u001b[1;32m--> 390\u001b[1;33m         \u001b[1;32mreturn\u001b[0m \u001b[0mPlotlyDisplay\u001b[0m\u001b[1;33m(\u001b[0m\u001b[0murl\u001b[0m\u001b[1;33m,\u001b[0m \u001b[0mwidth\u001b[0m\u001b[1;33m,\u001b[0m \u001b[0mheight\u001b[0m\u001b[1;33m)\u001b[0m\u001b[1;33m\u001b[0m\u001b[0m\n\u001b[0m\u001b[0;32m    391\u001b[0m     \u001b[1;32melse\u001b[0m\u001b[1;33m:\u001b[0m\u001b[1;33m\u001b[0m\u001b[0m\n\u001b[0;32m    392\u001b[0m         if (get_config_defaults()['plotly_domain']\n",
      "\u001b[1;32mC:\\ProgramData\\Anaconda3\\lib\\site-packages\\plotly\\tools.py\u001b[0m in \u001b[0;36m__init__\u001b[1;34m(self, url, width, height)\u001b[0m\n\u001b[0;32m   1432\u001b[0m         \u001b[1;32mdef\u001b[0m \u001b[0m__init__\u001b[0m\u001b[1;33m(\u001b[0m\u001b[0mself\u001b[0m\u001b[1;33m,\u001b[0m \u001b[0murl\u001b[0m\u001b[1;33m,\u001b[0m \u001b[0mwidth\u001b[0m\u001b[1;33m,\u001b[0m \u001b[0mheight\u001b[0m\u001b[1;33m)\u001b[0m\u001b[1;33m:\u001b[0m\u001b[1;33m\u001b[0m\u001b[0m\n\u001b[0;32m   1433\u001b[0m             \u001b[0mself\u001b[0m\u001b[1;33m.\u001b[0m\u001b[0mresource\u001b[0m \u001b[1;33m=\u001b[0m \u001b[0murl\u001b[0m\u001b[1;33m\u001b[0m\u001b[0m\n\u001b[1;32m-> 1434\u001b[1;33m             \u001b[0mself\u001b[0m\u001b[1;33m.\u001b[0m\u001b[0membed_code\u001b[0m \u001b[1;33m=\u001b[0m \u001b[0mget_embed\u001b[0m\u001b[1;33m(\u001b[0m\u001b[0murl\u001b[0m\u001b[1;33m,\u001b[0m \u001b[0mwidth\u001b[0m\u001b[1;33m=\u001b[0m\u001b[0mwidth\u001b[0m\u001b[1;33m,\u001b[0m \u001b[0mheight\u001b[0m\u001b[1;33m=\u001b[0m\u001b[0mheight\u001b[0m\u001b[1;33m)\u001b[0m\u001b[1;33m\u001b[0m\u001b[0m\n\u001b[0m\u001b[0;32m   1435\u001b[0m             \u001b[0msuper\u001b[0m\u001b[1;33m(\u001b[0m\u001b[0mPlotlyDisplay\u001b[0m\u001b[1;33m,\u001b[0m \u001b[0mself\u001b[0m\u001b[1;33m)\u001b[0m\u001b[1;33m.\u001b[0m\u001b[0m__init__\u001b[0m\u001b[1;33m(\u001b[0m\u001b[0mdata\u001b[0m\u001b[1;33m=\u001b[0m\u001b[0mself\u001b[0m\u001b[1;33m.\u001b[0m\u001b[0membed_code\u001b[0m\u001b[1;33m)\u001b[0m\u001b[1;33m\u001b[0m\u001b[0m\n\u001b[0;32m   1436\u001b[0m \u001b[1;33m\u001b[0m\u001b[0m\n",
      "\u001b[1;32mC:\\ProgramData\\Anaconda3\\lib\\site-packages\\plotly\\tools.py\u001b[0m in \u001b[0;36mget_embed\u001b[1;34m(file_owner_or_url, file_id, width, height)\u001b[0m\n\u001b[0;32m    293\u001b[0m                 \u001b[1;34m\"'{1}'.\"\u001b[0m\u001b[1;33m\u001b[0m\u001b[0m\n\u001b[0;32m    294\u001b[0m                 \u001b[1;34m\"\\nRun help on this function for more information.\"\u001b[0m\u001b[1;33m\u001b[0m\u001b[0m\n\u001b[1;32m--> 295\u001b[1;33m                 \"\".format(url, plotly_rest_url))\n\u001b[0m\u001b[0;32m    296\u001b[0m         \u001b[0murlsplit\u001b[0m \u001b[1;33m=\u001b[0m \u001b[0msix\u001b[0m\u001b[1;33m.\u001b[0m\u001b[0mmoves\u001b[0m\u001b[1;33m.\u001b[0m\u001b[0murllib\u001b[0m\u001b[1;33m.\u001b[0m\u001b[0mparse\u001b[0m\u001b[1;33m.\u001b[0m\u001b[0murlparse\u001b[0m\u001b[1;33m(\u001b[0m\u001b[0murl\u001b[0m\u001b[1;33m)\u001b[0m\u001b[1;33m\u001b[0m\u001b[0m\n\u001b[0;32m    297\u001b[0m         \u001b[0mfile_owner\u001b[0m \u001b[1;33m=\u001b[0m \u001b[0murlsplit\u001b[0m\u001b[1;33m.\u001b[0m\u001b[0mpath\u001b[0m\u001b[1;33m.\u001b[0m\u001b[0msplit\u001b[0m\u001b[1;33m(\u001b[0m\u001b[1;34m'/'\u001b[0m\u001b[1;33m)\u001b[0m\u001b[1;33m[\u001b[0m\u001b[1;36m1\u001b[0m\u001b[1;33m]\u001b[0m\u001b[1;33m.\u001b[0m\u001b[0msplit\u001b[0m\u001b[1;33m(\u001b[0m\u001b[1;34m'~'\u001b[0m\u001b[1;33m)\u001b[0m\u001b[1;33m[\u001b[0m\u001b[1;36m1\u001b[0m\u001b[1;33m]\u001b[0m\u001b[1;33m\u001b[0m\u001b[0m\n",
      "\u001b[1;31mPlotlyError\u001b[0m: Because you didn't supply a 'file_id' in the call, we're assuming you're trying to snag a figure from a url. You supplied the url, '', we expected it to start with 'https://plot.ly'.\nRun help on this function for more information."
     ]
    }
   ],
   "source": [
    "# Plotly Example for maps\n",
    "df = pd.read_csv('https://raw.githubusercontent.com/plotly/datasets/master/2014_world_gdp_with_codes.csv')\n",
    "\n",
    "data = [ dict(\n",
    "        type = 'choropleth',\n",
    "        locations = df['CODE'],\n",
    "        z = df['GDP (BILLIONS)'],\n",
    "        text = df['COUNTRY'],\n",
    "        colorscale = [[0,\"rgb(5, 10, 172)\"],[0.35,\"rgb(40, 60, 190)\"],[0.5,\"rgb(70, 100, 245)\"],\\\n",
    "            [0.6,\"rgb(90, 120, 245)\"],[0.7,\"rgb(106, 137, 247)\"],[1,\"rgb(220, 220, 220)\"]],\n",
    "        autocolorscale = False,\n",
    "        reversescale = True,\n",
    "        marker = dict(\n",
    "            line = dict (\n",
    "                color = 'rgb(180,180,180)',\n",
    "                width = 0.5\n",
    "            ) ),\n",
    "        colorbar = dict(\n",
    "            autotick = False,\n",
    "            tickprefix = '$',\n",
    "            title = 'GDP<br>Billions US$'),\n",
    "      ) ]\n",
    "\n",
    "layout = dict(\n",
    "    title = '2014 Global GDP<br>Source:\\\n",
    "            <a href=\"https://www.cia.gov/library/publications/the-world-factbook/fields/2195.html\">\\\n",
    "            CIA World Factbook</a>',\n",
    "    geo = dict(\n",
    "        showframe = False,\n",
    "        showcoastlines = False,\n",
    "        projection = dict(\n",
    "            type = 'Mercator'\n",
    "        )\n",
    "    )\n",
    ")\n",
    "\n",
    "fig = dict( data=data, layout=layout )\n",
    "py.iplot( fig, validate=False, filename='d3-world-map' )\n"
   ]
  },
  {
   "cell_type": "markdown",
   "metadata": {
    "collapsed": true
   },
   "source": [
    "#### 3.How many categories does loan status have? How are they distributed?\n",
    "\n",
    "There are 10 categories of loan status as recorded by LendingClub, but there are some ambiguity such as \"Does not meet the credit policy...\", and the category selection causes fragmental distribution. It would make more sense to consolidate some of these categories. As a straightforward way, Current and Fully Paid should be good indicators, Issued should mean the loan is just issued but no more information, and others are all bad indicators because they are leading to the risk of being default.\n",
    "\n",
    "The loan_status variable was mapped to the three new categories above: Good, Bad, and Issued. In total we have 67429 bad loans, \n",
    "811490 good loans, and 8460 newly issued loans. The overall bad loan rate is 7.6%. The distribution is highly unbalanced!"
   ]
  },
  {
   "cell_type": "code",
   "execution_count": 8,
   "metadata": {},
   "outputs": [
    {
     "data": {
      "text/plain": [
       "loan_status\n",
       "Does not meet the credit policy. Status:Charged Off       761\n",
       "Default                                                  1219\n",
       "Does not meet the credit policy. Status:Fully Paid       1988\n",
       "Late (16-30 days)                                        2357\n",
       "In Grace Period                                          6253\n",
       "Issued                                                   8460\n",
       "Late (31-120 days)                                      11591\n",
       "Charged Off                                             45248\n",
       "Fully Paid                                             207723\n",
       "Current                                                601779\n",
       "dtype: int64"
      ]
     },
     "execution_count": 8,
     "metadata": {},
     "output_type": "execute_result"
    }
   ],
   "source": [
    "# Check loan_status\n",
    "loan.groupby(\"loan_status\").size().sort_values()"
   ]
  },
  {
   "cell_type": "code",
   "execution_count": 9,
   "metadata": {},
   "outputs": [
    {
     "data": {
      "text/plain": [
       "loan_status_simple\n",
       "Issued      8460\n",
       "Bad        67429\n",
       "Good      811490\n",
       "dtype: int64"
      ]
     },
     "execution_count": 9,
     "metadata": {},
     "output_type": "execute_result"
    }
   ],
   "source": [
    "# Recode the status to form a simpler status variable named loan_status_simple\n",
    "# Good (0): Current, Fully Paid\n",
    "# Bad (1):  Default, Late (all types), In Grace Period, Charge Off\n",
    "# Issued: leave blank for scoring\n",
    "\n",
    "loan_dict = {\n",
    "    \"Does not meet the credit policy. Status:Charged Off\": \"Bad\",\n",
    "    \"Default\": \"Bad\",\n",
    "    \"Does not meet the credit policy. Status:Fully Paid\": \"Good\",\n",
    "    \"Late (16-30 days)\": \"Bad\",\n",
    "    \"In Grace Period\": \"Bad\",\n",
    "    \"Issued\": \"Issued\",\n",
    "    \"Late (31-120 days)\":\"Bad\",\n",
    "    \"Charged Off\":\"Bad\",\n",
    "    \"Fully Paid\": \"Good\",\n",
    "    \"Current\": \"Good\"\n",
    "}\n",
    "loan[\"loan_status_simple\"] = loan[\"loan_status\"].map(loan_dict)\n",
    "\n",
    "# Potentially we can use the Good/Bad observations to score the Issued loans and estimate its risk of turning bad.\n",
    "loan_train = loan.loc[loan[\"loan_status\"] != \"Issued\", :]\n",
    "loan_holdout = loan.loc[loan[\"loan_status\"] == \"Issued\", :]\n",
    "\n",
    "# Check loan_status\n",
    "loan.groupby(\"loan_status_simple\").size().sort_values()"
   ]
  },
  {
   "cell_type": "code",
   "execution_count": 13,
   "metadata": {},
   "outputs": [
    {
     "data": {
      "image/png": "[encoded data removed]",
      "text/plain": [
       "<matplotlib.figure.Figure at 0x21d952e7ba8>"
      ]
     },
     "metadata": {},
     "output_type": "display_data"
    }
   ],
   "source": [
    "# Plot the newly created loan status variable: loan_status_simple\n",
    "#from bokeh.chart import Bar, BoxPlot, Histogram, Scatter\n",
    "#p = Bar(loan_train, label=\"loan_status_simple\", values=\"funded_amnt\", agg=\"count\")\n",
    "#show(p)\n",
    "sns.set()\n",
    "sns.countplot(x=\"loan_status_simple\", data=loan_train, color=\"green\")\n",
    "plt.title(\"Simplified Loan Status\")\n",
    "plt.show()"
   ]
  },
  {
   "cell_type": "markdown",
   "metadata": {
    "collapsed": true
   },
   "source": [
    "#### 4.The loan grade is expected to reflect the risk. Is this true?\n",
    "\n",
    "Through the plot and table, we can clearly see that the better the grade, the less the bad loan rate. Grade A has only 2.5% bad rate while Grade G has 23.1%, about 8 times higher! This shows that the grading system used by LendingClub is quite efficient."
   ]
  },
  {
   "cell_type": "code",
   "execution_count": 30,
   "metadata": {},
   "outputs": [
    {
     "name": "stdout",
     "output_type": "stream",
     "text": [
      "  grade  loan_status_simple\n",
      "0     A            0.024716\n",
      "1     B            0.052865\n",
      "2     C            0.077499\n",
      "3     D            0.113650\n",
      "4     E            0.137826\n",
      "5     F            0.190185\n",
      "6     G            0.231190\n"
     ]
    }
   ],
   "source": [
    "# Calculate the percentage of bad loans for each grade\n",
    "loan_by_grade = loan.groupby(\"grade\", as_index=False).agg({\"loan_status_simple\": lambda x: np.mean(x == \"Bad\")})\n",
    "print(loan_by_grade)"
   ]
  },
  {
   "cell_type": "code",
   "execution_count": 31,
   "metadata": {},
   "outputs": [
    {
     "data": {
      "image/png": "[encoded data removed]",
      "text/plain": [
       "<matplotlib.figure.Figure at 0x21d94c3aba8>"
      ]
     },
     "metadata": {},
     "output_type": "display_data"
    }
   ],
   "source": [
    "# Plot the result\n",
    "sns.set()\n",
    "sns.barplot(x=\"grade\", y=\"loan_status_simple\", data=loan_by_grade)\n",
    "plt.title(\"Bad Load Proportion by Grade\")\n",
    "plt.show()"
   ]
  },
  {
   "cell_type": "markdown",
   "metadata": {
    "collapsed": true
   },
   "source": [
    "#### 5.How are these loan used for? \n",
    "\n",
    "Although this question is not quite related to the loan status, our target for modeling, it would be interesting to know why the borrowers want to get loan, i.e. where did they intend to use the money.\n",
    "\n",
    "From the results it is pretty clear that the majority usage of loan is for debt consolidation, followed by credit card, which seems also somehow related to debt consolidation. Both categories occupy about 82% of total loans. As nowadays personal finance management course emphasizes, personal debt management is the key to financial stability and freedom. It makes sense the two categories are the major purposes of loan application."
   ]
  },
  {
   "cell_type": "code",
   "execution_count": 36,
   "metadata": {},
   "outputs": [
    {
     "name": "stdout",
     "output_type": "stream",
     "text": [
      "               purpose  loan_status_simple\n",
      "0                  car            0.009988\n",
      "1          credit_card            0.232349\n",
      "2   debt_consolidation            0.590745\n",
      "3          educational            0.000477\n",
      "4     home_improvement            0.058407\n",
      "5                house            0.004177\n",
      "6       major_purchase            0.019470\n",
      "7              medical            0.009624\n",
      "8               moving            0.006101\n",
      "9                other            0.048338\n",
      "10    renewable_energy            0.000648\n",
      "11      small_business            0.011694\n",
      "12            vacation            0.005337\n",
      "13             wedding            0.002645\n"
     ]
    }
   ],
   "source": [
    "# Calculate the percentage of loan usage defined by Purpose\n",
    "loan_by_purpose = loan.groupby(\"purpose\", as_index=False).agg({\"loan_status_simple\": lambda x: len(x)/len(loan)})\n",
    "print(loan_by_purpose)"
   ]
  },
  {
   "cell_type": "code",
   "execution_count": 43,
   "metadata": {},
   "outputs": [
    {
     "data": {
      "image/png": "[encoded data removed]",
      "text/plain": [
       "<matplotlib.figure.Figure at 0x21d94c62eb8>"
      ]
     },
     "metadata": {},
     "output_type": "display_data"
    }
   ],
   "source": [
    "# Make a pie chart for loan_by_purpose\n",
    "# The slices will be ordered and plotted counter-clockwise\n",
    "labels = loan_by_purpose[\"purpose\"]\n",
    "sizes = loan_by_purpose[\"loan_status_simple\"]\n",
    "explode = (0, 0.1, 0.05, 0, 0, 0, 0, 0, 0, 0, 0, 0, 0, 0) \n",
    "\n",
    "fig1, ax1 = plt.subplots()\n",
    "ax1.pie(sizes, explode=explode, labels=labels, autopct='%1.1f%%', shadow=True, startangle=90)\n",
    "ax1.axis('equal')  # Equal aspect ratio ensures that pie is drawn as a circle.\n",
    "\n",
    "plt.show()"
   ]
  }
 ],
 "metadata": {
  "kernelspec": {
   "display_name": "Python 3",
   "language": "python",
   "name": "python3"
  },
  "language_info": {
   "codemirror_mode": {
    "name": "ipython",
    "version": 3
   },
   "file_extension": ".py",
   "mimetype": "text/x-python",
   "name": "python",
   "nbconvert_exporter": "python",
   "pygments_lexer": "ipython3",
   "version": "3.6.3"
  }
 },
 "nbformat": 4,
 "nbformat_minor": 2
}
