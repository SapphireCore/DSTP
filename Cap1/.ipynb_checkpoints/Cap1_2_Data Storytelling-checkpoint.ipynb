{
 "cells": [
  {
   "cell_type": "markdown",
   "metadata": {
    "collapsed": true
   },
   "source": [
    "# Capstone Project 1\n",
    "# Lending Club Loan Status Analysis\n",
    "## Part 2: Data Storytelling with Engineered Features\n",
    "\n",
    "Data Source: Kaggle Dataset -- Lending Club Loan Data  \n",
    "URL: https://www.kaggle.com/wendykan/lending-club-loan-data  \n",
    "Analyst: Eugene Wen"
   ]
  },
  {
   "cell_type": "markdown",
   "metadata": {},
   "source": [
    "### Introduction\n",
    "Through Part 1, we raised up a few interesting questions in this dataset. They are:\n",
    "1. How is the LendingClub total loan amount change over time? How about volume (number of approved loans)?\n",
    "2. Whether the loan amount and volume has geographic pattern?\n",
    "3. How many categories does loan status have? How are they distributed?\n",
    "4. The loan grade is expected to reflect the risk. Is this true?\n",
    "5. How are these loan used for? \n",
    "\n",
    "In this part of analysis we will address these questions, regardless their relevance to the loan status."
   ]
  },
  {
   "cell_type": "code",
   "execution_count": 2,
   "metadata": {
    "collapsed": true
   },
   "outputs": [],
   "source": [
    "# Load the cleaned dataset from Part 1\n",
    "%run ./py/DataWrangling.py"
   ]
  },
  {
   "cell_type": "code",
   "execution_count": 3,
   "metadata": {
    "collapsed": true
   },
   "outputs": [],
   "source": [
    "# Load used python modules and functions\n",
    "import pandas as pd\n",
    "import numpy as np\n",
    "import plotly.plotly as py\n",
    "import matplotlib.pyplot as plt\n",
    "import seaborn as sns\n",
    "\n",
    "from bokeh.plotting import figure\n",
    "from bokeh.io import output_notebook, show\n",
    "from bokeh.layouts import row, column"
   ]
  },
  {
   "cell_type": "markdown",
   "metadata": {},
   "source": [
    "#### Question 1: How is the LendingClub total loan amount change over time? How about volume (number of approved loans)?\n",
    "\n",
    "Both the total loan amount and the loan volume show exponentially growth trends, and starting from the year 2014 there are some (seasonal) fluctuations. In general this is a good indication for a start-up business because the transactions increase over years and the business is growing."
   ]
  },
  {
   "cell_type": "code",
   "execution_count": 7,
   "metadata": {},
   "outputs": [
    {
     "data": {
      "text/html": [
       "\n",
       "    <div class=\"bk-root\">\n",
       "        <a href=\"https://bokeh.pydata.org\" target=\"_blank\" class=\"bk-logo bk-logo-small bk-logo-notebook\"></a>\n",
       "        <span id=\"ae5139dc-6628-4cf8-af1a-7f40bc4e16d0\">Loading BokehJS ...</span>\n",
       "    </div>"
      ]
     },
     "metadata": {},
     "output_type": "display_data"
    },
    {
     "data": {
      "application/javascript": [
       "\n",
       "(function(root) {\n",
       "  function now() {\n",
       "    return new Date();\n",
       "  }\n",
       "\n",
       "  var force = true;\n",
       "\n",
       "  if (typeof (root._bokeh_onload_callbacks) === \"undefined\" || force === true) {\n",
       "    root._bokeh_onload_callbacks = [];\n",
       "    root._bokeh_is_loading = undefined;\n",
       "  }\n",
       "\n",
       "  var JS_MIME_TYPE = 'application/javascript';\n",
       "  var HTML_MIME_TYPE = 'text/html';\n",
       "  var EXEC_MIME_TYPE = 'application/vnd.bokehjs_exec.v0+json';\n",
       "  var CLASS_NAME = 'output_bokeh rendered_html';\n",
       "\n",
       "  /**\n",
       "   * Render data to the DOM node\n",
       "   */\n",
       "  function render(props, node) {\n",
       "    var script = document.createElement(\"script\");\n",
       "    node.appendChild(script);\n",
       "  }\n",
       "\n",
       "  /**\n",
       "   * Handle when an output is cleared or removed\n",
       "   */\n",
       "  function handleClearOutput(event, handle) {\n",
       "    var cell = handle.cell;\n",
       "\n",
       "    var id = cell.output_area._bokeh_element_id;\n",
       "    var server_id = cell.output_area._bokeh_server_id;\n",
       "    // Clean up Bokeh references\n",
       "    if (id !== undefined) {\n",
       "      Bokeh.index[id].model.document.clear();\n",
       "      delete Bokeh.index[id];\n",
       "    }\n",
       "\n",
       "    if (server_id !== undefined) {\n",
       "      // Clean up Bokeh references\n",
       "      var cmd = \"from bokeh.io.state import curstate; print(curstate().uuid_to_server['\" + server_id + \"'].get_sessions()[0].document.roots[0]._id)\";\n",
       "      cell.notebook.kernel.execute(cmd, {\n",
       "        iopub: {\n",
       "          output: function(msg) {\n",
       "            var element_id = msg.content.text.trim();\n",
       "            Bokeh.index[element_id].model.document.clear();\n",
       "            delete Bokeh.index[element_id];\n",
       "          }\n",
       "        }\n",
       "      });\n",
       "      // Destroy server and session\n",
       "      var cmd = \"import bokeh.io.notebook as ion; ion.destroy_server('\" + server_id + \"')\";\n",
       "      cell.notebook.kernel.execute(cmd);\n",
       "    }\n",
       "  }\n",
       "\n",
       "  /**\n",
       "   * Handle when a new output is added\n",
       "   */\n",
       "  function handleAddOutput(event, handle) {\n",
       "    var output_area = handle.output_area;\n",
       "    var output = handle.output;\n",
       "\n",
       "    // limit handleAddOutput to display_data with EXEC_MIME_TYPE content only\n",
       "    if ((output.output_type != \"display_data\") || (!output.data.hasOwnProperty(EXEC_MIME_TYPE))) {\n",
       "      return\n",
       "    }\n",
       "\n",
       "    var toinsert = output_area.element.find(`.${CLASS_NAME.split(' ')[0]}`);\n",
       "\n",
       "    if (output.metadata[EXEC_MIME_TYPE][\"id\"] !== undefined) {\n",
       "      toinsert[0].firstChild.textContent = output.data[JS_MIME_TYPE];\n",
       "      // store reference to embed id on output_area\n",
       "      output_area._bokeh_element_id = output.metadata[EXEC_MIME_TYPE][\"id\"];\n",
       "    }\n",
       "    if (output.metadata[EXEC_MIME_TYPE][\"server_id\"] !== undefined) {\n",
       "      var bk_div = document.createElement(\"div\");\n",
       "      bk_div.innerHTML = output.data[HTML_MIME_TYPE];\n",
       "      var script_attrs = bk_div.children[0].attributes;\n",
       "      for (var i = 0; i < script_attrs.length; i++) {\n",
       "        toinsert[0].firstChild.setAttribute(script_attrs[i].name, script_attrs[i].value);\n",
       "      }\n",
       "      // store reference to server id on output_area\n",
       "      output_area._bokeh_server_id = output.metadata[EXEC_MIME_TYPE][\"server_id\"];\n",
       "    }\n",
       "  }\n",
       "\n",
       "  function register_renderer(events, OutputArea) {\n",
       "\n",
       "    function append_mime(data, metadata, element) {\n",
       "      // create a DOM node to render to\n",
       "      var toinsert = this.create_output_subarea(\n",
       "        metadata,\n",
       "        CLASS_NAME,\n",
       "        EXEC_MIME_TYPE\n",
       "      );\n",
       "      this.keyboard_manager.register_events(toinsert);\n",
       "      // Render to node\n",
       "      var props = {data: data, metadata: metadata[EXEC_MIME_TYPE]};\n",
       "      render(props, toinsert[0]);\n",
       "      element.append(toinsert);\n",
       "      return toinsert\n",
       "    }\n",
       "\n",
       "    /* Handle when an output is cleared or removed */\n",
       "    events.on('clear_output.CodeCell', handleClearOutput);\n",
       "    events.on('delete.Cell', handleClearOutput);\n",
       "\n",
       "    /* Handle when a new output is added */\n",
       "    events.on('output_added.OutputArea', handleAddOutput);\n",
       "\n",
       "    /**\n",
       "     * Register the mime type and append_mime function with output_area\n",
       "     */\n",
       "    OutputArea.prototype.register_mime_type(EXEC_MIME_TYPE, append_mime, {\n",
       "      /* Is output safe? */\n",
       "      safe: true,\n",
       "      /* Index of renderer in `output_area.display_order` */\n",
       "      index: 0\n",
       "    });\n",
       "  }\n",
       "\n",
       "  // register the mime type if in Jupyter Notebook environment and previously unregistered\n",
       "  if (root.Jupyter !== undefined) {\n",
       "    var events = require('base/js/events');\n",
       "    var OutputArea = require('notebook/js/outputarea').OutputArea;\n",
       "\n",
       "    if (OutputArea.prototype.mime_types().indexOf(EXEC_MIME_TYPE) == -1) {\n",
       "      register_renderer(events, OutputArea);\n",
       "    }\n",
       "  }\n",
       "\n",
       "  \n",
       "  if (typeof (root._bokeh_timeout) === \"undefined\" || force === true) {\n",
       "    root._bokeh_timeout = Date.now() + 5000;\n",
       "    root._bokeh_failed_load = false;\n",
       "  }\n",
       "\n",
       "  var NB_LOAD_WARNING = {'data': {'text/html':\n",
       "     \"<div style='background-color: #fdd'>\\n\"+\n",
       "     \"<p>\\n\"+\n",
       "     \"BokehJS does not appear to have successfully loaded. If loading BokehJS from CDN, this \\n\"+\n",
       "     \"may be due to a slow or bad network connection. Possible fixes:\\n\"+\n",
       "     \"</p>\\n\"+\n",
       "     \"<ul>\\n\"+\n",
       "     \"<li>re-rerun `output_notebook()` to attempt to load from CDN again, or</li>\\n\"+\n",
       "     \"<li>use INLINE resources instead, as so:</li>\\n\"+\n",
       "     \"</ul>\\n\"+\n",
       "     \"<code>\\n\"+\n",
       "     \"from bokeh.resources import INLINE\\n\"+\n",
       "     \"output_notebook(resources=INLINE)\\n\"+\n",
       "     \"</code>\\n\"+\n",
       "     \"</div>\"}};\n",
       "\n",
       "  function display_loaded() {\n",
       "    var el = document.getElementById(\"ae5139dc-6628-4cf8-af1a-7f40bc4e16d0\");\n",
       "    if (el != null) {\n",
       "      el.textContent = \"BokehJS is loading...\";\n",
       "    }\n",
       "    if (root.Bokeh !== undefined) {\n",
       "      if (el != null) {\n",
       "        el.textContent = \"BokehJS \" + root.Bokeh.version + \" successfully loaded.\";\n",
       "      }\n",
       "    } else if (Date.now() < root._bokeh_timeout) {\n",
       "      setTimeout(display_loaded, 100)\n",
       "    }\n",
       "  }\n",
       "\n",
       "\n",
       "  function run_callbacks() {\n",
       "    try {\n",
       "      root._bokeh_onload_callbacks.forEach(function(callback) { callback() });\n",
       "    }\n",
       "    finally {\n",
       "      delete root._bokeh_onload_callbacks\n",
       "    }\n",
       "    console.info(\"Bokeh: all callbacks have finished\");\n",
       "  }\n",
       "\n",
       "  function load_libs(js_urls, callback) {\n",
       "    root._bokeh_onload_callbacks.push(callback);\n",
       "    if (root._bokeh_is_loading > 0) {\n",
       "      console.log(\"Bokeh: BokehJS is being loaded, scheduling callback at\", now());\n",
       "      return null;\n",
       "    }\n",
       "    if (js_urls == null || js_urls.length === 0) {\n",
       "      run_callbacks();\n",
       "      return null;\n",
       "    }\n",
       "    console.log(\"Bokeh: BokehJS not loaded, scheduling load and callback at\", now());\n",
       "    root._bokeh_is_loading = js_urls.length;\n",
       "    for (var i = 0; i < js_urls.length; i++) {\n",
       "      var url = js_urls[i];\n",
       "      var s = document.createElement('script');\n",
       "      s.src = url;\n",
       "      s.async = false;\n",
       "      s.onreadystatechange = s.onload = function() {\n",
       "        root._bokeh_is_loading--;\n",
       "        if (root._bokeh_is_loading === 0) {\n",
       "          console.log(\"Bokeh: all BokehJS libraries loaded\");\n",
       "          run_callbacks()\n",
       "        }\n",
       "      };\n",
       "      s.onerror = function() {\n",
       "        console.warn(\"failed to load library \" + url);\n",
       "      };\n",
       "      console.log(\"Bokeh: injecting script tag for BokehJS library: \", url);\n",
       "      document.getElementsByTagName(\"head\")[0].appendChild(s);\n",
       "    }\n",
       "  };var element = document.getElementById(\"ae5139dc-6628-4cf8-af1a-7f40bc4e16d0\");\n",
       "  if (element == null) {\n",
       "    console.log(\"Bokeh: ERROR: autoload.js configured with elementid 'ae5139dc-6628-4cf8-af1a-7f40bc4e16d0' but no matching script tag was found. \")\n",
       "    return false;\n",
       "  }\n",
       "\n",
       "  var js_urls = [\"https://cdn.pydata.org/bokeh/release/bokeh-0.12.10.min.js\", \"https://cdn.pydata.org/bokeh/release/bokeh-widgets-0.12.10.min.js\", \"https://cdn.pydata.org/bokeh/release/bokeh-tables-0.12.10.min.js\", \"https://cdn.pydata.org/bokeh/release/bokeh-gl-0.12.10.min.js\"];\n",
       "\n",
       "  var inline_js = [\n",
       "    function(Bokeh) {\n",
       "      Bokeh.set_log_level(\"info\");\n",
       "    },\n",
       "    \n",
       "    function(Bokeh) {\n",
       "      \n",
       "    },\n",
       "    function(Bokeh) {\n",
       "      console.log(\"Bokeh: injecting CSS: https://cdn.pydata.org/bokeh/release/bokeh-0.12.10.min.css\");\n",
       "      Bokeh.embed.inject_css(\"https://cdn.pydata.org/bokeh/release/bokeh-0.12.10.min.css\");\n",
       "      console.log(\"Bokeh: injecting CSS: https://cdn.pydata.org/bokeh/release/bokeh-widgets-0.12.10.min.css\");\n",
       "      Bokeh.embed.inject_css(\"https://cdn.pydata.org/bokeh/release/bokeh-widgets-0.12.10.min.css\");\n",
       "      console.log(\"Bokeh: injecting CSS: https://cdn.pydata.org/bokeh/release/bokeh-tables-0.12.10.min.css\");\n",
       "      Bokeh.embed.inject_css(\"https://cdn.pydata.org/bokeh/release/bokeh-tables-0.12.10.min.css\");\n",
       "    }\n",
       "  ];\n",
       "\n",
       "  function run_inline_js() {\n",
       "    \n",
       "    if ((root.Bokeh !== undefined) || (force === true)) {\n",
       "      for (var i = 0; i < inline_js.length; i++) {\n",
       "        inline_js[i].call(root, root.Bokeh);\n",
       "      }if (force === true) {\n",
       "        display_loaded();\n",
       "      }} else if (Date.now() < root._bokeh_timeout) {\n",
       "      setTimeout(run_inline_js, 100);\n",
       "    } else if (!root._bokeh_failed_load) {\n",
       "      console.log(\"Bokeh: BokehJS failed to load within specified timeout.\");\n",
       "      root._bokeh_failed_load = true;\n",
       "    } else if (force !== true) {\n",
       "      var cell = $(document.getElementById(\"ae5139dc-6628-4cf8-af1a-7f40bc4e16d0\")).parents('.cell').data().cell;\n",
       "      cell.output_area.append_execute_result(NB_LOAD_WARNING)\n",
       "    }\n",
       "\n",
       "  }\n",
       "\n",
       "  if (root._bokeh_is_loading === 0) {\n",
       "    console.log(\"Bokeh: BokehJS loaded, going straight to plotting\");\n",
       "    run_inline_js();\n",
       "  } else {\n",
       "    load_libs(js_urls, function() {\n",
       "      console.log(\"Bokeh: BokehJS plotting callback run at\", now());\n",
       "      run_inline_js();\n",
       "    });\n",
       "  }\n",
       "}(window));"
      ],
      "application/vnd.bokehjs_load.v0+json": "\n(function(root) {\n  function now() {\n    return new Date();\n  }\n\n  var force = true;\n\n  if (typeof (root._bokeh_onload_callbacks) === \"undefined\" || force === true) {\n    root._bokeh_onload_callbacks = [];\n    root._bokeh_is_loading = undefined;\n  }\n\n  \n\n  \n  if (typeof (root._bokeh_timeout) === \"undefined\" || force === true) {\n    root._bokeh_timeout = Date.now() + 5000;\n    root._bokeh_failed_load = false;\n  }\n\n  var NB_LOAD_WARNING = {'data': {'text/html':\n     \"<div style='background-color: #fdd'>\\n\"+\n     \"<p>\\n\"+\n     \"BokehJS does not appear to have successfully loaded. If loading BokehJS from CDN, this \\n\"+\n     \"may be due to a slow or bad network connection. Possible fixes:\\n\"+\n     \"</p>\\n\"+\n     \"<ul>\\n\"+\n     \"<li>re-rerun `output_notebook()` to attempt to load from CDN again, or</li>\\n\"+\n     \"<li>use INLINE resources instead, as so:</li>\\n\"+\n     \"</ul>\\n\"+\n     \"<code>\\n\"+\n     \"from bokeh.resources import INLINE\\n\"+\n     \"output_notebook(resources=INLINE)\\n\"+\n     \"</code>\\n\"+\n     \"</div>\"}};\n\n  function display_loaded() {\n    var el = document.getElementById(\"ae5139dc-6628-4cf8-af1a-7f40bc4e16d0\");\n    if (el != null) {\n      el.textContent = \"BokehJS is loading...\";\n    }\n    if (root.Bokeh !== undefined) {\n      if (el != null) {\n        el.textContent = \"BokehJS \" + root.Bokeh.version + \" successfully loaded.\";\n      }\n    } else if (Date.now() < root._bokeh_timeout) {\n      setTimeout(display_loaded, 100)\n    }\n  }\n\n\n  function run_callbacks() {\n    try {\n      root._bokeh_onload_callbacks.forEach(function(callback) { callback() });\n    }\n    finally {\n      delete root._bokeh_onload_callbacks\n    }\n    console.info(\"Bokeh: all callbacks have finished\");\n  }\n\n  function load_libs(js_urls, callback) {\n    root._bokeh_onload_callbacks.push(callback);\n    if (root._bokeh_is_loading > 0) {\n      console.log(\"Bokeh: BokehJS is being loaded, scheduling callback at\", now());\n      return null;\n    }\n    if (js_urls == null || js_urls.length === 0) {\n      run_callbacks();\n      return null;\n    }\n    console.log(\"Bokeh: BokehJS not loaded, scheduling load and callback at\", now());\n    root._bokeh_is_loading = js_urls.length;\n    for (var i = 0; i < js_urls.length; i++) {\n      var url = js_urls[i];\n      var s = document.createElement('script');\n      s.src = url;\n      s.async = false;\n      s.onreadystatechange = s.onload = function() {\n        root._bokeh_is_loading--;\n        if (root._bokeh_is_loading === 0) {\n          console.log(\"Bokeh: all BokehJS libraries loaded\");\n          run_callbacks()\n        }\n      };\n      s.onerror = function() {\n        console.warn(\"failed to load library \" + url);\n      };\n      console.log(\"Bokeh: injecting script tag for BokehJS library: \", url);\n      document.getElementsByTagName(\"head\")[0].appendChild(s);\n    }\n  };var element = document.getElementById(\"ae5139dc-6628-4cf8-af1a-7f40bc4e16d0\");\n  if (element == null) {\n    console.log(\"Bokeh: ERROR: autoload.js configured with elementid 'ae5139dc-6628-4cf8-af1a-7f40bc4e16d0' but no matching script tag was found. \")\n    return false;\n  }\n\n  var js_urls = [\"https://cdn.pydata.org/bokeh/release/bokeh-0.12.10.min.js\", \"https://cdn.pydata.org/bokeh/release/bokeh-widgets-0.12.10.min.js\", \"https://cdn.pydata.org/bokeh/release/bokeh-tables-0.12.10.min.js\", \"https://cdn.pydata.org/bokeh/release/bokeh-gl-0.12.10.min.js\"];\n\n  var inline_js = [\n    function(Bokeh) {\n      Bokeh.set_log_level(\"info\");\n    },\n    \n    function(Bokeh) {\n      \n    },\n    function(Bokeh) {\n      console.log(\"Bokeh: injecting CSS: https://cdn.pydata.org/bokeh/release/bokeh-0.12.10.min.css\");\n      Bokeh.embed.inject_css(\"https://cdn.pydata.org/bokeh/release/bokeh-0.12.10.min.css\");\n      console.log(\"Bokeh: injecting CSS: https://cdn.pydata.org/bokeh/release/bokeh-widgets-0.12.10.min.css\");\n      Bokeh.embed.inject_css(\"https://cdn.pydata.org/bokeh/release/bokeh-widgets-0.12.10.min.css\");\n      console.log(\"Bokeh: injecting CSS: https://cdn.pydata.org/bokeh/release/bokeh-tables-0.12.10.min.css\");\n      Bokeh.embed.inject_css(\"https://cdn.pydata.org/bokeh/release/bokeh-tables-0.12.10.min.css\");\n    }\n  ];\n\n  function run_inline_js() {\n    \n    if ((root.Bokeh !== undefined) || (force === true)) {\n      for (var i = 0; i < inline_js.length; i++) {\n        inline_js[i].call(root, root.Bokeh);\n      }if (force === true) {\n        display_loaded();\n      }} else if (Date.now() < root._bokeh_timeout) {\n      setTimeout(run_inline_js, 100);\n    } else if (!root._bokeh_failed_load) {\n      console.log(\"Bokeh: BokehJS failed to load within specified timeout.\");\n      root._bokeh_failed_load = true;\n    } else if (force !== true) {\n      var cell = $(document.getElementById(\"ae5139dc-6628-4cf8-af1a-7f40bc4e16d0\")).parents('.cell').data().cell;\n      cell.output_area.append_execute_result(NB_LOAD_WARNING)\n    }\n\n  }\n\n  if (root._bokeh_is_loading === 0) {\n    console.log(\"Bokeh: BokehJS loaded, going straight to plotting\");\n    run_inline_js();\n  } else {\n    load_libs(js_urls, function() {\n      console.log(\"Bokeh: BokehJS plotting callback run at\", now());\n      run_inline_js();\n    });\n  }\n}(window));"
     },
     "metadata": {},
     "output_type": "display_data"
    },
    {
     "data": {
      "text/html": [
       "\n",
       "<div class=\"bk-root\">\n",
       "    <div class=\"bk-plotdiv\" id=\"fccd9636-1997-4ecc-afb3-2d848870e0f6\"></div>\n",
       "</div>"
      ]
     },
     "metadata": {},
     "output_type": "display_data"
    },
    {
     "data": {
      "application/javascript": [
       "(function(root) {\n",
       "  function embed_document(root) {\n",
       "    var docs_json = {\"3ce11d66-2f04-4255-a928-f57856ef40da\":{\"roots\":{\"references\":[{\"attributes\":{\"children\":[{\"id\":\"74d0b7f1-92aa-4f56-902f-4e616a8f93f6\",\"subtype\":\"Figure\",\"type\":\"Plot\"},{\"id\":\"4b1641c7-53cc-454f-bb5a-f5200238f5ac\",\"subtype\":\"Figure\",\"type\":\"Plot\"}]},\"id\":\"a7f922c8-10fc-4e7e-9cef-3f4cbda22e48\",\"type\":\"Column\"},{\"attributes\":{\"line_alpha\":{\"value\":0.1},\"line_color\":{\"value\":\"#1f77b4\"},\"line_width\":{\"value\":2},\"x\":{\"field\":\"x\"},\"y\":{\"field\":\"y\"}},\"id\":\"1c67440f-5f11-4083-95bf-25408edfc93c\",\"type\":\"Line\"},{\"attributes\":{\"source\":{\"id\":\"ec0d8e69-aed1-4c55-928b-0c43ddae6712\",\"type\":\"ColumnDataSource\"}},\"id\":\"d7f31d1e-e50e-423b-bcce-26c81c9c7a6b\",\"type\":\"CDSView\"},{\"attributes\":{\"data_source\":{\"id\":\"ec0d8e69-aed1-4c55-928b-0c43ddae6712\",\"type\":\"ColumnDataSource\"},\"glyph\":{\"id\":\"1d47644f-acf5-4377-a789-6513e04cf2bd\",\"type\":\"Line\"},\"hover_glyph\":null,\"muted_glyph\":null,\"nonselection_glyph\":{\"id\":\"1576d5a0-b4a5-4a74-b9aa-1a878428ab25\",\"type\":\"Line\"},\"selection_glyph\":null,\"view\":{\"id\":\"d7f31d1e-e50e-423b-bcce-26c81c9c7a6b\",\"type\":\"CDSView\"}},\"id\":\"8b105bf8-5bac-432a-bd04-aa441c44ce51\",\"type\":\"GlyphRenderer\"},{\"attributes\":{},\"id\":\"b11824fe-c4c7-4052-b47f-d5bc8ed774ca\",\"type\":\"WheelZoomTool\"},{\"attributes\":{\"source\":{\"id\":\"4fdbb51f-efa0-42df-9165-4fd15816c2d2\",\"type\":\"ColumnDataSource\"}},\"id\":\"17d4b009-6a0d-4b6f-aa1e-40413ccc7a37\",\"type\":\"CDSView\"},{\"attributes\":{},\"id\":\"4660bcab-bcc3-4cde-96d3-2001d3d45b56\",\"type\":\"PanTool\"},{\"attributes\":{},\"id\":\"b9ed92d7-c506-4680-a585-54b6fb78c49b\",\"type\":\"BasicTicker\"},{\"attributes\":{},\"id\":\"6129063c-730f-4eea-a37c-060a79391c38\",\"type\":\"WheelZoomTool\"},{\"attributes\":{},\"id\":\"943dcfce-1620-41c7-9330-f29266f20513\",\"type\":\"LinearScale\"},{\"attributes\":{\"axis_label\":\"Number of Loans Funded\",\"formatter\":{\"id\":\"675f5c0f-92c3-4547-99cc-2d4596f5d05f\",\"type\":\"BasicTickFormatter\"},\"plot\":{\"id\":\"4b1641c7-53cc-454f-bb5a-f5200238f5ac\",\"subtype\":\"Figure\",\"type\":\"Plot\"},\"ticker\":{\"id\":\"3ed0709c-1aec-43f9-9a19-e081a5f84a47\",\"type\":\"BasicTicker\"}},\"id\":\"2ee7b8e1-52fe-476e-8156-e9c804c60523\",\"type\":\"LinearAxis\"},{\"attributes\":{\"axis_label\":\"Time\",\"formatter\":{\"id\":\"3252d9d8-ff66-467e-948b-7919f32ec4cf\",\"type\":\"DatetimeTickFormatter\"},\"plot\":{\"id\":\"4b1641c7-53cc-454f-bb5a-f5200238f5ac\",\"subtype\":\"Figure\",\"type\":\"Plot\"},\"ticker\":{\"id\":\"be599239-f41c-457e-9a68-bb6b4daa95f6\",\"type\":\"DatetimeTicker\"}},\"id\":\"2d886714-d151-46a4-a8f1-c44e25b1ac7e\",\"type\":\"DatetimeAxis\"},{\"attributes\":{},\"id\":\"171f5def-1d52-4e63-bb65-faf4e987ec1b\",\"type\":\"PanTool\"},{\"attributes\":{\"dimension\":1,\"plot\":{\"id\":\"74d0b7f1-92aa-4f56-902f-4e616a8f93f6\",\"subtype\":\"Figure\",\"type\":\"Plot\"},\"ticker\":{\"id\":\"b9ed92d7-c506-4680-a585-54b6fb78c49b\",\"type\":\"BasicTicker\"}},\"id\":\"2b5990ec-eb88-4129-b7ac-6d4d01ef970b\",\"type\":\"Grid\"},{\"attributes\":{},\"id\":\"3ed0709c-1aec-43f9-9a19-e081a5f84a47\",\"type\":\"BasicTicker\"},{\"attributes\":{\"plot\":{\"id\":\"74d0b7f1-92aa-4f56-902f-4e616a8f93f6\",\"subtype\":\"Figure\",\"type\":\"Plot\"},\"ticker\":{\"id\":\"d265dc73-1e52-41ae-bddb-1f2ac0e1a3d9\",\"type\":\"DatetimeTicker\"}},\"id\":\"d9960be2-bb1e-4b40-8ff2-cc256c7a12fc\",\"type\":\"Grid\"},{\"attributes\":{\"dimension\":1,\"plot\":{\"id\":\"4b1641c7-53cc-454f-bb5a-f5200238f5ac\",\"subtype\":\"Figure\",\"type\":\"Plot\"},\"ticker\":{\"id\":\"3ed0709c-1aec-43f9-9a19-e081a5f84a47\",\"type\":\"BasicTicker\"}},\"id\":\"342ce98b-19b7-4478-98ab-479a0a2a4798\",\"type\":\"Grid\"},{\"attributes\":{\"axis_label\":\"Time\",\"formatter\":{\"id\":\"04eb331b-36ba-4570-a9ab-608154445bf8\",\"type\":\"DatetimeTickFormatter\"},\"plot\":{\"id\":\"74d0b7f1-92aa-4f56-902f-4e616a8f93f6\",\"subtype\":\"Figure\",\"type\":\"Plot\"},\"ticker\":{\"id\":\"d265dc73-1e52-41ae-bddb-1f2ac0e1a3d9\",\"type\":\"DatetimeTicker\"}},\"id\":\"74dc0a7b-a5b5-4587-b015-4444b874c6ed\",\"type\":\"DatetimeAxis\"},{\"attributes\":{\"num_minor_ticks\":5,\"tickers\":[{\"id\":\"e805ab48-23b8-458e-8eb7-e2df6802ba0c\",\"type\":\"AdaptiveTicker\"},{\"id\":\"33aa1d22-db05-4b4b-b8b2-0665c10f7e6b\",\"type\":\"AdaptiveTicker\"},{\"id\":\"a13b0786-c207-40a0-bed4-22b2f6559dcf\",\"type\":\"AdaptiveTicker\"},{\"id\":\"5ebc898c-bafe-4082-8eed-915fbb3cf509\",\"type\":\"DaysTicker\"},{\"id\":\"066a622b-224f-42e0-91d1-2b1dd39605b5\",\"type\":\"DaysTicker\"},{\"id\":\"f5714dce-26ce-4ac5-a2c9-47eb63b70c5f\",\"type\":\"DaysTicker\"},{\"id\":\"74a6223f-32c4-414c-bb79-6d9d79be1ce2\",\"type\":\"DaysTicker\"},{\"id\":\"8c89a297-5331-4ba1-8199-3aeb82b81dc2\",\"type\":\"MonthsTicker\"},{\"id\":\"1551315a-61b7-4145-b984-f200d83104c8\",\"type\":\"MonthsTicker\"},{\"id\":\"be20e2e3-6dfd-4b15-8beb-c04c43e26b3d\",\"type\":\"MonthsTicker\"},{\"id\":\"f0fdad19-1dd1-4d22-8a76-95143e9c1a48\",\"type\":\"MonthsTicker\"},{\"id\":\"107c59ae-20b1-4878-bce5-46edffe9e3c1\",\"type\":\"YearsTicker\"}]},\"id\":\"be599239-f41c-457e-9a68-bb6b4daa95f6\",\"type\":\"DatetimeTicker\"},{\"attributes\":{\"plot\":{\"id\":\"4b1641c7-53cc-454f-bb5a-f5200238f5ac\",\"subtype\":\"Figure\",\"type\":\"Plot\"},\"ticker\":{\"id\":\"be599239-f41c-457e-9a68-bb6b4daa95f6\",\"type\":\"DatetimeTicker\"}},\"id\":\"9a9b7fe8-b0c2-4ac4-95a7-52411f322129\",\"type\":\"Grid\"},{\"attributes\":{\"line_color\":{\"value\":\"#1f77b4\"},\"line_width\":{\"value\":2},\"x\":{\"field\":\"x\"},\"y\":{\"field\":\"y\"}},\"id\":\"845d5bfc-e7d1-428b-86b4-91b479719578\",\"type\":\"Line\"},{\"attributes\":{\"num_minor_ticks\":5,\"tickers\":[{\"id\":\"3dae00bb-b511-4a6a-9c91-5a2dc3fecb0e\",\"type\":\"AdaptiveTicker\"},{\"id\":\"35675330-6dde-436d-ab28-810317f7a601\",\"type\":\"AdaptiveTicker\"},{\"id\":\"3407994f-acf4-41a7-85f1-8cee5a177e2f\",\"type\":\"AdaptiveTicker\"},{\"id\":\"acb2ab04-75b9-4503-ac79-119fdde9fcd0\",\"type\":\"DaysTicker\"},{\"id\":\"f5e5f678-d703-4030-90be-8e9dd74c953b\",\"type\":\"DaysTicker\"},{\"id\":\"4352a0c3-e6f0-4bb1-8bb3-5d62f732e29e\",\"type\":\"DaysTicker\"},{\"id\":\"6e854d1a-356f-4267-8e1e-69c0c351828d\",\"type\":\"DaysTicker\"},{\"id\":\"ba323f50-2ee3-43cf-89b5-8b7d1058334b\",\"type\":\"MonthsTicker\"},{\"id\":\"4a3dcf77-da43-44b6-ad0d-3d2599077099\",\"type\":\"MonthsTicker\"},{\"id\":\"8bfc2945-e1c1-43f7-8546-fba23ba55539\",\"type\":\"MonthsTicker\"},{\"id\":\"5e2d0297-9e43-4641-b2a5-129cfd766ed5\",\"type\":\"MonthsTicker\"},{\"id\":\"0b65e893-06e9-4502-880b-5786426d4048\",\"type\":\"YearsTicker\"}]},\"id\":\"d265dc73-1e52-41ae-bddb-1f2ac0e1a3d9\",\"type\":\"DatetimeTicker\"},{\"attributes\":{},\"id\":\"3252d9d8-ff66-467e-948b-7919f32ec4cf\",\"type\":\"DatetimeTickFormatter\"},{\"attributes\":{\"callback\":null,\"column_names\":[\"x\",\"y\"],\"data\":{\"x\":{\"__ndarray__\":\"AADATUkucUIAAEA68TdxQgAAgIzrQXFCAADA3uVLcUIAAEDLjVVxQgAAgB2IX3FCAAAACjBpcUIAAEBcKnNxQgAAgK4kfXFCAABANXqGcUIAAICHdJBxQgAAAHQcmnFCAABAxhakcUIAAMCyvq1xQgAAAAW5t3FCAABAV7PBcUIAAMBDW8txQgAAAJZV1XFCAACAgv3ecUIAAMDU9+hxQgAAACfy8nFCAAAASPX7cUIAAECa7wVyQgAAwIaXD3JCAAAA2ZEZckIAAIDFOSNyQgAAwBc0LXJCAAAAai43ckIAAIBW1kByQgAAwKjQSnJCAABAlXhUckIAAIDncl5yQgAAwDltaHJCAADAWnBxckIAAACtantyQgAAgJkShXJCAADA6wyPckIAAEDYtJhyQgAAgCqvonJCAADAfKmsckIAAEBpUbZyQgAAgLtLwHJCAAAAqPPJckIAAED67dNyQgAAgEzo3XJCAACAbevmckIAAMC/5fByQgAAQKyN+nJCAACA/ocEc0IAAADrLw5zQgAAQD0qGHNCAACAjyQic0IAAAB8zCtzQgAAQM7GNXNCAADAum4/c0IAAAANaUlzQgAAQF9jU3NCAAAA5rhcc0IAAEA4s2ZzQgAAwCRbcHNCAAAAd1V6c0IAAIBj/YNzQgAAwLX3jXNCAAAACPKXc0IAAID0maFzQgAAwEaUq3NCAABAMzy1c0IAAICFNr9zQgAAwNcwyXNCAADA+DPSc0IAAABLLtxzQgAAgDfW5XNCAADAidDvc0IAAEB2ePlzQgAAgMhyA3RCAADAGm0NdEIAAEAHFRd0QgAAgFkPIXRCAAAARrcqdEIAAECYsTR0QgAAgOqrPnRCAACAC69HdEIAAMBdqVF0QgAAQEpRW3RCAACAnEtldEIAAACJ8250QgAAQNvteHRCAACALeiCdEIAAAAakIx0QgAAQGyKlnRCAADAWDKgdEIAAACrLKp0QgAAQP0mtHRCAABAHiq9dEIAAIBwJMd0QgAAAF3M0HRCAABAr8badEIAAMCbbuR0QgAAAO5o7nRCAABAQGP4dEIAAMAsCwJ1QgAAAH8FDHVCAACAa60VdUI=\",\"dtype\":\"float64\",\"shape\":[103]},\"y\":[24,63,74,53,105,112,172,305,306,402,259,115,124,141,100,57,122,209,253,269,302,324,333,359,406,411,446,507,604,662,658,662,682,828,912,989,1105,1204,1175,1189,1232,1224,1335,1380,1298,1448,1563,1704,1835,1875,1934,2067,2118,2232,2267,2602,2560,2914,3230,3400,3817,4627,5419,6087,6263,6382,6066,6872,7561,8273,9419,10350,10899,11910,12674,12987,14114,14676,15020,15628,15269,16513,19071,19099,17179,29306,18814,10606,38782,25054,10307,35107,23770,25400,35427,31913,28485,45962,35886,28641,48631,37530,44342]}},\"id\":\"ec0d8e69-aed1-4c55-928b-0c43ddae6712\",\"type\":\"ColumnDataSource\"},{\"attributes\":{},\"id\":\"107c59ae-20b1-4878-bce5-46edffe9e3c1\",\"type\":\"YearsTicker\"},{\"attributes\":{\"plot\":null,\"text\":\"Funded Loan Amount over Years\"},\"id\":\"1cee9c5c-f257-42b4-9212-c5605b0625b2\",\"type\":\"Title\"},{\"attributes\":{\"callback\":null},\"id\":\"50c21263-5063-4950-bd6b-ceb1120478e2\",\"type\":\"DataRange1d\"},{\"attributes\":{\"active_drag\":\"auto\",\"active_inspect\":\"auto\",\"active_scroll\":\"auto\",\"active_tap\":\"auto\",\"tools\":[{\"id\":\"4660bcab-bcc3-4cde-96d3-2001d3d45b56\",\"type\":\"PanTool\"},{\"id\":\"6129063c-730f-4eea-a37c-060a79391c38\",\"type\":\"WheelZoomTool\"},{\"id\":\"cd23e2e5-f1db-468e-b9a3-9a0359d28101\",\"type\":\"BoxZoomTool\"},{\"id\":\"dff1c3fe-3d6d-4d41-a613-826e32a7bb39\",\"type\":\"SaveTool\"},{\"id\":\"78b3d7c2-ea1b-4692-9bd8-85ee11e9827a\",\"type\":\"ResetTool\"},{\"id\":\"9107a33e-18c8-40af-94cd-fae4f771ff84\",\"type\":\"HelpTool\"}]},\"id\":\"cfb1f64c-0250-4df5-9eac-f388e8b8c220\",\"type\":\"Toolbar\"},{\"attributes\":{\"base\":60,\"mantissas\":[1,2,5,10,15,20,30],\"max_interval\":1800000.0,\"min_interval\":1000.0,\"num_minor_ticks\":0},\"id\":\"35675330-6dde-436d-ab28-810317f7a601\",\"type\":\"AdaptiveTicker\"},{\"attributes\":{\"below\":[{\"id\":\"2d886714-d151-46a4-a8f1-c44e25b1ac7e\",\"type\":\"DatetimeAxis\"}],\"left\":[{\"id\":\"2ee7b8e1-52fe-476e-8156-e9c804c60523\",\"type\":\"LinearAxis\"}],\"renderers\":[{\"id\":\"2d886714-d151-46a4-a8f1-c44e25b1ac7e\",\"type\":\"DatetimeAxis\"},{\"id\":\"9a9b7fe8-b0c2-4ac4-95a7-52411f322129\",\"type\":\"Grid\"},{\"id\":\"2ee7b8e1-52fe-476e-8156-e9c804c60523\",\"type\":\"LinearAxis\"},{\"id\":\"342ce98b-19b7-4478-98ab-479a0a2a4798\",\"type\":\"Grid\"},{\"id\":\"617abd5f-89a1-4c03-9f05-cb94e4d9d7b0\",\"type\":\"BoxAnnotation\"},{\"id\":\"8b105bf8-5bac-432a-bd04-aa441c44ce51\",\"type\":\"GlyphRenderer\"}],\"title\":{\"id\":\"51842325-4c74-4c38-8d7f-56ec17ac36e6\",\"type\":\"Title\"},\"toolbar\":{\"id\":\"cfb1f64c-0250-4df5-9eac-f388e8b8c220\",\"type\":\"Toolbar\"},\"x_range\":{\"id\":\"50c21263-5063-4950-bd6b-ceb1120478e2\",\"type\":\"DataRange1d\"},\"x_scale\":{\"id\":\"c755283b-151b-4461-9a01-28b0d02d66bd\",\"type\":\"LinearScale\"},\"y_range\":{\"id\":\"cc289e12-db5d-4c95-a205-85a414f13f7e\",\"type\":\"DataRange1d\"},\"y_scale\":{\"id\":\"ccbc34ce-18a8-47c7-bbc1-bef184ae9aed\",\"type\":\"LinearScale\"}},\"id\":\"4b1641c7-53cc-454f-bb5a-f5200238f5ac\",\"subtype\":\"Figure\",\"type\":\"Plot\"},{\"attributes\":{\"line_color\":{\"value\":\"#1f77b4\"},\"line_width\":{\"value\":2},\"x\":{\"field\":\"x\"},\"y\":{\"field\":\"y\"}},\"id\":\"1d47644f-acf5-4377-a789-6513e04cf2bd\",\"type\":\"Line\"},{\"attributes\":{\"months\":[0,1,2,3,4,5,6,7,8,9,10,11]},\"id\":\"8c89a297-5331-4ba1-8199-3aeb82b81dc2\",\"type\":\"MonthsTicker\"},{\"attributes\":{\"line_alpha\":{\"value\":0.1},\"line_color\":{\"value\":\"#1f77b4\"},\"line_width\":{\"value\":2},\"x\":{\"field\":\"x\"},\"y\":{\"field\":\"y\"}},\"id\":\"1576d5a0-b4a5-4a74-b9aa-1a878428ab25\",\"type\":\"Line\"},{\"attributes\":{\"callback\":null,\"column_names\":[\"x\",\"y\"],\"data\":{\"x\":{\"__ndarray__\":\"AADATUkucUIAAEA68TdxQgAAgIzrQXFCAADA3uVLcUIAAEDLjVVxQgAAgB2IX3FCAAAACjBpcUIAAEBcKnNxQgAAgK4kfXFCAABANXqGcUIAAICHdJBxQgAAAHQcmnFCAABAxhakcUIAAMCyvq1xQgAAAAW5t3FCAABAV7PBcUIAAMBDW8txQgAAAJZV1XFCAACAgv3ecUIAAMDU9+hxQgAAACfy8nFCAAAASPX7cUIAAECa7wVyQgAAwIaXD3JCAAAA2ZEZckIAAIDFOSNyQgAAwBc0LXJCAAAAai43ckIAAIBW1kByQgAAwKjQSnJCAABAlXhUckIAAIDncl5yQgAAwDltaHJCAADAWnBxckIAAACtantyQgAAgJkShXJCAADA6wyPckIAAEDYtJhyQgAAgCqvonJCAADAfKmsckIAAEBpUbZyQgAAgLtLwHJCAAAAqPPJckIAAED67dNyQgAAgEzo3XJCAACAbevmckIAAMC/5fByQgAAQKyN+nJCAACA/ocEc0IAAADrLw5zQgAAQD0qGHNCAACAjyQic0IAAAB8zCtzQgAAQM7GNXNCAADAum4/c0IAAAANaUlzQgAAQF9jU3NCAAAA5rhcc0IAAEA4s2ZzQgAAwCRbcHNCAAAAd1V6c0IAAIBj/YNzQgAAwLX3jXNCAAAACPKXc0IAAID0maFzQgAAwEaUq3NCAABAMzy1c0IAAICFNr9zQgAAwNcwyXNCAADA+DPSc0IAAABLLtxzQgAAgDfW5XNCAADAidDvc0IAAEB2ePlzQgAAgMhyA3RCAADAGm0NdEIAAEAHFRd0QgAAgFkPIXRCAAAARrcqdEIAAECYsTR0QgAAgOqrPnRCAACAC69HdEIAAMBdqVF0QgAAQEpRW3RCAACAnEtldEIAAACJ8250QgAAQNvteHRCAACALeiCdEIAAAAakIx0QgAAQGyKlnRCAADAWDKgdEIAAACrLKp0QgAAQP0mtHRCAABAHiq9dEIAAIBwJMd0QgAAAF3M0HRCAABAr8badEIAAMCbbuR0QgAAAO5o7nRCAABAQGP4dEIAAMAsCwJ1QgAAAH8FDHVCAACAa60VdUI=\",\"dtype\":\"float64\",\"shape\":[103]},\"y\":{\"__ndarray__\":\"AAAAAKBs9kAAAAAAEEUUQQAAAABg0h1BAAAAAFjDFkEAAAAA9tYkQQAAAADcZC5BAAAAAJnhO0EAAAAAdSRGQQAAAIAchEZBAAAAAJGpT0EAAAAAUaI7QQAAAADgwiFBAAAAAP78I0EAAAAARLIoQQAAAACIlxxBAAAAAJiJEEEAAAAA8NksQQAAAABjpj5BAAAAgBN4QkEAAAAAotdCQQAAAADrqkRBAAAAABpbR0EAAAAAu25HQQAAAABpkUlBAAAAgHpnS0EAAACAjpJNQQAAAMDqdlBBAAAAwKp3U0EAAACACv5XQQAAAMBaIFpBAAAAwHIvW0EAAACA1yxcQQAAAMAzclxBAAAAwNWGYEEAAADg1SNiQQAAAEBrKGNBAAAA4NclY0EAAAAA1PdlQQAAAOAB7mZBAAAAYL/2ZkEAAADgZh5oQQAAAECeM2ZBAAAAINqHaUEAAADgPUNsQQAAAGCH2WtBAAAAQDeHb0EAAAAAWLVwQQAAALBVrHFBAAAAkL8Vc0EAAAAA5pxzQQAAADCZ83VBAAAAgC/Kd0EAAABgmzV6QQAAAIAjBXtBAAAAEBOSfUEAAAD4dTaAQQAAAPihMYFBAAAAYDXagkEAAACoMQ2EQQAAAEhAgIVBAAAAcGPxh0EAAACIf6SMQQAAAOhCtZBBAAAAmGZdkkEAAAAo4I6TQQAAAHiP6JRBAAAASNNulkEAAAAcOw2ZQQAAALytppxBAAAAiIFunkEAAACeTLSgQQAAAPa2paFBAAAAKrTXokEAAADysVukQQAAAEYpdqVBAAAA+IpmpkEAAACgOWOoQQAAAFDPralBAAAACvq4qkEAAAB66L2rQQAAABqybatBAAAA4BVMrUEAAAC3dcKwQQAAAGCOurBBAAAA9mmBrkEAAAD1vM+5QQAAAB88xrBBAAAAntkBo0EAAIAfHQrBQQAAABqmQrZBAAAALrrhokEAAAAf9ca/QQAAAG2U3rVBAAAAS/o+t0EAAIC5TRPAQQAAAOPizLxBAAAAF+GduUEAAAAE4b/EQQAAAKTXjMBBAAAAkDjWukEAAACsLgDGQQAAgO7A58BBAAAAG4rnw0E=\",\"dtype\":\"float64\",\"shape\":[103]}}},\"id\":\"4fdbb51f-efa0-42df-9165-4fd15816c2d2\",\"type\":\"ColumnDataSource\"},{\"attributes\":{\"callback\":null},\"id\":\"cc289e12-db5d-4c95-a205-85a414f13f7e\",\"type\":\"DataRange1d\"},{\"attributes\":{\"callback\":null},\"id\":\"4a2cc8a3-bb7d-47d0-8f16-2b161ecf3fbc\",\"type\":\"DataRange1d\"},{\"attributes\":{\"base\":24,\"mantissas\":[1,2,4,6,8,12],\"max_interval\":43200000.0,\"min_interval\":3600000.0,\"num_minor_ticks\":0},\"id\":\"3407994f-acf4-41a7-85f1-8cee5a177e2f\",\"type\":\"AdaptiveTicker\"},{\"attributes\":{\"months\":[0,2,4,6,8,10]},\"id\":\"1551315a-61b7-4145-b984-f200d83104c8\",\"type\":\"MonthsTicker\"},{\"attributes\":{\"plot\":null,\"text\":\"Funded Loan Volume over Years\"},\"id\":\"51842325-4c74-4c38-8d7f-56ec17ac36e6\",\"type\":\"Title\"},{\"attributes\":{\"axis_label\":\"Loan in US$\",\"formatter\":{\"id\":\"7bf5e4be-c7d9-44e7-844a-4eeebdeafb91\",\"type\":\"BasicTickFormatter\"},\"plot\":{\"id\":\"74d0b7f1-92aa-4f56-902f-4e616a8f93f6\",\"subtype\":\"Figure\",\"type\":\"Plot\"},\"ticker\":{\"id\":\"b9ed92d7-c506-4680-a585-54b6fb78c49b\",\"type\":\"BasicTicker\"}},\"id\":\"495ec270-4028-4b42-a4e9-e42aa1d4e0ab\",\"type\":\"LinearAxis\"},{\"attributes\":{},\"id\":\"ccbc34ce-18a8-47c7-bbc1-bef184ae9aed\",\"type\":\"LinearScale\"},{\"attributes\":{\"months\":[0,2,4,6,8,10]},\"id\":\"4a3dcf77-da43-44b6-ad0d-3d2599077099\",\"type\":\"MonthsTicker\"},{\"attributes\":{\"days\":[1,15]},\"id\":\"74a6223f-32c4-414c-bb79-6d9d79be1ce2\",\"type\":\"DaysTicker\"},{\"attributes\":{\"months\":[0,6]},\"id\":\"5e2d0297-9e43-4641-b2a5-129cfd766ed5\",\"type\":\"MonthsTicker\"},{\"attributes\":{\"months\":[0,4,8]},\"id\":\"be20e2e3-6dfd-4b15-8beb-c04c43e26b3d\",\"type\":\"MonthsTicker\"},{\"attributes\":{\"active_drag\":\"auto\",\"active_inspect\":\"auto\",\"active_scroll\":\"auto\",\"active_tap\":\"auto\",\"tools\":[{\"id\":\"171f5def-1d52-4e63-bb65-faf4e987ec1b\",\"type\":\"PanTool\"},{\"id\":\"b11824fe-c4c7-4052-b47f-d5bc8ed774ca\",\"type\":\"WheelZoomTool\"},{\"id\":\"2dc48943-e85d-4d60-b5e2-81fba5c8be3d\",\"type\":\"BoxZoomTool\"},{\"id\":\"c1756b62-d1d9-49a9-94f2-bc7f276016f7\",\"type\":\"SaveTool\"},{\"id\":\"65a86fd3-faa3-4477-9c72-0fab7ed4c4ef\",\"type\":\"ResetTool\"},{\"id\":\"e8cadddf-2efb-4e78-ab4f-1bd1ab9430c8\",\"type\":\"HelpTool\"}]},\"id\":\"a833d4b6-656a-4676-a925-0867ec477c32\",\"type\":\"Toolbar\"},{\"attributes\":{},\"id\":\"0b65e893-06e9-4502-880b-5786426d4048\",\"type\":\"YearsTicker\"},{\"attributes\":{\"days\":[1,8,15,22]},\"id\":\"f5714dce-26ce-4ac5-a2c9-47eb63b70c5f\",\"type\":\"DaysTicker\"},{\"attributes\":{\"months\":[0,4,8]},\"id\":\"8bfc2945-e1c1-43f7-8546-fba23ba55539\",\"type\":\"MonthsTicker\"},{\"attributes\":{\"days\":[1,4,7,10,13,16,19,22,25,28]},\"id\":\"066a622b-224f-42e0-91d1-2b1dd39605b5\",\"type\":\"DaysTicker\"},{\"attributes\":{},\"id\":\"c1756b62-d1d9-49a9-94f2-bc7f276016f7\",\"type\":\"SaveTool\"},{\"attributes\":{\"days\":[1,2,3,4,5,6,7,8,9,10,11,12,13,14,15,16,17,18,19,20,21,22,23,24,25,26,27,28,29,30,31]},\"id\":\"5ebc898c-bafe-4082-8eed-915fbb3cf509\",\"type\":\"DaysTicker\"},{\"attributes\":{\"data_source\":{\"id\":\"4fdbb51f-efa0-42df-9165-4fd15816c2d2\",\"type\":\"ColumnDataSource\"},\"glyph\":{\"id\":\"845d5bfc-e7d1-428b-86b4-91b479719578\",\"type\":\"Line\"},\"hover_glyph\":null,\"muted_glyph\":null,\"nonselection_glyph\":{\"id\":\"1c67440f-5f11-4083-95bf-25408edfc93c\",\"type\":\"Line\"},\"selection_glyph\":null,\"view\":{\"id\":\"17d4b009-6a0d-4b6f-aa1e-40413ccc7a37\",\"type\":\"CDSView\"}},\"id\":\"62db1496-0dd1-47f9-a94b-1c5be8a93c28\",\"type\":\"GlyphRenderer\"},{\"attributes\":{\"months\":[0,1,2,3,4,5,6,7,8,9,10,11]},\"id\":\"ba323f50-2ee3-43cf-89b5-8b7d1058334b\",\"type\":\"MonthsTicker\"},{\"attributes\":{\"months\":[0,6]},\"id\":\"f0fdad19-1dd1-4d22-8a76-95143e9c1a48\",\"type\":\"MonthsTicker\"},{\"attributes\":{},\"id\":\"e8cadddf-2efb-4e78-ab4f-1bd1ab9430c8\",\"type\":\"HelpTool\"},{\"attributes\":{\"mantissas\":[1,2,5],\"max_interval\":500.0,\"num_minor_ticks\":0},\"id\":\"3dae00bb-b511-4a6a-9c91-5a2dc3fecb0e\",\"type\":\"AdaptiveTicker\"},{\"attributes\":{\"base\":24,\"mantissas\":[1,2,4,6,8,12],\"max_interval\":43200000.0,\"min_interval\":3600000.0,\"num_minor_ticks\":0},\"id\":\"a13b0786-c207-40a0-bed4-22b2f6559dcf\",\"type\":\"AdaptiveTicker\"},{\"attributes\":{},\"id\":\"5fb45071-2a95-456e-b23b-951c11ff2635\",\"type\":\"LinearScale\"},{\"attributes\":{},\"id\":\"78b3d7c2-ea1b-4692-9bd8-85ee11e9827a\",\"type\":\"ResetTool\"},{\"attributes\":{\"days\":[1,8,15,22]},\"id\":\"4352a0c3-e6f0-4bb1-8bb3-5d62f732e29e\",\"type\":\"DaysTicker\"},{\"attributes\":{\"days\":[1,2,3,4,5,6,7,8,9,10,11,12,13,14,15,16,17,18,19,20,21,22,23,24,25,26,27,28,29,30,31]},\"id\":\"acb2ab04-75b9-4503-ac79-119fdde9fcd0\",\"type\":\"DaysTicker\"},{\"attributes\":{\"base\":60,\"mantissas\":[1,2,5,10,15,20,30],\"max_interval\":1800000.0,\"min_interval\":1000.0,\"num_minor_ticks\":0},\"id\":\"33aa1d22-db05-4b4b-b8b2-0665c10f7e6b\",\"type\":\"AdaptiveTicker\"},{\"attributes\":{\"bottom_units\":\"screen\",\"fill_alpha\":{\"value\":0.5},\"fill_color\":{\"value\":\"lightgrey\"},\"left_units\":\"screen\",\"level\":\"overlay\",\"line_alpha\":{\"value\":1.0},\"line_color\":{\"value\":\"black\"},\"line_dash\":[4,4],\"line_width\":{\"value\":2},\"plot\":null,\"render_mode\":\"css\",\"right_units\":\"screen\",\"top_units\":\"screen\"},\"id\":\"617abd5f-89a1-4c03-9f05-cb94e4d9d7b0\",\"type\":\"BoxAnnotation\"},{\"attributes\":{},\"id\":\"65a86fd3-faa3-4477-9c72-0fab7ed4c4ef\",\"type\":\"ResetTool\"},{\"attributes\":{},\"id\":\"675f5c0f-92c3-4547-99cc-2d4596f5d05f\",\"type\":\"BasicTickFormatter\"},{\"attributes\":{\"below\":[{\"id\":\"74dc0a7b-a5b5-4587-b015-4444b874c6ed\",\"type\":\"DatetimeAxis\"}],\"left\":[{\"id\":\"495ec270-4028-4b42-a4e9-e42aa1d4e0ab\",\"type\":\"LinearAxis\"}],\"renderers\":[{\"id\":\"74dc0a7b-a5b5-4587-b015-4444b874c6ed\",\"type\":\"DatetimeAxis\"},{\"id\":\"d9960be2-bb1e-4b40-8ff2-cc256c7a12fc\",\"type\":\"Grid\"},{\"id\":\"495ec270-4028-4b42-a4e9-e42aa1d4e0ab\",\"type\":\"LinearAxis\"},{\"id\":\"2b5990ec-eb88-4129-b7ac-6d4d01ef970b\",\"type\":\"Grid\"},{\"id\":\"7ea95462-fb07-425f-892d-7714a87200e9\",\"type\":\"BoxAnnotation\"},{\"id\":\"62db1496-0dd1-47f9-a94b-1c5be8a93c28\",\"type\":\"GlyphRenderer\"}],\"title\":{\"id\":\"1cee9c5c-f257-42b4-9212-c5605b0625b2\",\"type\":\"Title\"},\"toolbar\":{\"id\":\"a833d4b6-656a-4676-a925-0867ec477c32\",\"type\":\"Toolbar\"},\"x_range\":{\"id\":\"cfada448-c1a7-4986-b2c0-cbf8bfffc53f\",\"type\":\"DataRange1d\"},\"x_scale\":{\"id\":\"5fb45071-2a95-456e-b23b-951c11ff2635\",\"type\":\"LinearScale\"},\"y_range\":{\"id\":\"4a2cc8a3-bb7d-47d0-8f16-2b161ecf3fbc\",\"type\":\"DataRange1d\"},\"y_scale\":{\"id\":\"943dcfce-1620-41c7-9330-f29266f20513\",\"type\":\"LinearScale\"}},\"id\":\"74d0b7f1-92aa-4f56-902f-4e616a8f93f6\",\"subtype\":\"Figure\",\"type\":\"Plot\"},{\"attributes\":{},\"id\":\"c755283b-151b-4461-9a01-28b0d02d66bd\",\"type\":\"LinearScale\"},{\"attributes\":{},\"id\":\"9107a33e-18c8-40af-94cd-fae4f771ff84\",\"type\":\"HelpTool\"},{\"attributes\":{\"callback\":null},\"id\":\"cfada448-c1a7-4986-b2c0-cbf8bfffc53f\",\"type\":\"DataRange1d\"},{\"attributes\":{\"days\":[1,4,7,10,13,16,19,22,25,28]},\"id\":\"f5e5f678-d703-4030-90be-8e9dd74c953b\",\"type\":\"DaysTicker\"},{\"attributes\":{\"mantissas\":[1,2,5],\"max_interval\":500.0,\"num_minor_ticks\":0},\"id\":\"e805ab48-23b8-458e-8eb7-e2df6802ba0c\",\"type\":\"AdaptiveTicker\"},{\"attributes\":{\"bottom_units\":\"screen\",\"fill_alpha\":{\"value\":0.5},\"fill_color\":{\"value\":\"lightgrey\"},\"left_units\":\"screen\",\"level\":\"overlay\",\"line_alpha\":{\"value\":1.0},\"line_color\":{\"value\":\"black\"},\"line_dash\":[4,4],\"line_width\":{\"value\":2},\"plot\":null,\"render_mode\":\"css\",\"right_units\":\"screen\",\"top_units\":\"screen\"},\"id\":\"7ea95462-fb07-425f-892d-7714a87200e9\",\"type\":\"BoxAnnotation\"},{\"attributes\":{},\"id\":\"04eb331b-36ba-4570-a9ab-608154445bf8\",\"type\":\"DatetimeTickFormatter\"},{\"attributes\":{},\"id\":\"dff1c3fe-3d6d-4d41-a613-826e32a7bb39\",\"type\":\"SaveTool\"},{\"attributes\":{\"days\":[1,15]},\"id\":\"6e854d1a-356f-4267-8e1e-69c0c351828d\",\"type\":\"DaysTicker\"},{\"attributes\":{\"overlay\":{\"id\":\"7ea95462-fb07-425f-892d-7714a87200e9\",\"type\":\"BoxAnnotation\"}},\"id\":\"2dc48943-e85d-4d60-b5e2-81fba5c8be3d\",\"type\":\"BoxZoomTool\"},{\"attributes\":{\"overlay\":{\"id\":\"617abd5f-89a1-4c03-9f05-cb94e4d9d7b0\",\"type\":\"BoxAnnotation\"}},\"id\":\"cd23e2e5-f1db-468e-b9a3-9a0359d28101\",\"type\":\"BoxZoomTool\"},{\"attributes\":{},\"id\":\"7bf5e4be-c7d9-44e7-844a-4eeebdeafb91\",\"type\":\"BasicTickFormatter\"}],\"root_ids\":[\"a7f922c8-10fc-4e7e-9cef-3f4cbda22e48\"]},\"title\":\"Bokeh Application\",\"version\":\"0.12.10\"}};\n",
       "    var render_items = [{\"docid\":\"3ce11d66-2f04-4255-a928-f57856ef40da\",\"elementid\":\"fccd9636-1997-4ecc-afb3-2d848870e0f6\",\"modelid\":\"a7f922c8-10fc-4e7e-9cef-3f4cbda22e48\"}];\n",
       "\n",
       "    root.Bokeh.embed.embed_items(docs_json, render_items);\n",
       "  }\n",
       "\n",
       "  if (root.Bokeh !== undefined) {\n",
       "    embed_document(root);\n",
       "  } else {\n",
       "    var attempts = 0;\n",
       "    var timer = setInterval(function(root) {\n",
       "      if (root.Bokeh !== undefined) {\n",
       "        embed_document(root);\n",
       "        clearInterval(timer);\n",
       "      }\n",
       "      attempts++;\n",
       "      if (attempts > 100) {\n",
       "        console.log(\"Bokeh: ERROR: Unable to embed document because BokehJS library is missing\")\n",
       "        clearInterval(timer);\n",
       "      }\n",
       "    }, 10, root)\n",
       "  }\n",
       "})(window);"
      ],
      "application/vnd.bokehjs_exec.v0+json": ""
     },
     "metadata": {
      "application/vnd.bokehjs_exec.v0+json": {
       "id": "a7f922c8-10fc-4e7e-9cef-3f4cbda22e48"
      }
     },
     "output_type": "display_data"
    }
   ],
   "source": [
    "# Plot founded_amnt_inv vs \n",
    "#loan.sort(axis=1, inplace=True)\n",
    "#loan.info()\n",
    "# First, aggregate founded_amount by year and month\n",
    "loan_by_month_amnt = loan[[\"issue_d\",\"funded_amnt\"]].groupby(\"issue_d\", as_index=False).sum()\n",
    "loan_by_month_vol  = loan[[\"issue_d\",\"funded_amnt\"]].groupby(\"issue_d\", as_index=False).count()\n",
    "\n",
    "# Plot time series of both amount and volume\n",
    "x = loan_by_month_amnt[\"issue_d\"]\n",
    "y_amnt = loan_by_month_amnt[\"funded_amnt\"]\n",
    "y_vol = loan_by_month_vol[\"funded_amnt\"]\n",
    "\n",
    "p1 = figure(title=\"Funded Loan Amount over Years\", x_axis_label=\"Time\", y_axis_label=\"Loan in US$\", x_axis_type='datetime')\n",
    "p1.line(x, y_amnt, line_width=2)\n",
    "\n",
    "p2 = figure(title=\"Funded Loan Volume over Years\", x_axis_label=\"Time\", y_axis_label=\"Number of Loans Funded\", x_axis_type='datetime')\n",
    "p2.line(x, y_vol, line_width=2)\n",
    "\n",
    "layout = column(p1, p2)\n",
    "output_notebook()\n",
    "show(layout)"
   ]
  },
  {
   "cell_type": "markdown",
   "metadata": {
    "collapsed": true
   },
   "source": [
    "#### 2.Whether the loan amount and volume has geographic pattern?\n",
    "\n",
    "The loan amount and volume both show strong geographic pattern. By simply ranking the loan amount and loan volume, we see the top 10 States are the same with slightly change on ranking. California has the highest total loan amount as well as the volume."
   ]
  },
  {
   "cell_type": "code",
   "execution_count": 22,
   "metadata": {},
   "outputs": [
    {
     "name": "stdout",
     "output_type": "stream",
     "text": [
      "   addr_state   funded_amnt\n",
      "4          CA  1.896017e+09\n",
      "43         TX  1.108151e+09\n",
      "34         NY  1.075829e+09\n",
      "9          FL  8.480154e+08\n",
      "14         IL  5.386763e+08\n",
      "31         NJ  5.145831e+08\n",
      "38         PA  4.552488e+08\n",
      "10         GA  4.342597e+08\n",
      "35         OH  4.224189e+08\n",
      "45         VA  4.108803e+08\n",
      "   addr_state  funded_amnt\n",
      "4          CA       129517\n",
      "34         NY        74086\n",
      "43         TX        71138\n",
      "9          FL        60935\n",
      "14         IL        35476\n",
      "31         NJ        33256\n",
      "38         PA        31393\n",
      "35         OH        29631\n",
      "10         GA        29085\n",
      "45         VA        26255\n"
     ]
    }
   ],
   "source": [
    "# Aggregate funded_amnt by state\n",
    "loan_by_state_amnt = loan[[\"addr_state\",\"funded_amnt\"]].groupby(\"addr_state\", as_index=False).sum()\n",
    "loan_by_state_vol  = loan[[\"addr_state\",\"funded_amnt\"]].groupby(\"addr_state\", as_index=False).count()\n",
    "\n",
    "# Plot time series of both amount and volume\n",
    "x = loan_by_state_amnt[\"addr_state\"]\n",
    "y_amnt = loan_by_state_amnt[\"funded_amnt\"]\n",
    "y_vol = loan_by_state_vol[\"funded_amnt\"]\n",
    "\n",
    "print(loan_by_state_amnt.sort_values(by=\"funded_amnt\",ascending=False).head(10))\n",
    "print(loan_by_state_vol.sort_values(by=\"funded_amnt\", ascending=False).head(10))\n",
    "\n",
    "# Map this over US map with state boundaries under plotly\n"
   ]
  },
  {
   "cell_type": "code",
   "execution_count": 8,
   "metadata": {},
   "outputs": [],
   "source": [
    "# Plotly Example for maps\n",
    "# Create the map in R and attach it here\n"
   ]
  },
  {
   "cell_type": "markdown",
   "metadata": {
    "collapsed": true
   },
   "source": [
    "#### 3.How many categories does loan status have? How are they distributed?\n",
    "\n",
    "There are 10 categories of loan status as recorded by LendingClub, but there are some ambiguity such as \"Does not meet the credit policy...\", and the category selection causes fragmental distribution. It would make more sense to consolidate some of these categories. As a straightforward way, Current and Fully Paid should be good indicators, Issued should mean the loan is just issued but no more information, and others are all bad indicators because they are leading to the risk of being default.\n",
    "\n",
    "The loan_status variable was mapped to the three new categories above: Good, Bad, and Issued. In total we have 67429 bad loans, \n",
    "811490 good loans, and 8460 newly issued loans. The overall bad loan rate is 7.6%. The distribution is highly unbalanced!"
   ]
  },
  {
   "cell_type": "code",
   "execution_count": 8,
   "metadata": {},
   "outputs": [
    {
     "data": {
      "text/plain": [
       "loan_status\n",
       "Does not meet the credit policy. Status:Charged Off       761\n",
       "Default                                                  1219\n",
       "Does not meet the credit policy. Status:Fully Paid       1988\n",
       "Late (16-30 days)                                        2357\n",
       "In Grace Period                                          6253\n",
       "Issued                                                   8460\n",
       "Late (31-120 days)                                      11591\n",
       "Charged Off                                             45248\n",
       "Fully Paid                                             207723\n",
       "Current                                                601779\n",
       "dtype: int64"
      ]
     },
     "execution_count": 8,
     "metadata": {},
     "output_type": "execute_result"
    }
   ],
   "source": [
    "# Check loan_status\n",
    "loan.groupby(\"loan_status\").size().sort_values()"
   ]
  },
  {
   "cell_type": "code",
   "execution_count": 9,
   "metadata": {},
   "outputs": [
    {
     "data": {
      "text/plain": [
       "loan_status_simple\n",
       "Issued      8460\n",
       "Bad        67429\n",
       "Good      811490\n",
       "dtype: int64"
      ]
     },
     "execution_count": 9,
     "metadata": {},
     "output_type": "execute_result"
    }
   ],
   "source": [
    "# Recode the status to form a simpler status variable named loan_status_simple\n",
    "# Good (0): Current, Fully Paid\n",
    "# Bad (1):  Default, Late (all types), In Grace Period, Charge Off\n",
    "# Issued: leave blank for scoring\n",
    "\n",
    "loan_dict = {\n",
    "    \"Does not meet the credit policy. Status:Charged Off\": \"Bad\",\n",
    "    \"Default\": \"Bad\",\n",
    "    \"Does not meet the credit policy. Status:Fully Paid\": \"Good\",\n",
    "    \"Late (16-30 days)\": \"Bad\",\n",
    "    \"In Grace Period\": \"Bad\",\n",
    "    \"Issued\": \"Issued\",\n",
    "    \"Late (31-120 days)\":\"Bad\",\n",
    "    \"Charged Off\":\"Bad\",\n",
    "    \"Fully Paid\": \"Good\",\n",
    "    \"Current\": \"Good\"\n",
    "}\n",
    "loan[\"loan_status_simple\"] = loan[\"loan_status\"].map(loan_dict)\n",
    "\n",
    "# Potentially we can use the Good/Bad observations to score the Issued loans and estimate its risk of turning bad.\n",
    "loan_train = loan.loc[loan[\"loan_status\"] != \"Issued\", :]\n",
    "loan_holdout = loan.loc[loan[\"loan_status\"] == \"Issued\", :]\n",
    "\n",
    "# Check loan_status\n",
    "loan.groupby(\"loan_status_simple\").size().sort_values()"
   ]
  },
  {
   "cell_type": "code",
   "execution_count": 13,
   "metadata": {},
   "outputs": [
    {
     "data": {
      "image/png": "[encoded data removed]",
      "text/plain": [
       "<matplotlib.figure.Figure at 0x21d952e7ba8>"
      ]
     },
     "metadata": {},
     "output_type": "display_data"
    }
   ],
   "source": [
    "# Plot the newly created loan status variable: loan_status_simple\n",
    "#from bokeh.chart import Bar, BoxPlot, Histogram, Scatter\n",
    "#p = Bar(loan_train, label=\"loan_status_simple\", values=\"funded_amnt\", agg=\"count\")\n",
    "#show(p)\n",
    "sns.set()\n",
    "sns.countplot(x=\"loan_status_simple\", data=loan_train, color=\"green\")\n",
    "plt.title(\"Simplified Loan Status\")\n",
    "plt.show()"
   ]
  },
  {
   "cell_type": "markdown",
   "metadata": {
    "collapsed": true
   },
   "source": [
    "#### 4.The loan grade is expected to reflect the risk. Is this true?\n",
    "\n",
    "Through the plot and table, we can clearly see that the better the grade, the less the bad loan rate. Grade A has only 2.5% bad rate while Grade G has 23.1%, about 8 times higher! This shows that the grading system used by LendingClub is quite efficient."
   ]
  },
  {
   "cell_type": "code",
   "execution_count": 30,
   "metadata": {},
   "outputs": [
    {
     "name": "stdout",
     "output_type": "stream",
     "text": [
      "  grade  loan_status_simple\n",
      "0     A            0.024716\n",
      "1     B            0.052865\n",
      "2     C            0.077499\n",
      "3     D            0.113650\n",
      "4     E            0.137826\n",
      "5     F            0.190185\n",
      "6     G            0.231190\n"
     ]
    }
   ],
   "source": [
    "# Calculate the percentage of bad loans for each grade\n",
    "loan_by_grade = loan.groupby(\"grade\", as_index=False).agg({\"loan_status_simple\": lambda x: np.mean(x == \"Bad\")})\n",
    "print(loan_by_grade)"
   ]
  },
  {
   "cell_type": "code",
   "execution_count": 31,
   "metadata": {},
   "outputs": [
    {
     "data": {
      "image/png": "[encoded data removed]",
      "text/plain": [
       "<matplotlib.figure.Figure at 0x21d94c3aba8>"
      ]
     },
     "metadata": {},
     "output_type": "display_data"
    }
   ],
   "source": [
    "# Plot the result\n",
    "sns.set()\n",
    "sns.barplot(x=\"grade\", y=\"loan_status_simple\", data=loan_by_grade)\n",
    "plt.title(\"Bad Load Proportion by Grade\")\n",
    "plt.show()"
   ]
  },
  {
   "cell_type": "markdown",
   "metadata": {
    "collapsed": true
   },
   "source": [
    "#### 5.How are these loan used for? \n",
    "\n",
    "Although this question is not quite related to the loan status, our target for modeling, it would be interesting to know why the borrowers want to get loan, i.e. where did they intend to use the money.\n",
    "\n",
    "From the results it is pretty clear that the majority usage of loan is for debt consolidation, followed by credit card, which seems also somehow related to debt consolidation. Both categories occupy about 82% of total loans. As nowadays personal finance management course emphasizes, personal debt management is the key to financial stability and freedom. It makes sense the two categories are the major purposes of loan application."
   ]
  },
  {
   "cell_type": "code",
   "execution_count": 36,
   "metadata": {},
   "outputs": [
    {
     "name": "stdout",
     "output_type": "stream",
     "text": [
      "               purpose  loan_status_simple\n",
      "0                  car            0.009988\n",
      "1          credit_card            0.232349\n",
      "2   debt_consolidation            0.590745\n",
      "3          educational            0.000477\n",
      "4     home_improvement            0.058407\n",
      "5                house            0.004177\n",
      "6       major_purchase            0.019470\n",
      "7              medical            0.009624\n",
      "8               moving            0.006101\n",
      "9                other            0.048338\n",
      "10    renewable_energy            0.000648\n",
      "11      small_business            0.011694\n",
      "12            vacation            0.005337\n",
      "13             wedding            0.002645\n"
     ]
    }
   ],
   "source": [
    "# Calculate the percentage of loan usage defined by Purpose\n",
    "loan_by_purpose = loan.groupby(\"purpose\", as_index=False).agg({\"loan_status_simple\": lambda x: len(x)/len(loan)})\n",
    "print(loan_by_purpose)"
   ]
  },
  {
   "cell_type": "code",
   "execution_count": null,
   "metadata": {
    "collapsed": true
   },
   "outputs": [],
   "source": [
    "# Make a pie chart for loan_by_purpose\n",
    "# The slices will be ordered and plotted counter-clockwise\n",
    "labels = loan_by_purpose[\"purpose\"]\n",
    "sizes = loan_by_purpose[\"loan_status_simple\"]\n",
    "explode = (0, 0.1, 0.05, 0, 0, 0, 0, 0, 0, 0, 0, 0, 0, 0) \n",
    "\n",
    "fig1, ax1 = plt.subplots()\n",
    "ax1.pie(sizes, explode=explode, labels=labels, autopct='%1.1f%%', shadow=True, startangle=90)\n",
    "ax1.axis('equal')  # Equal aspect ratio ensures that pie is drawn as a circle.\n",
    "\n",
    "plt.show()"
   ]
  },
  {
   "cell_type": "code",
   "execution_count": null,
   "metadata": {
    "collapsed": true
   },
   "outputs": [],
   "source": []
  }
 ],
 "metadata": {
  "kernelspec": {
   "display_name": "Python 3",
   "language": "python",
   "name": "python3"
  },
  "language_info": {
   "codemirror_mode": {
    "name": "ipython",
    "version": 3
   },
   "file_extension": ".py",
   "mimetype": "text/x-python",
   "name": "python",
   "nbconvert_exporter": "python",
   "pygments_lexer": "ipython3",
   "version": "3.6.3"
  }
 },
 "nbformat": 4,
 "nbformat_minor": 2
}
