{
 "cells": [
  {
   "cell_type": "markdown",
   "metadata": {},
   "source": [
    "## Relax Inc. Challenge\n",
    "Solution provided by: Eugene Wen"
   ]
  },
  {
   "cell_type": "markdown",
   "metadata": {},
   "source": [
    "### Preparation"
   ]
  },
  {
   "cell_type": "code",
   "execution_count": 24,
   "metadata": {},
   "outputs": [],
   "source": [
    "# Setup\n",
    "import pandas as pd\n",
    "import numpy as np\n",
    "import matplotlib.pyplot as plt\n",
    "import seaborn as sns\n",
    "%matplotlib inline\n",
    "\n",
    "# Set defalut plot style as ggplot2 in R\n",
    "plt.style.use('ggplot')"
   ]
  },
  {
   "cell_type": "code",
   "execution_count": 25,
   "metadata": {},
   "outputs": [],
   "source": [
    "# Load datasets\n",
    "engagement = pd.read_csv(\"takehome_user_engagement.csv\")\n",
    "users = pd.read_csv(\"takehome_users.csv\", encoding='latin')"
   ]
  },
  {
   "cell_type": "code",
   "execution_count": 26,
   "metadata": {},
   "outputs": [
    {
     "name": "stdout",
     "output_type": "stream",
     "text": [
      "            time_stamp  user_id  visited\n",
      "0  2014-04-22 03:53:30        1        1\n",
      "1  2013-11-15 03:45:04        2        1\n",
      "2  2013-11-29 03:45:04        2        1\n",
      "3  2013-12-09 03:45:04        2        1\n",
      "4  2013-12-25 03:45:04        2        1\n",
      "   object_id        creation_time               name  \\\n",
      "0          1  2014-04-22 03:53:30     Clausen August   \n",
      "1          2  2013-11-15 03:45:04      Poole Matthew   \n",
      "2          3  2013-03-19 23:14:52  Bottrill Mitchell   \n",
      "3          4  2013-05-21 08:09:28    Clausen Nicklas   \n",
      "4          5  2013-01-17 10:14:20          Raw Grace   \n",
      "\n",
      "                        email creation_source  last_session_creation_time  \\\n",
      "0    AugustCClausen@yahoo.com    GUEST_INVITE                1.398139e+09   \n",
      "1      MatthewPoole@gustr.com      ORG_INVITE                1.396238e+09   \n",
      "2  MitchellBottrill@gustr.com      ORG_INVITE                1.363735e+09   \n",
      "3   NicklasSClausen@yahoo.com    GUEST_INVITE                1.369210e+09   \n",
      "4          GraceRaw@yahoo.com    GUEST_INVITE                1.358850e+09   \n",
      "\n",
      "   opted_in_to_mailing_list  enabled_for_marketing_drip  org_id  \\\n",
      "0                         1                           0      11   \n",
      "1                         0                           0       1   \n",
      "2                         0                           0      94   \n",
      "3                         0                           0       1   \n",
      "4                         0                           0     193   \n",
      "\n",
      "   invited_by_user_id  \n",
      "0             10803.0  \n",
      "1               316.0  \n",
      "2              1525.0  \n",
      "3              5151.0  \n",
      "4              5240.0  \n"
     ]
    }
   ],
   "source": [
    "# Check the loaded dataframes\n",
    "print(engagement.head(5))\n",
    "print(users.head(5))"
   ]
  },
  {
   "cell_type": "code",
   "execution_count": 27,
   "metadata": {},
   "outputs": [],
   "source": [
    "# Ensure all date-time variables are in correct format\n",
    "import datetime\n",
    "engagement['time_stamp'] = pd.to_datetime(engagement.time_stamp, format='%Y-%m-%d %X')\n",
    "users['creation_time'] = pd.to_datetime(users.creation_time, format='%Y-%m-%d %X')\n",
    "users['last_session_creation_time'] = users.last_session_creation_time.map(lambda data: datetime.datetime.utcfromtimestamp(data), na_action='ignore')"
   ]
  },
  {
   "cell_type": "code",
   "execution_count": 28,
   "metadata": {},
   "outputs": [
    {
     "name": "stdout",
     "output_type": "stream",
     "text": [
      "<class 'pandas.core.frame.DataFrame'>\n",
      "RangeIndex: 207917 entries, 0 to 207916\n",
      "Data columns (total 3 columns):\n",
      "time_stamp    207917 non-null datetime64[ns]\n",
      "user_id       207917 non-null int64\n",
      "visited       207917 non-null int64\n",
      "dtypes: datetime64[ns](1), int64(2)\n",
      "memory usage: 4.8 MB\n"
     ]
    }
   ],
   "source": [
    "engagement.info()"
   ]
  },
  {
   "cell_type": "code",
   "execution_count": 29,
   "metadata": {},
   "outputs": [
    {
     "name": "stdout",
     "output_type": "stream",
     "text": [
      "<class 'pandas.core.frame.DataFrame'>\n",
      "RangeIndex: 12000 entries, 0 to 11999\n",
      "Data columns (total 10 columns):\n",
      "object_id                     12000 non-null int64\n",
      "creation_time                 12000 non-null datetime64[ns]\n",
      "name                          12000 non-null object\n",
      "email                         12000 non-null object\n",
      "creation_source               12000 non-null object\n",
      "last_session_creation_time    8823 non-null datetime64[ns]\n",
      "opted_in_to_mailing_list      12000 non-null int64\n",
      "enabled_for_marketing_drip    12000 non-null int64\n",
      "org_id                        12000 non-null int64\n",
      "invited_by_user_id            6417 non-null float64\n",
      "dtypes: datetime64[ns](2), float64(1), int64(4), object(3)\n",
      "memory usage: 937.6+ KB\n"
     ]
    }
   ],
   "source": [
    "users.info()"
   ]
  },
  {
   "cell_type": "markdown",
   "metadata": {},
   "source": [
    "We noticed some missing values exist in users df but not in engagement. The last_session_creation_time probably has incorrect format. \n",
    "\n",
    "Check more on users data."
   ]
  },
  {
   "cell_type": "code",
   "execution_count": 30,
   "metadata": {},
   "outputs": [
    {
     "data": {
      "text/html": [
       "<div>\n",
       "<style scoped>\n",
       "    .dataframe tbody tr th:only-of-type {\n",
       "        vertical-align: middle;\n",
       "    }\n",
       "\n",
       "    .dataframe tbody tr th {\n",
       "        vertical-align: top;\n",
       "    }\n",
       "\n",
       "    .dataframe thead th {\n",
       "        text-align: right;\n",
       "    }\n",
       "</style>\n",
       "<table border=\"1\" class=\"dataframe\">\n",
       "  <thead>\n",
       "    <tr style=\"text-align: right;\">\n",
       "      <th></th>\n",
       "      <th>object_id</th>\n",
       "      <th>opted_in_to_mailing_list</th>\n",
       "      <th>enabled_for_marketing_drip</th>\n",
       "      <th>org_id</th>\n",
       "      <th>invited_by_user_id</th>\n",
       "    </tr>\n",
       "  </thead>\n",
       "  <tbody>\n",
       "    <tr>\n",
       "      <th>count</th>\n",
       "      <td>12000.00000</td>\n",
       "      <td>12000.000000</td>\n",
       "      <td>12000.000000</td>\n",
       "      <td>12000.000000</td>\n",
       "      <td>6417.000000</td>\n",
       "    </tr>\n",
       "    <tr>\n",
       "      <th>mean</th>\n",
       "      <td>6000.50000</td>\n",
       "      <td>0.249500</td>\n",
       "      <td>0.149333</td>\n",
       "      <td>141.884583</td>\n",
       "      <td>5962.957145</td>\n",
       "    </tr>\n",
       "    <tr>\n",
       "      <th>std</th>\n",
       "      <td>3464.24595</td>\n",
       "      <td>0.432742</td>\n",
       "      <td>0.356432</td>\n",
       "      <td>124.056723</td>\n",
       "      <td>3383.761968</td>\n",
       "    </tr>\n",
       "    <tr>\n",
       "      <th>min</th>\n",
       "      <td>1.00000</td>\n",
       "      <td>0.000000</td>\n",
       "      <td>0.000000</td>\n",
       "      <td>0.000000</td>\n",
       "      <td>3.000000</td>\n",
       "    </tr>\n",
       "    <tr>\n",
       "      <th>25%</th>\n",
       "      <td>3000.75000</td>\n",
       "      <td>0.000000</td>\n",
       "      <td>0.000000</td>\n",
       "      <td>29.000000</td>\n",
       "      <td>3058.000000</td>\n",
       "    </tr>\n",
       "    <tr>\n",
       "      <th>50%</th>\n",
       "      <td>6000.50000</td>\n",
       "      <td>0.000000</td>\n",
       "      <td>0.000000</td>\n",
       "      <td>108.000000</td>\n",
       "      <td>5954.000000</td>\n",
       "    </tr>\n",
       "    <tr>\n",
       "      <th>75%</th>\n",
       "      <td>9000.25000</td>\n",
       "      <td>0.000000</td>\n",
       "      <td>0.000000</td>\n",
       "      <td>238.250000</td>\n",
       "      <td>8817.000000</td>\n",
       "    </tr>\n",
       "    <tr>\n",
       "      <th>max</th>\n",
       "      <td>12000.00000</td>\n",
       "      <td>1.000000</td>\n",
       "      <td>1.000000</td>\n",
       "      <td>416.000000</td>\n",
       "      <td>11999.000000</td>\n",
       "    </tr>\n",
       "  </tbody>\n",
       "</table>\n",
       "</div>"
      ],
      "text/plain": [
       "         object_id  opted_in_to_mailing_list  enabled_for_marketing_drip  \\\n",
       "count  12000.00000              12000.000000                12000.000000   \n",
       "mean    6000.50000                  0.249500                    0.149333   \n",
       "std     3464.24595                  0.432742                    0.356432   \n",
       "min        1.00000                  0.000000                    0.000000   \n",
       "25%     3000.75000                  0.000000                    0.000000   \n",
       "50%     6000.50000                  0.000000                    0.000000   \n",
       "75%     9000.25000                  0.000000                    0.000000   \n",
       "max    12000.00000                  1.000000                    1.000000   \n",
       "\n",
       "             org_id  invited_by_user_id  \n",
       "count  12000.000000         6417.000000  \n",
       "mean     141.884583         5962.957145  \n",
       "std      124.056723         3383.761968  \n",
       "min        0.000000            3.000000  \n",
       "25%       29.000000         3058.000000  \n",
       "50%      108.000000         5954.000000  \n",
       "75%      238.250000         8817.000000  \n",
       "max      416.000000        11999.000000  "
      ]
     },
     "execution_count": 30,
     "metadata": {},
     "output_type": "execute_result"
    }
   ],
   "source": [
    "users.describe()"
   ]
  },
  {
   "cell_type": "markdown",
   "metadata": {},
   "source": [
    "It seems there are quite large portion of 0's in opted_in_to_mailing_list and enabled_for_marketing_drip. "
   ]
  },
  {
   "cell_type": "markdown",
   "metadata": {},
   "source": [
    "### Analysis\n",
    "In this section we attempt to derive the user adoption indicator and build predictive model using the provided datasets."
   ]
  },
  {
   "cell_type": "markdown",
   "metadata": {},
   "source": [
    "#### Define \"Adopted User\"\n",
    "A user who has logged into the product on three separated days in at least one seven-day period is considered as an Adopted User."
   ]
  },
  {
   "cell_type": "code",
   "execution_count": 31,
   "metadata": {},
   "outputs": [],
   "source": [
    "# First, filter out the users having more than 3 visits.\n",
    "# Any total visit count less than 3 would not qualify as adopted user anyway!\n",
    "eng3v = engagement.groupby('user_id').filter(lambda x: len(x) >= 3).reset_index(drop=True)"
   ]
  },
  {
   "cell_type": "code",
   "execution_count": 32,
   "metadata": {},
   "outputs": [],
   "source": [
    "# Then build a new dataframe with unique user_id and adoption status\n",
    "# Initialized to 0 for all isAdopted\n",
    "user_adp = pd.DataFrame(pd.unique(engagement.user_id), columns=['user_id'])\n",
    "user_adp['isAdopted'] = 0"
   ]
  },
  {
   "cell_type": "code",
   "execution_count": 33,
   "metadata": {},
   "outputs": [],
   "source": [
    "# Relabel adopted users\n",
    "# If the ith and (i+2)th timestamp has difference <= 7, this user is adopted by definition.\n",
    "from datetime import timedelta\n",
    "\n",
    "for user, status in user_adp.iterrows():\n",
    "    minDayDiff = timedelta(days=10)\n",
    "    temp = eng3v[eng3v.user_id==user].reset_index()\n",
    "    for pointer in range(len(temp)-2):\n",
    "        DayDiff = temp.loc[pointer+2].time_stamp - temp.loc[pointer].time_stamp\n",
    "        if minDayDiff > DayDiff:\n",
    "            minDayDiff = DayDiff\n",
    "    if minDayDiff <= timedelta(days=7):\n",
    "        user_adp.loc[user-1, 'isAdopted'] = 1"
   ]
  },
  {
   "cell_type": "code",
   "execution_count": 34,
   "metadata": {},
   "outputs": [],
   "source": [
    "# Add the adoption information to user dataset\n",
    "users = pd.merge(users, user_adp, left_on = 'object_id', right_on = 'user_id', how='left')"
   ]
  },
  {
   "cell_type": "code",
   "execution_count": 35,
   "metadata": {},
   "outputs": [
    {
     "name": "stdout",
     "output_type": "stream",
     "text": [
      "<class 'pandas.core.frame.DataFrame'>\n",
      "Int64Index: 12000 entries, 0 to 11999\n",
      "Data columns (total 12 columns):\n",
      "object_id                     12000 non-null int64\n",
      "creation_time                 12000 non-null datetime64[ns]\n",
      "name                          12000 non-null object\n",
      "email                         12000 non-null object\n",
      "creation_source               12000 non-null object\n",
      "last_session_creation_time    8823 non-null datetime64[ns]\n",
      "opted_in_to_mailing_list      12000 non-null int64\n",
      "enabled_for_marketing_drip    12000 non-null int64\n",
      "org_id                        12000 non-null int64\n",
      "invited_by_user_id            6417 non-null float64\n",
      "user_id                       8823 non-null float64\n",
      "isAdopted                     8823 non-null float64\n",
      "dtypes: datetime64[ns](2), float64(3), int64(4), object(3)\n",
      "memory usage: 1.2+ MB\n"
     ]
    }
   ],
   "source": [
    "users.info()"
   ]
  },
  {
   "cell_type": "code",
   "execution_count": 36,
   "metadata": {},
   "outputs": [
    {
     "data": {
      "text/plain": [
       "isAdopted\n",
       "0.0    7616\n",
       "1.0    1207\n",
       "dtype: int64"
      ]
     },
     "execution_count": 36,
     "metadata": {},
     "output_type": "execute_result"
    }
   ],
   "source": [
    "# Check the distribution of isAdopted\n",
    "users.groupby('isAdopted').size()"
   ]
  },
  {
   "cell_type": "code",
   "execution_count": 37,
   "metadata": {},
   "outputs": [
    {
     "data": {
      "text/plain": [
       "0.10058333333333333"
      ]
     },
     "execution_count": 37,
     "metadata": {},
     "output_type": "execute_result"
    }
   ],
   "source": [
    "sum(users.isAdopted == 1) / len(users)"
   ]
  },
  {
   "cell_type": "markdown",
   "metadata": {},
   "source": [
    "It seems only 10% of users are adopted users."
   ]
  },
  {
   "cell_type": "markdown",
   "metadata": {},
   "source": [
    "#### Feature Engineering"
   ]
  },
  {
   "cell_type": "code",
   "execution_count": 38,
   "metadata": {},
   "outputs": [],
   "source": [
    "# Parse email service providers from email address\n",
    "import re\n",
    "def extractEmailService(email=None):\n",
    "    if email != None:\n",
    "        site = re.search('@(.+?)\\.', email).group(1)\n",
    "        return site\n",
    "    else:\n",
    "        return None\n",
    "\n",
    "users['email_server'] = pd.Series([extractEmailService(email) for email in users['email']])"
   ]
  },
  {
   "cell_type": "code",
   "execution_count": 39,
   "metadata": {},
   "outputs": [],
   "source": [
    "# Encode categorical variables\n",
    "users['email_server_cat'] = users['email_server'].astype(\"category\").cat.codes\n",
    "users['creation_source_cat'] = users['creation_source'].astype(\"category\").cat.codes"
   ]
  },
  {
   "cell_type": "code",
   "execution_count": 45,
   "metadata": {},
   "outputs": [
    {
     "name": "stdout",
     "output_type": "stream",
     "text": [
      "<class 'pandas.core.frame.DataFrame'>\n",
      "Int64Index: 12000 entries, 0 to 11999\n",
      "Data columns (total 16 columns):\n",
      "object_id                     12000 non-null int64\n",
      "creation_time                 12000 non-null datetime64[ns]\n",
      "name                          12000 non-null object\n",
      "email                         12000 non-null object\n",
      "creation_source               12000 non-null object\n",
      "last_session_creation_time    8823 non-null datetime64[ns]\n",
      "opted_in_to_mailing_list      12000 non-null int64\n",
      "enabled_for_marketing_drip    12000 non-null int64\n",
      "org_id                        12000 non-null int64\n",
      "invited_by_user_id            6417 non-null float64\n",
      "user_id                       8823 non-null float64\n",
      "isAdopted                     8823 non-null float64\n",
      "email_server                  12000 non-null object\n",
      "email_server_cat              12000 non-null int16\n",
      "creation_source_cat           12000 non-null int8\n",
      "isInvited                     12000 non-null int64\n",
      "dtypes: datetime64[ns](2), float64(3), int16(1), int64(5), int8(1), object(4)\n",
      "memory usage: 1.4+ MB\n"
     ]
    }
   ],
   "source": [
    "users.info()"
   ]
  },
  {
   "cell_type": "markdown",
   "metadata": {},
   "source": [
    "There are a number of variables having missing values due to left join. We will fill these missing values."
   ]
  },
  {
   "cell_type": "code",
   "execution_count": 49,
   "metadata": {},
   "outputs": [],
   "source": [
    "# Fill NAN's\n",
    "if users.last_session_creation_time.isnull:\n",
    "    users['last_session_creation_time'] = users.creation_time\n",
    "users['isAdopted'] = users['isAdopted'].fillna(0)"
   ]
  },
  {
   "cell_type": "code",
   "execution_count": 51,
   "metadata": {},
   "outputs": [],
   "source": [
    "# Calculate the account history (acct_hist) as the difference between creation time and last act\n",
    "users['acct-hist'] = (users.last_session_creation_time - users.creation_time).astype('int64')"
   ]
  },
  {
   "cell_type": "code",
   "execution_count": 52,
   "metadata": {},
   "outputs": [],
   "source": [
    "# Create binary indicator\n",
    "if users.invited_by_user_id.isnull:\n",
    "    users['isInvited'] = 0\n",
    "else:\n",
    "    users['isInvited'] = 1"
   ]
  },
  {
   "cell_type": "code",
   "execution_count": 53,
   "metadata": {},
   "outputs": [],
   "source": [
    "# Drop all extra columns.\n",
    "drop_var = ['object_id', 'creation_time','name', 'email', 'creation_source', 'last_session_creation_time', \\\n",
    "            'invited_by_user_id', 'user_id', 'email_server']\n",
    "users_c = users.drop(drop_var, axis=1)"
   ]
  },
  {
   "cell_type": "code",
   "execution_count": 55,
   "metadata": {},
   "outputs": [
    {
     "data": {
      "text/html": [
       "<div>\n",
       "<style scoped>\n",
       "    .dataframe tbody tr th:only-of-type {\n",
       "        vertical-align: middle;\n",
       "    }\n",
       "\n",
       "    .dataframe tbody tr th {\n",
       "        vertical-align: top;\n",
       "    }\n",
       "\n",
       "    .dataframe thead th {\n",
       "        text-align: right;\n",
       "    }\n",
       "</style>\n",
       "<table border=\"1\" class=\"dataframe\">\n",
       "  <thead>\n",
       "    <tr style=\"text-align: right;\">\n",
       "      <th></th>\n",
       "      <th>opted_in_to_mailing_list</th>\n",
       "      <th>enabled_for_marketing_drip</th>\n",
       "      <th>org_id</th>\n",
       "      <th>isAdopted</th>\n",
       "      <th>email_server_cat</th>\n",
       "      <th>creation_source_cat</th>\n",
       "      <th>isInvited</th>\n",
       "      <th>acct-hist</th>\n",
       "    </tr>\n",
       "  </thead>\n",
       "  <tbody>\n",
       "    <tr>\n",
       "      <th>0</th>\n",
       "      <td>1</td>\n",
       "      <td>0</td>\n",
       "      <td>11</td>\n",
       "      <td>0.0</td>\n",
       "      <td>1112</td>\n",
       "      <td>0</td>\n",
       "      <td>0</td>\n",
       "      <td>0</td>\n",
       "    </tr>\n",
       "    <tr>\n",
       "      <th>1</th>\n",
       "      <td>0</td>\n",
       "      <td>0</td>\n",
       "      <td>1</td>\n",
       "      <td>1.0</td>\n",
       "      <td>306</td>\n",
       "      <td>1</td>\n",
       "      <td>0</td>\n",
       "      <td>0</td>\n",
       "    </tr>\n",
       "    <tr>\n",
       "      <th>2</th>\n",
       "      <td>0</td>\n",
       "      <td>0</td>\n",
       "      <td>94</td>\n",
       "      <td>0.0</td>\n",
       "      <td>306</td>\n",
       "      <td>1</td>\n",
       "      <td>0</td>\n",
       "      <td>0</td>\n",
       "    </tr>\n",
       "    <tr>\n",
       "      <th>3</th>\n",
       "      <td>0</td>\n",
       "      <td>0</td>\n",
       "      <td>1</td>\n",
       "      <td>0.0</td>\n",
       "      <td>1112</td>\n",
       "      <td>0</td>\n",
       "      <td>0</td>\n",
       "      <td>0</td>\n",
       "    </tr>\n",
       "    <tr>\n",
       "      <th>4</th>\n",
       "      <td>0</td>\n",
       "      <td>0</td>\n",
       "      <td>193</td>\n",
       "      <td>0.0</td>\n",
       "      <td>1112</td>\n",
       "      <td>0</td>\n",
       "      <td>0</td>\n",
       "      <td>0</td>\n",
       "    </tr>\n",
       "  </tbody>\n",
       "</table>\n",
       "</div>"
      ],
      "text/plain": [
       "   opted_in_to_mailing_list  enabled_for_marketing_drip  org_id  isAdopted  \\\n",
       "0                         1                           0      11        0.0   \n",
       "1                         0                           0       1        1.0   \n",
       "2                         0                           0      94        0.0   \n",
       "3                         0                           0       1        0.0   \n",
       "4                         0                           0     193        0.0   \n",
       "\n",
       "   email_server_cat  creation_source_cat  isInvited  acct-hist  \n",
       "0              1112                    0          0          0  \n",
       "1               306                    1          0          0  \n",
       "2               306                    1          0          0  \n",
       "3              1112                    0          0          0  \n",
       "4              1112                    0          0          0  "
      ]
     },
     "execution_count": 55,
     "metadata": {},
     "output_type": "execute_result"
    }
   ],
   "source": [
    "users_c.head()"
   ]
  },
  {
   "cell_type": "markdown",
   "metadata": {},
   "source": [
    "### Modeling"
   ]
  },
  {
   "cell_type": "code",
   "execution_count": 56,
   "metadata": {},
   "outputs": [],
   "source": [
    "# Import needed functions\n",
    "from sklearn.model_selection import train_test_split\n",
    "from sklearn.metrics import classification_report\n",
    "from sklearn.ensemble import RandomForestClassifier"
   ]
  },
  {
   "cell_type": "code",
   "execution_count": 65,
   "metadata": {},
   "outputs": [],
   "source": [
    "users_c_1 = users_c[users_c.isAdopted == 1]\n",
    "users_c_0 = users_c[users_c.isAdopted == 0]"
   ]
  },
  {
   "cell_type": "code",
   "execution_count": 66,
   "metadata": {},
   "outputs": [],
   "source": [
    "from sklearn.utils import resample\n",
    "users_c_1_upsampled = resample(users_c_1, replace=True, n_samples=10000, random_state=123)"
   ]
  },
  {
   "cell_type": "code",
   "execution_count": 67,
   "metadata": {},
   "outputs": [
    {
     "name": "stdout",
     "output_type": "stream",
     "text": [
      "<class 'pandas.core.frame.DataFrame'>\n",
      "Int64Index: 10000 entries, 11197 to 6176\n",
      "Data columns (total 8 columns):\n",
      "opted_in_to_mailing_list      10000 non-null int64\n",
      "enabled_for_marketing_drip    10000 non-null int64\n",
      "org_id                        10000 non-null int64\n",
      "isAdopted                     10000 non-null float64\n",
      "email_server_cat              10000 non-null int16\n",
      "creation_source_cat           10000 non-null int8\n",
      "isInvited                     10000 non-null int64\n",
      "acct-hist                     10000 non-null int64\n",
      "dtypes: float64(1), int16(1), int64(5), int8(1)\n",
      "memory usage: 576.2 KB\n"
     ]
    }
   ],
   "source": [
    "users_c_1_upsampled.info()"
   ]
  },
  {
   "cell_type": "code",
   "execution_count": 68,
   "metadata": {},
   "outputs": [
    {
     "data": {
      "text/plain": [
       "0.0    10793\n",
       "1.0    10000\n",
       "Name: isAdopted, dtype: int64"
      ]
     },
     "execution_count": 68,
     "metadata": {},
     "output_type": "execute_result"
    }
   ],
   "source": [
    "users_c2 = pd.concat([users_c_0, users_c_1_upsampled])\n",
    "users_c2['isAdopted'].value_counts()"
   ]
  },
  {
   "cell_type": "code",
   "execution_count": 71,
   "metadata": {},
   "outputs": [
    {
     "data": {
      "text/html": [
       "<div>\n",
       "<style scoped>\n",
       "    .dataframe tbody tr th:only-of-type {\n",
       "        vertical-align: middle;\n",
       "    }\n",
       "\n",
       "    .dataframe tbody tr th {\n",
       "        vertical-align: top;\n",
       "    }\n",
       "\n",
       "    .dataframe thead th {\n",
       "        text-align: right;\n",
       "    }\n",
       "</style>\n",
       "<table border=\"1\" class=\"dataframe\">\n",
       "  <thead>\n",
       "    <tr style=\"text-align: right;\">\n",
       "      <th></th>\n",
       "      <th>opted_in_to_mailing_list</th>\n",
       "      <th>enabled_for_marketing_drip</th>\n",
       "      <th>org_id</th>\n",
       "      <th>email_server_cat</th>\n",
       "      <th>creation_source_cat</th>\n",
       "      <th>isInvited</th>\n",
       "      <th>acct-hist</th>\n",
       "    </tr>\n",
       "  </thead>\n",
       "  <tbody>\n",
       "    <tr>\n",
       "      <th>0</th>\n",
       "      <td>1</td>\n",
       "      <td>0</td>\n",
       "      <td>11</td>\n",
       "      <td>1112</td>\n",
       "      <td>0</td>\n",
       "      <td>0</td>\n",
       "      <td>0</td>\n",
       "    </tr>\n",
       "    <tr>\n",
       "      <th>2</th>\n",
       "      <td>0</td>\n",
       "      <td>0</td>\n",
       "      <td>94</td>\n",
       "      <td>306</td>\n",
       "      <td>1</td>\n",
       "      <td>0</td>\n",
       "      <td>0</td>\n",
       "    </tr>\n",
       "    <tr>\n",
       "      <th>3</th>\n",
       "      <td>0</td>\n",
       "      <td>0</td>\n",
       "      <td>1</td>\n",
       "      <td>1112</td>\n",
       "      <td>0</td>\n",
       "      <td>0</td>\n",
       "      <td>0</td>\n",
       "    </tr>\n",
       "    <tr>\n",
       "      <th>4</th>\n",
       "      <td>0</td>\n",
       "      <td>0</td>\n",
       "      <td>193</td>\n",
       "      <td>1112</td>\n",
       "      <td>0</td>\n",
       "      <td>0</td>\n",
       "      <td>0</td>\n",
       "    </tr>\n",
       "    <tr>\n",
       "      <th>5</th>\n",
       "      <td>0</td>\n",
       "      <td>0</td>\n",
       "      <td>197</td>\n",
       "      <td>1112</td>\n",
       "      <td>0</td>\n",
       "      <td>0</td>\n",
       "      <td>0</td>\n",
       "    </tr>\n",
       "  </tbody>\n",
       "</table>\n",
       "</div>"
      ],
      "text/plain": [
       "   opted_in_to_mailing_list  enabled_for_marketing_drip  org_id  \\\n",
       "0                         1                           0      11   \n",
       "2                         0                           0      94   \n",
       "3                         0                           0       1   \n",
       "4                         0                           0     193   \n",
       "5                         0                           0     197   \n",
       "\n",
       "   email_server_cat  creation_source_cat  isInvited  acct-hist  \n",
       "0              1112                    0          0          0  \n",
       "2               306                    1          0          0  \n",
       "3              1112                    0          0          0  \n",
       "4              1112                    0          0          0  \n",
       "5              1112                    0          0          0  "
      ]
     },
     "execution_count": 71,
     "metadata": {},
     "output_type": "execute_result"
    }
   ],
   "source": [
    "X = users_c2.drop('isAdopted', axis=1)\n",
    "X.head()"
   ]
  },
  {
   "cell_type": "code",
   "execution_count": 73,
   "metadata": {},
   "outputs": [
    {
     "name": "stdout",
     "output_type": "stream",
     "text": [
      "Training Report\n",
      "             precision    recall  f1-score   support\n",
      "\n",
      "        0.0       0.98      0.90      0.94      7231\n",
      "        1.0       0.90      0.98      0.94      6700\n",
      "\n",
      "avg / total       0.94      0.94      0.94     13931\n",
      "\n",
      "Testing Report\n",
      "             precision    recall  f1-score   support\n",
      "\n",
      "        0.0       0.96      0.80      0.87      3562\n",
      "        1.0       0.82      0.96      0.89      3300\n",
      "\n",
      "avg / total       0.89      0.88      0.88      6862\n",
      "\n"
     ]
    }
   ],
   "source": [
    "# Randomly split the data into training and test sets\n",
    "\n",
    "X_train, X_test, y_train, y_test = train_test_split(X, users_c2.isAdopted, test_size=0.33, \\\n",
    "                                                    random_state=42, stratify=users_c2.isAdopted)\n",
    "\n",
    "# Train random forest model\n",
    "\n",
    "clf = RandomForestClassifier(n_estimators=10,class_weight='balanced_subsample')\n",
    "clf.fit(X_train, y_train)\n",
    "\n",
    "print('Training Report')\n",
    "predictions = clf.predict(X_train)\n",
    "report1 = classification_report(y_true = np.array(y_train), y_pred = predictions)\n",
    "print(report1)\n",
    "\n",
    "print('Testing Report')\n",
    "predictions = clf.predict(X_test)\n",
    "report2 = classification_report(y_true = np.array(y_test), y_pred = predictions)\n",
    "print(report2)"
   ]
  },
  {
   "cell_type": "code",
   "execution_count": 76,
   "metadata": {},
   "outputs": [
    {
     "name": "stdout",
     "output_type": "stream",
     "text": [
      "Feature importance based on Random Forest Classifier:\n",
      "*****************************************************\n",
      "org_id                        0.767884\n",
      "email_server_cat              0.172842\n",
      "creation_source_cat           0.043998\n",
      "opted_in_to_mailing_list      0.009155\n",
      "enabled_for_marketing_drip    0.006121\n",
      "acct-hist                     0.000000\n",
      "isInvited                     0.000000\n",
      "dtype: float64\n",
      "Feature ranking:\n",
      "1. org_id (0.767884)\n",
      "2. email_server_cat (0.172842)\n",
      "3. creation_source_cat (0.043998)\n",
      "4. opted_in_to_mailing_list (0.009155)\n",
      "5. enabled_for_marketing_drip (0.006121)\n",
      "6. acct-hist (0.000000)\n",
      "7. isInvited (0.000000)\n"
     ]
    },
    {
     "data": {
      "image/png": "[encoded data removed]",
      "text/plain": [
       "<matplotlib.figure.Figure at 0x12581dd8>"
      ]
     },
     "metadata": {},
     "output_type": "display_data"
    }
   ],
   "source": [
    "# Feature Importance\n",
    "feature_name = X.columns.tolist()\n",
    "feature_importance = pd.Series(clf.feature_importances_, index=feature_name).sort_values(ascending=False)\n",
    "print(\"Feature importance based on Random Forest Classifier:\")\n",
    "print(\"*****************************************************\")\n",
    "print(feature_importance)\n",
    "\n",
    "\n",
    "importances = clf.feature_importances_\n",
    "std = np.std([tree.feature_importances_ for tree in clf.estimators_],\n",
    "             axis=0)\n",
    "indices = np.argsort(importances)[::-1]\n",
    "\n",
    "# Print the feature ranking\n",
    "print(\"Feature ranking:\")\n",
    "\n",
    "for f in range(X_train.shape[1]):\n",
    "    print(\"%d. %s (%f)\" % (f + 1, X_train.columns.values[indices[f]], importances[indices[f]]))\n",
    "    #print(\"%d. %d (%f)\" % (f + 1, indices[f], importances[indices[f]]))\n",
    "\n",
    "    \n",
    "# Plot the feature importances of the forest\n",
    "plt.figure()\n",
    "plt.title(\"Feature importances\")\n",
    "plt.bar(range(X_train.shape[1]), importances[indices],\n",
    "       color=\"b\", yerr=std[indices], align=\"center\")\n",
    "#plt.xticks(X_train.columns.values, indices)\n",
    "plt.xticks(range(X_train.shape[1]), X_train.columns.values[indices],rotation=90)\n",
    "plt.xlim([-1, X_train.shape[1]])\n",
    "plt.show()"
   ]
  },
  {
   "cell_type": "markdown",
   "metadata": {},
   "source": [
    "### Conclusion\n",
    "From the feature importance ranking we see that Organization affiliation plays the key role in predicint future user adoption, followed by the email service provider (this may be also related to organization!). The prediction accuracy on testing set, with a quick build of random forest model, can reach to 90%."
   ]
  },
  {
   "cell_type": "code",
   "execution_count": null,
   "metadata": {},
   "outputs": [],
   "source": []
  },
  {
   "cell_type": "code",
   "execution_count": null,
   "metadata": {},
   "outputs": [],
   "source": []
  },
  {
   "cell_type": "code",
   "execution_count": null,
   "metadata": {},
   "outputs": [],
   "source": []
  },
  {
   "cell_type": "code",
   "execution_count": null,
   "metadata": {},
   "outputs": [],
   "source": []
  }
 ],
 "metadata": {
  "kernelspec": {
   "display_name": "Python 3",
   "language": "python",
   "name": "python3"
  },
  "language_info": {
   "codemirror_mode": {
    "name": "ipython",
    "version": 3
   },
   "file_extension": ".py",
   "mimetype": "text/x-python",
   "name": "python",
   "nbconvert_exporter": "python",
   "pygments_lexer": "ipython3",
   "version": "3.6.4"
  }
 },
 "nbformat": 4,
 "nbformat_minor": 2
}
